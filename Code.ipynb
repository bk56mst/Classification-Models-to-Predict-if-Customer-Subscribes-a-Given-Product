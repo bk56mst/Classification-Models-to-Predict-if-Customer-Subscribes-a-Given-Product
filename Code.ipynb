{
 "cells": [
  {
   "cell_type": "markdown",
   "metadata": {},
   "source": [
    "## Import Libraries"
   ]
  },
  {
   "cell_type": "code",
   "execution_count": 1,
   "metadata": {},
   "outputs": [],
   "source": [
    "import pandas as pd\n",
    "import numpy as np\n",
    "import matplotlib.pyplot as plt\n",
    "import seaborn as sns\n",
    "%matplotlib inline\n",
    "import warnings\n",
    "warnings.filterwarnings('ignore')"
   ]
  },
  {
   "cell_type": "markdown",
   "metadata": {},
   "source": [
    "## Load training dataset"
   ]
  },
  {
   "cell_type": "code",
   "execution_count": 2,
   "metadata": {
    "scrolled": true
   },
   "outputs": [
    {
     "data": {
      "text/html": [
       "<div>\n",
       "<style scoped>\n",
       "    .dataframe tbody tr th:only-of-type {\n",
       "        vertical-align: middle;\n",
       "    }\n",
       "\n",
       "    .dataframe tbody tr th {\n",
       "        vertical-align: top;\n",
       "    }\n",
       "\n",
       "    .dataframe thead th {\n",
       "        text-align: right;\n",
       "    }\n",
       "</style>\n",
       "<table border=\"1\" class=\"dataframe\">\n",
       "  <thead>\n",
       "    <tr style=\"text-align: right;\">\n",
       "      <th></th>\n",
       "      <th>age</th>\n",
       "      <th>job</th>\n",
       "      <th>marital</th>\n",
       "      <th>education</th>\n",
       "      <th>default</th>\n",
       "      <th>balance</th>\n",
       "      <th>housing</th>\n",
       "      <th>loan</th>\n",
       "      <th>contact</th>\n",
       "      <th>day</th>\n",
       "      <th>month</th>\n",
       "      <th>duration</th>\n",
       "      <th>campaign</th>\n",
       "      <th>pdays</th>\n",
       "      <th>previous</th>\n",
       "      <th>poutcome</th>\n",
       "      <th>y</th>\n",
       "    </tr>\n",
       "  </thead>\n",
       "  <tbody>\n",
       "    <tr>\n",
       "      <th>0</th>\n",
       "      <td>58</td>\n",
       "      <td>management</td>\n",
       "      <td>married</td>\n",
       "      <td>tertiary</td>\n",
       "      <td>no</td>\n",
       "      <td>2143</td>\n",
       "      <td>yes</td>\n",
       "      <td>no</td>\n",
       "      <td>unknown</td>\n",
       "      <td>5</td>\n",
       "      <td>may</td>\n",
       "      <td>261</td>\n",
       "      <td>1</td>\n",
       "      <td>-1</td>\n",
       "      <td>0</td>\n",
       "      <td>unknown</td>\n",
       "      <td>0</td>\n",
       "    </tr>\n",
       "    <tr>\n",
       "      <th>1</th>\n",
       "      <td>44</td>\n",
       "      <td>technician</td>\n",
       "      <td>single</td>\n",
       "      <td>secondary</td>\n",
       "      <td>no</td>\n",
       "      <td>29</td>\n",
       "      <td>yes</td>\n",
       "      <td>no</td>\n",
       "      <td>unknown</td>\n",
       "      <td>5</td>\n",
       "      <td>may</td>\n",
       "      <td>151</td>\n",
       "      <td>1</td>\n",
       "      <td>-1</td>\n",
       "      <td>0</td>\n",
       "      <td>unknown</td>\n",
       "      <td>0</td>\n",
       "    </tr>\n",
       "    <tr>\n",
       "      <th>2</th>\n",
       "      <td>33</td>\n",
       "      <td>entrepreneur</td>\n",
       "      <td>married</td>\n",
       "      <td>secondary</td>\n",
       "      <td>no</td>\n",
       "      <td>2</td>\n",
       "      <td>yes</td>\n",
       "      <td>yes</td>\n",
       "      <td>unknown</td>\n",
       "      <td>5</td>\n",
       "      <td>may</td>\n",
       "      <td>76</td>\n",
       "      <td>1</td>\n",
       "      <td>-1</td>\n",
       "      <td>0</td>\n",
       "      <td>unknown</td>\n",
       "      <td>0</td>\n",
       "    </tr>\n",
       "    <tr>\n",
       "      <th>3</th>\n",
       "      <td>47</td>\n",
       "      <td>blue-collar</td>\n",
       "      <td>married</td>\n",
       "      <td>unknown</td>\n",
       "      <td>no</td>\n",
       "      <td>1506</td>\n",
       "      <td>yes</td>\n",
       "      <td>no</td>\n",
       "      <td>unknown</td>\n",
       "      <td>5</td>\n",
       "      <td>may</td>\n",
       "      <td>92</td>\n",
       "      <td>1</td>\n",
       "      <td>-1</td>\n",
       "      <td>0</td>\n",
       "      <td>unknown</td>\n",
       "      <td>0</td>\n",
       "    </tr>\n",
       "    <tr>\n",
       "      <th>4</th>\n",
       "      <td>35</td>\n",
       "      <td>management</td>\n",
       "      <td>married</td>\n",
       "      <td>tertiary</td>\n",
       "      <td>no</td>\n",
       "      <td>231</td>\n",
       "      <td>yes</td>\n",
       "      <td>no</td>\n",
       "      <td>unknown</td>\n",
       "      <td>5</td>\n",
       "      <td>may</td>\n",
       "      <td>139</td>\n",
       "      <td>1</td>\n",
       "      <td>-1</td>\n",
       "      <td>0</td>\n",
       "      <td>unknown</td>\n",
       "      <td>0</td>\n",
       "    </tr>\n",
       "    <tr>\n",
       "      <th>5</th>\n",
       "      <td>28</td>\n",
       "      <td>management</td>\n",
       "      <td>single</td>\n",
       "      <td>tertiary</td>\n",
       "      <td>no</td>\n",
       "      <td>447</td>\n",
       "      <td>yes</td>\n",
       "      <td>yes</td>\n",
       "      <td>unknown</td>\n",
       "      <td>5</td>\n",
       "      <td>may</td>\n",
       "      <td>217</td>\n",
       "      <td>1</td>\n",
       "      <td>-1</td>\n",
       "      <td>0</td>\n",
       "      <td>unknown</td>\n",
       "      <td>0</td>\n",
       "    </tr>\n",
       "    <tr>\n",
       "      <th>6</th>\n",
       "      <td>58</td>\n",
       "      <td>retired</td>\n",
       "      <td>married</td>\n",
       "      <td>primary</td>\n",
       "      <td>no</td>\n",
       "      <td>121</td>\n",
       "      <td>yes</td>\n",
       "      <td>no</td>\n",
       "      <td>unknown</td>\n",
       "      <td>5</td>\n",
       "      <td>may</td>\n",
       "      <td>50</td>\n",
       "      <td>1</td>\n",
       "      <td>-1</td>\n",
       "      <td>0</td>\n",
       "      <td>unknown</td>\n",
       "      <td>0</td>\n",
       "    </tr>\n",
       "    <tr>\n",
       "      <th>7</th>\n",
       "      <td>29</td>\n",
       "      <td>admin.</td>\n",
       "      <td>single</td>\n",
       "      <td>secondary</td>\n",
       "      <td>no</td>\n",
       "      <td>390</td>\n",
       "      <td>yes</td>\n",
       "      <td>no</td>\n",
       "      <td>unknown</td>\n",
       "      <td>5</td>\n",
       "      <td>may</td>\n",
       "      <td>137</td>\n",
       "      <td>1</td>\n",
       "      <td>-1</td>\n",
       "      <td>0</td>\n",
       "      <td>unknown</td>\n",
       "      <td>0</td>\n",
       "    </tr>\n",
       "    <tr>\n",
       "      <th>8</th>\n",
       "      <td>58</td>\n",
       "      <td>technician</td>\n",
       "      <td>married</td>\n",
       "      <td>unknown</td>\n",
       "      <td>no</td>\n",
       "      <td>71</td>\n",
       "      <td>yes</td>\n",
       "      <td>no</td>\n",
       "      <td>unknown</td>\n",
       "      <td>5</td>\n",
       "      <td>may</td>\n",
       "      <td>71</td>\n",
       "      <td>1</td>\n",
       "      <td>-1</td>\n",
       "      <td>0</td>\n",
       "      <td>unknown</td>\n",
       "      <td>0</td>\n",
       "    </tr>\n",
       "    <tr>\n",
       "      <th>9</th>\n",
       "      <td>57</td>\n",
       "      <td>services</td>\n",
       "      <td>married</td>\n",
       "      <td>secondary</td>\n",
       "      <td>no</td>\n",
       "      <td>162</td>\n",
       "      <td>yes</td>\n",
       "      <td>no</td>\n",
       "      <td>unknown</td>\n",
       "      <td>5</td>\n",
       "      <td>may</td>\n",
       "      <td>174</td>\n",
       "      <td>1</td>\n",
       "      <td>-1</td>\n",
       "      <td>0</td>\n",
       "      <td>unknown</td>\n",
       "      <td>0</td>\n",
       "    </tr>\n",
       "  </tbody>\n",
       "</table>\n",
       "</div>"
      ],
      "text/plain": [
       "   age           job  marital  education default  balance housing loan  \\\n",
       "0   58    management  married   tertiary      no     2143     yes   no   \n",
       "1   44    technician   single  secondary      no       29     yes   no   \n",
       "2   33  entrepreneur  married  secondary      no        2     yes  yes   \n",
       "3   47   blue-collar  married    unknown      no     1506     yes   no   \n",
       "4   35    management  married   tertiary      no      231     yes   no   \n",
       "5   28    management   single   tertiary      no      447     yes  yes   \n",
       "6   58       retired  married    primary      no      121     yes   no   \n",
       "7   29        admin.   single  secondary      no      390     yes   no   \n",
       "8   58    technician  married    unknown      no       71     yes   no   \n",
       "9   57      services  married  secondary      no      162     yes   no   \n",
       "\n",
       "   contact  day month  duration  campaign  pdays  previous poutcome  y  \n",
       "0  unknown    5   may       261         1     -1         0  unknown  0  \n",
       "1  unknown    5   may       151         1     -1         0  unknown  0  \n",
       "2  unknown    5   may        76         1     -1         0  unknown  0  \n",
       "3  unknown    5   may        92         1     -1         0  unknown  0  \n",
       "4  unknown    5   may       139         1     -1         0  unknown  0  \n",
       "5  unknown    5   may       217         1     -1         0  unknown  0  \n",
       "6  unknown    5   may        50         1     -1         0  unknown  0  \n",
       "7  unknown    5   may       137         1     -1         0  unknown  0  \n",
       "8  unknown    5   may        71         1     -1         0  unknown  0  \n",
       "9  unknown    5   may       174         1     -1         0  unknown  0  "
      ]
     },
     "execution_count": 2,
     "metadata": {},
     "output_type": "execute_result"
    }
   ],
   "source": [
    "df = pd.read_csv('train.csv')\n",
    "df.head(10)"
   ]
  },
  {
   "cell_type": "code",
   "execution_count": 3,
   "metadata": {},
   "outputs": [
    {
     "data": {
      "text/plain": [
       "(22606, 17)"
      ]
     },
     "execution_count": 3,
     "metadata": {},
     "output_type": "execute_result"
    }
   ],
   "source": [
    "df.shape"
   ]
  },
  {
   "cell_type": "code",
   "execution_count": 4,
   "metadata": {},
   "outputs": [
    {
     "name": "stdout",
     "output_type": "stream",
     "text": [
      "<class 'pandas.core.frame.DataFrame'>\n",
      "RangeIndex: 22606 entries, 0 to 22605\n",
      "Data columns (total 17 columns):\n",
      "age          22606 non-null int64\n",
      "job          22606 non-null object\n",
      "marital      22606 non-null object\n",
      "education    22606 non-null object\n",
      "default      22606 non-null object\n",
      "balance      22606 non-null int64\n",
      "housing      22606 non-null object\n",
      "loan         22606 non-null object\n",
      "contact      22606 non-null object\n",
      "day          22606 non-null int64\n",
      "month        22606 non-null object\n",
      "duration     22606 non-null int64\n",
      "campaign     22606 non-null int64\n",
      "pdays        22606 non-null int64\n",
      "previous     22606 non-null int64\n",
      "poutcome     22606 non-null object\n",
      "y            22606 non-null int64\n",
      "dtypes: int64(8), object(9)\n",
      "memory usage: 2.9+ MB\n"
     ]
    }
   ],
   "source": [
    "df.info()"
   ]
  },
  {
   "cell_type": "code",
   "execution_count": 5,
   "metadata": {
    "scrolled": true
   },
   "outputs": [
    {
     "data": {
      "text/html": [
       "<div>\n",
       "<style scoped>\n",
       "    .dataframe tbody tr th:only-of-type {\n",
       "        vertical-align: middle;\n",
       "    }\n",
       "\n",
       "    .dataframe tbody tr th {\n",
       "        vertical-align: top;\n",
       "    }\n",
       "\n",
       "    .dataframe thead th {\n",
       "        text-align: right;\n",
       "    }\n",
       "</style>\n",
       "<table border=\"1\" class=\"dataframe\">\n",
       "  <thead>\n",
       "    <tr style=\"text-align: right;\">\n",
       "      <th></th>\n",
       "      <th>age</th>\n",
       "      <th>balance</th>\n",
       "      <th>day</th>\n",
       "      <th>duration</th>\n",
       "      <th>campaign</th>\n",
       "      <th>pdays</th>\n",
       "      <th>previous</th>\n",
       "      <th>y</th>\n",
       "    </tr>\n",
       "  </thead>\n",
       "  <tbody>\n",
       "    <tr>\n",
       "      <th>count</th>\n",
       "      <td>22606.000000</td>\n",
       "      <td>22606.000000</td>\n",
       "      <td>22606.000000</td>\n",
       "      <td>22606.000000</td>\n",
       "      <td>22606.000000</td>\n",
       "      <td>22606.000000</td>\n",
       "      <td>22606.000000</td>\n",
       "      <td>22606.000000</td>\n",
       "    </tr>\n",
       "    <tr>\n",
       "      <th>mean</th>\n",
       "      <td>40.906839</td>\n",
       "      <td>1360.106874</td>\n",
       "      <td>15.826285</td>\n",
       "      <td>256.453287</td>\n",
       "      <td>2.754180</td>\n",
       "      <td>39.914846</td>\n",
       "      <td>0.567947</td>\n",
       "      <td>0.117004</td>\n",
       "    </tr>\n",
       "    <tr>\n",
       "      <th>std</th>\n",
       "      <td>10.640958</td>\n",
       "      <td>3068.060471</td>\n",
       "      <td>8.336478</td>\n",
       "      <td>253.361367</td>\n",
       "      <td>3.089615</td>\n",
       "      <td>100.131590</td>\n",
       "      <td>1.865971</td>\n",
       "      <td>0.321433</td>\n",
       "    </tr>\n",
       "    <tr>\n",
       "      <th>min</th>\n",
       "      <td>18.000000</td>\n",
       "      <td>-3372.000000</td>\n",
       "      <td>1.000000</td>\n",
       "      <td>0.000000</td>\n",
       "      <td>1.000000</td>\n",
       "      <td>-1.000000</td>\n",
       "      <td>0.000000</td>\n",
       "      <td>0.000000</td>\n",
       "    </tr>\n",
       "    <tr>\n",
       "      <th>25%</th>\n",
       "      <td>33.000000</td>\n",
       "      <td>68.000000</td>\n",
       "      <td>8.000000</td>\n",
       "      <td>102.000000</td>\n",
       "      <td>1.000000</td>\n",
       "      <td>-1.000000</td>\n",
       "      <td>0.000000</td>\n",
       "      <td>0.000000</td>\n",
       "    </tr>\n",
       "    <tr>\n",
       "      <th>50%</th>\n",
       "      <td>39.000000</td>\n",
       "      <td>440.500000</td>\n",
       "      <td>16.000000</td>\n",
       "      <td>179.500000</td>\n",
       "      <td>2.000000</td>\n",
       "      <td>-1.000000</td>\n",
       "      <td>0.000000</td>\n",
       "      <td>0.000000</td>\n",
       "    </tr>\n",
       "    <tr>\n",
       "      <th>75%</th>\n",
       "      <td>48.000000</td>\n",
       "      <td>1422.750000</td>\n",
       "      <td>21.000000</td>\n",
       "      <td>318.000000</td>\n",
       "      <td>3.000000</td>\n",
       "      <td>-1.000000</td>\n",
       "      <td>0.000000</td>\n",
       "      <td>0.000000</td>\n",
       "    </tr>\n",
       "    <tr>\n",
       "      <th>max</th>\n",
       "      <td>95.000000</td>\n",
       "      <td>98417.000000</td>\n",
       "      <td>31.000000</td>\n",
       "      <td>3881.000000</td>\n",
       "      <td>55.000000</td>\n",
       "      <td>854.000000</td>\n",
       "      <td>40.000000</td>\n",
       "      <td>1.000000</td>\n",
       "    </tr>\n",
       "  </tbody>\n",
       "</table>\n",
       "</div>"
      ],
      "text/plain": [
       "                age       balance           day      duration      campaign  \\\n",
       "count  22606.000000  22606.000000  22606.000000  22606.000000  22606.000000   \n",
       "mean      40.906839   1360.106874     15.826285    256.453287      2.754180   \n",
       "std       10.640958   3068.060471      8.336478    253.361367      3.089615   \n",
       "min       18.000000  -3372.000000      1.000000      0.000000      1.000000   \n",
       "25%       33.000000     68.000000      8.000000    102.000000      1.000000   \n",
       "50%       39.000000    440.500000     16.000000    179.500000      2.000000   \n",
       "75%       48.000000   1422.750000     21.000000    318.000000      3.000000   \n",
       "max       95.000000  98417.000000     31.000000   3881.000000     55.000000   \n",
       "\n",
       "              pdays      previous             y  \n",
       "count  22606.000000  22606.000000  22606.000000  \n",
       "mean      39.914846      0.567947      0.117004  \n",
       "std      100.131590      1.865971      0.321433  \n",
       "min       -1.000000      0.000000      0.000000  \n",
       "25%       -1.000000      0.000000      0.000000  \n",
       "50%       -1.000000      0.000000      0.000000  \n",
       "75%       -1.000000      0.000000      0.000000  \n",
       "max      854.000000     40.000000      1.000000  "
      ]
     },
     "execution_count": 5,
     "metadata": {},
     "output_type": "execute_result"
    }
   ],
   "source": [
    "# Summary statistics\n",
    "\n",
    "df.describe()"
   ]
  },
  {
   "cell_type": "code",
   "execution_count": 6,
   "metadata": {
    "scrolled": true
   },
   "outputs": [
    {
     "name": "stdout",
     "output_type": "stream",
     "text": [
      "0    19961\n",
      "1     2645\n",
      "Name: y, dtype: int64\n"
     ]
    }
   ],
   "source": [
    "print(df.y.value_counts())  "
   ]
  },
  {
   "cell_type": "code",
   "execution_count": 7,
   "metadata": {
    "scrolled": true
   },
   "outputs": [
    {
     "data": {
      "text/plain": [
       "<matplotlib.axes._subplots.AxesSubplot at 0x1fa1aba79b0>"
      ]
     },
     "execution_count": 7,
     "metadata": {},
     "output_type": "execute_result"
    },
    {
     "data": {
      "image/png": "[encoded data removed]",
      "text/plain": [
       "<Figure size 432x288 with 1 Axes>"
      ]
     },
     "metadata": {
      "needs_background": "light"
     },
     "output_type": "display_data"
    }
   ],
   "source": [
    "sns.countplot(x=\"y\", data=df)"
   ]
  },
  {
   "cell_type": "markdown",
   "metadata": {},
   "source": [
    "## Check which columns are numeric or categorical"
   ]
  },
  {
   "cell_type": "code",
   "execution_count": 8,
   "metadata": {
    "scrolled": true
   },
   "outputs": [
    {
     "data": {
      "text/plain": [
       "Index(['age', 'job', 'marital', 'education', 'default', 'balance', 'housing',\n",
       "       'loan', 'contact', 'day', 'month', 'duration', 'campaign', 'pdays',\n",
       "       'previous', 'poutcome', 'y'],\n",
       "      dtype='object')"
      ]
     },
     "execution_count": 8,
     "metadata": {},
     "output_type": "execute_result"
    }
   ],
   "source": [
    "# get all columns\n",
    "\n",
    "cols = df.columns\n",
    "cols"
   ]
  },
  {
   "cell_type": "markdown",
   "metadata": {},
   "source": [
    "We can see the different columns in this dataset above."
   ]
  },
  {
   "cell_type": "markdown",
   "metadata": {},
   "source": [
    "### Get numeric columns"
   ]
  },
  {
   "cell_type": "code",
   "execution_count": 9,
   "metadata": {},
   "outputs": [],
   "source": [
    "num_cols = df._get_numeric_data().columns"
   ]
  },
  {
   "cell_type": "code",
   "execution_count": 10,
   "metadata": {
    "scrolled": true
   },
   "outputs": [
    {
     "data": {
      "text/plain": [
       "Index(['age', 'balance', 'day', 'duration', 'campaign', 'pdays', 'previous',\n",
       "       'y'],\n",
       "      dtype='object')"
      ]
     },
     "execution_count": 10,
     "metadata": {},
     "output_type": "execute_result"
    }
   ],
   "source": [
    "num_cols"
   ]
  },
  {
   "cell_type": "markdown",
   "metadata": {},
   "source": [
    "The numeric columns in this dataset can be seen above."
   ]
  },
  {
   "cell_type": "markdown",
   "metadata": {},
   "source": [
    "### Get categorical columns"
   ]
  },
  {
   "cell_type": "code",
   "execution_count": 11,
   "metadata": {
    "scrolled": false
   },
   "outputs": [
    {
     "data": {
      "text/plain": [
       "['job',\n",
       " 'month',\n",
       " 'education',\n",
       " 'contact',\n",
       " 'default',\n",
       " 'marital',\n",
       " 'loan',\n",
       " 'housing',\n",
       " 'poutcome']"
      ]
     },
     "execution_count": 11,
     "metadata": {},
     "output_type": "execute_result"
    }
   ],
   "source": [
    "list(set(cols) - set(num_cols))"
   ]
  },
  {
   "cell_type": "markdown",
   "metadata": {},
   "source": [
    "The columns/features mentioned above have categorical variables."
   ]
  },
  {
   "cell_type": "markdown",
   "metadata": {},
   "source": [
    "### Print categories of each categorical variable"
   ]
  },
  {
   "cell_type": "code",
   "execution_count": 12,
   "metadata": {},
   "outputs": [
    {
     "name": "stdout",
     "output_type": "stream",
     "text": [
      "['unknown' 'cellular' 'telephone']\n"
     ]
    }
   ],
   "source": [
    "print(df.contact.unique())"
   ]
  },
  {
   "cell_type": "code",
   "execution_count": 13,
   "metadata": {},
   "outputs": [
    {
     "name": "stdout",
     "output_type": "stream",
     "text": [
      "['unknown' 'failure' 'other' 'success']\n"
     ]
    }
   ],
   "source": [
    "print(df.poutcome.unique())"
   ]
  },
  {
   "cell_type": "code",
   "execution_count": 14,
   "metadata": {},
   "outputs": [
    {
     "name": "stdout",
     "output_type": "stream",
     "text": [
      "['tertiary' 'secondary' 'unknown' 'primary']\n"
     ]
    }
   ],
   "source": [
    "print(df.education.unique())"
   ]
  },
  {
   "cell_type": "code",
   "execution_count": 15,
   "metadata": {},
   "outputs": [
    {
     "name": "stdout",
     "output_type": "stream",
     "text": [
      "['may' 'jun' 'jul' 'aug' 'oct' 'nov' 'dec' 'jan' 'feb' 'mar' 'apr' 'sep']\n"
     ]
    }
   ],
   "source": [
    "print(df.month.unique())"
   ]
  },
  {
   "cell_type": "code",
   "execution_count": 16,
   "metadata": {},
   "outputs": [
    {
     "name": "stdout",
     "output_type": "stream",
     "text": [
      "['yes' 'no']\n"
     ]
    }
   ],
   "source": [
    "print(df.housing.unique())"
   ]
  },
  {
   "cell_type": "code",
   "execution_count": 17,
   "metadata": {},
   "outputs": [
    {
     "name": "stdout",
     "output_type": "stream",
     "text": [
      "['management' 'technician' 'entrepreneur' 'blue-collar' 'retired' 'admin.'\n",
      " 'services' 'self-employed' 'unemployed' 'student' 'unknown' 'housemaid']\n"
     ]
    }
   ],
   "source": [
    "print(df.job.unique())"
   ]
  },
  {
   "cell_type": "code",
   "execution_count": 18,
   "metadata": {},
   "outputs": [
    {
     "name": "stdout",
     "output_type": "stream",
     "text": [
      "['no' 'yes']\n"
     ]
    }
   ],
   "source": [
    "print(df.default.unique())"
   ]
  },
  {
   "cell_type": "code",
   "execution_count": 19,
   "metadata": {},
   "outputs": [
    {
     "name": "stdout",
     "output_type": "stream",
     "text": [
      "['no' 'yes']\n"
     ]
    }
   ],
   "source": [
    "print(df.loan.unique())"
   ]
  },
  {
   "cell_type": "code",
   "execution_count": 20,
   "metadata": {},
   "outputs": [
    {
     "name": "stdout",
     "output_type": "stream",
     "text": [
      "['married' 'single' 'divorced']\n"
     ]
    }
   ],
   "source": [
    "print(df.marital.unique())"
   ]
  },
  {
   "cell_type": "code",
   "execution_count": 21,
   "metadata": {},
   "outputs": [
    {
     "data": {
      "text/plain": [
       "age          0\n",
       "job          0\n",
       "marital      0\n",
       "education    0\n",
       "default      0\n",
       "balance      0\n",
       "housing      0\n",
       "loan         0\n",
       "contact      0\n",
       "day          0\n",
       "month        0\n",
       "duration     0\n",
       "campaign     0\n",
       "pdays        0\n",
       "previous     0\n",
       "poutcome     0\n",
       "y            0\n",
       "dtype: int64"
      ]
     },
     "execution_count": 21,
     "metadata": {},
     "output_type": "execute_result"
    }
   ],
   "source": [
    "# check for null values\n",
    "\n",
    "df.isnull().sum()"
   ]
  },
  {
   "cell_type": "markdown",
   "metadata": {},
   "source": [
    "There are no null values in our dataset"
   ]
  },
  {
   "cell_type": "markdown",
   "metadata": {},
   "source": [
    "### One-hot encode categorical variables"
   ]
  },
  {
   "cell_type": "markdown",
   "metadata": {},
   "source": [
    "use one-hot encoding (or dummy encoding) to encode the categorical features"
   ]
  },
  {
   "cell_type": "code",
   "execution_count": 22,
   "metadata": {},
   "outputs": [],
   "source": [
    "contact = pd.get_dummies(df['contact'], prefix = 'contact')\n",
    "poutcome = pd.get_dummies(df['poutcome'], prefix = 'poutcome')\n",
    "education = pd.get_dummies(df['education'], prefix = 'education')\n",
    "\n",
    "month = pd.get_dummies(df['month'], prefix = 'month')\n",
    "housing = pd.get_dummies(df['housing'], prefix = 'housing')\n",
    "job = pd.get_dummies(df['job'], prefix = 'job')\n",
    "\n",
    "default = pd.get_dummies(df['default'], prefix = 'default')\n",
    "loan = pd.get_dummies(df['loan'], prefix = 'loan')\n",
    "marital = pd.get_dummies(df['marital'], prefix = 'marital')"
   ]
  },
  {
   "cell_type": "code",
   "execution_count": 23,
   "metadata": {},
   "outputs": [],
   "source": [
    "# Concat all dummies and continuous variables  \n",
    "\n",
    "df = pd.concat([contact,poutcome,education,\n",
    "              month,housing,job,\n",
    "              default,loan,marital,\n",
    "              df[['age','balance','day',\n",
    "                  'duration','campaign','pdays','previous','y']]\n",
    "              ],\n",
    "              axis=1)"
   ]
  },
  {
   "cell_type": "code",
   "execution_count": 24,
   "metadata": {},
   "outputs": [
    {
     "name": "stdout",
     "output_type": "stream",
     "text": [
      "<class 'pandas.core.frame.DataFrame'>\n",
      "RangeIndex: 22606 entries, 0 to 22605\n",
      "Data columns (total 52 columns):\n",
      "contact_cellular       22606 non-null uint8\n",
      "contact_telephone      22606 non-null uint8\n",
      "contact_unknown        22606 non-null uint8\n",
      "poutcome_failure       22606 non-null uint8\n",
      "poutcome_other         22606 non-null uint8\n",
      "poutcome_success       22606 non-null uint8\n",
      "poutcome_unknown       22606 non-null uint8\n",
      "education_primary      22606 non-null uint8\n",
      "education_secondary    22606 non-null uint8\n",
      "education_tertiary     22606 non-null uint8\n",
      "education_unknown      22606 non-null uint8\n",
      "month_apr              22606 non-null uint8\n",
      "month_aug              22606 non-null uint8\n",
      "month_dec              22606 non-null uint8\n",
      "month_feb              22606 non-null uint8\n",
      "month_jan              22606 non-null uint8\n",
      "month_jul              22606 non-null uint8\n",
      "month_jun              22606 non-null uint8\n",
      "month_mar              22606 non-null uint8\n",
      "month_may              22606 non-null uint8\n",
      "month_nov              22606 non-null uint8\n",
      "month_oct              22606 non-null uint8\n",
      "month_sep              22606 non-null uint8\n",
      "housing_no             22606 non-null uint8\n",
      "housing_yes            22606 non-null uint8\n",
      "job_admin.             22606 non-null uint8\n",
      "job_blue-collar        22606 non-null uint8\n",
      "job_entrepreneur       22606 non-null uint8\n",
      "job_housemaid          22606 non-null uint8\n",
      "job_management         22606 non-null uint8\n",
      "job_retired            22606 non-null uint8\n",
      "job_self-employed      22606 non-null uint8\n",
      "job_services           22606 non-null uint8\n",
      "job_student            22606 non-null uint8\n",
      "job_technician         22606 non-null uint8\n",
      "job_unemployed         22606 non-null uint8\n",
      "job_unknown            22606 non-null uint8\n",
      "default_no             22606 non-null uint8\n",
      "default_yes            22606 non-null uint8\n",
      "loan_no                22606 non-null uint8\n",
      "loan_yes               22606 non-null uint8\n",
      "marital_divorced       22606 non-null uint8\n",
      "marital_married        22606 non-null uint8\n",
      "marital_single         22606 non-null uint8\n",
      "age                    22606 non-null int64\n",
      "balance                22606 non-null int64\n",
      "day                    22606 non-null int64\n",
      "duration               22606 non-null int64\n",
      "campaign               22606 non-null int64\n",
      "pdays                  22606 non-null int64\n",
      "previous               22606 non-null int64\n",
      "y                      22606 non-null int64\n",
      "dtypes: int64(8), uint8(44)\n",
      "memory usage: 2.3 MB\n"
     ]
    }
   ],
   "source": [
    "df.info()"
   ]
  },
  {
   "cell_type": "code",
   "execution_count": 25,
   "metadata": {},
   "outputs": [
    {
     "data": {
      "text/plain": [
       "(22606, 52)"
      ]
     },
     "execution_count": 25,
     "metadata": {},
     "output_type": "execute_result"
    }
   ],
   "source": [
    "df.shape"
   ]
  },
  {
   "cell_type": "markdown",
   "metadata": {},
   "source": [
    "we now have 22606 rows and 52 columns"
   ]
  },
  {
   "cell_type": "code",
   "execution_count": 26,
   "metadata": {},
   "outputs": [
    {
     "data": {
      "text/html": [
       "<div>\n",
       "<style scoped>\n",
       "    .dataframe tbody tr th:only-of-type {\n",
       "        vertical-align: middle;\n",
       "    }\n",
       "\n",
       "    .dataframe tbody tr th {\n",
       "        vertical-align: top;\n",
       "    }\n",
       "\n",
       "    .dataframe thead th {\n",
       "        text-align: right;\n",
       "    }\n",
       "</style>\n",
       "<table border=\"1\" class=\"dataframe\">\n",
       "  <thead>\n",
       "    <tr style=\"text-align: right;\">\n",
       "      <th></th>\n",
       "      <th>count</th>\n",
       "      <th>mean</th>\n",
       "      <th>std</th>\n",
       "      <th>min</th>\n",
       "      <th>25%</th>\n",
       "      <th>50%</th>\n",
       "      <th>75%</th>\n",
       "      <th>max</th>\n",
       "    </tr>\n",
       "  </thead>\n",
       "  <tbody>\n",
       "    <tr>\n",
       "      <th>contact_cellular</th>\n",
       "      <td>22606.0</td>\n",
       "      <td>0.646200</td>\n",
       "      <td>0.478159</td>\n",
       "      <td>0.0</td>\n",
       "      <td>0.0</td>\n",
       "      <td>1.0</td>\n",
       "      <td>1.00</td>\n",
       "      <td>1.0</td>\n",
       "    </tr>\n",
       "    <tr>\n",
       "      <th>contact_telephone</th>\n",
       "      <td>22606.0</td>\n",
       "      <td>0.065115</td>\n",
       "      <td>0.246735</td>\n",
       "      <td>0.0</td>\n",
       "      <td>0.0</td>\n",
       "      <td>0.0</td>\n",
       "      <td>0.00</td>\n",
       "      <td>1.0</td>\n",
       "    </tr>\n",
       "    <tr>\n",
       "      <th>contact_unknown</th>\n",
       "      <td>22606.0</td>\n",
       "      <td>0.288684</td>\n",
       "      <td>0.453161</td>\n",
       "      <td>0.0</td>\n",
       "      <td>0.0</td>\n",
       "      <td>0.0</td>\n",
       "      <td>1.00</td>\n",
       "      <td>1.0</td>\n",
       "    </tr>\n",
       "    <tr>\n",
       "      <th>poutcome_failure</th>\n",
       "      <td>22606.0</td>\n",
       "      <td>0.106255</td>\n",
       "      <td>0.308171</td>\n",
       "      <td>0.0</td>\n",
       "      <td>0.0</td>\n",
       "      <td>0.0</td>\n",
       "      <td>0.00</td>\n",
       "      <td>1.0</td>\n",
       "    </tr>\n",
       "    <tr>\n",
       "      <th>poutcome_other</th>\n",
       "      <td>22606.0</td>\n",
       "      <td>0.041228</td>\n",
       "      <td>0.198822</td>\n",
       "      <td>0.0</td>\n",
       "      <td>0.0</td>\n",
       "      <td>0.0</td>\n",
       "      <td>0.00</td>\n",
       "      <td>1.0</td>\n",
       "    </tr>\n",
       "    <tr>\n",
       "      <th>poutcome_success</th>\n",
       "      <td>22606.0</td>\n",
       "      <td>0.034150</td>\n",
       "      <td>0.181619</td>\n",
       "      <td>0.0</td>\n",
       "      <td>0.0</td>\n",
       "      <td>0.0</td>\n",
       "      <td>0.00</td>\n",
       "      <td>1.0</td>\n",
       "    </tr>\n",
       "    <tr>\n",
       "      <th>poutcome_unknown</th>\n",
       "      <td>22606.0</td>\n",
       "      <td>0.818367</td>\n",
       "      <td>0.385550</td>\n",
       "      <td>0.0</td>\n",
       "      <td>1.0</td>\n",
       "      <td>1.0</td>\n",
       "      <td>1.00</td>\n",
       "      <td>1.0</td>\n",
       "    </tr>\n",
       "    <tr>\n",
       "      <th>education_primary</th>\n",
       "      <td>22606.0</td>\n",
       "      <td>0.148943</td>\n",
       "      <td>0.356040</td>\n",
       "      <td>0.0</td>\n",
       "      <td>0.0</td>\n",
       "      <td>0.0</td>\n",
       "      <td>0.00</td>\n",
       "      <td>1.0</td>\n",
       "    </tr>\n",
       "    <tr>\n",
       "      <th>education_secondary</th>\n",
       "      <td>22606.0</td>\n",
       "      <td>0.513138</td>\n",
       "      <td>0.499838</td>\n",
       "      <td>0.0</td>\n",
       "      <td>0.0</td>\n",
       "      <td>1.0</td>\n",
       "      <td>1.00</td>\n",
       "      <td>1.0</td>\n",
       "    </tr>\n",
       "    <tr>\n",
       "      <th>education_tertiary</th>\n",
       "      <td>22606.0</td>\n",
       "      <td>0.296028</td>\n",
       "      <td>0.456513</td>\n",
       "      <td>0.0</td>\n",
       "      <td>0.0</td>\n",
       "      <td>0.0</td>\n",
       "      <td>1.00</td>\n",
       "      <td>1.0</td>\n",
       "    </tr>\n",
       "    <tr>\n",
       "      <th>education_unknown</th>\n",
       "      <td>22606.0</td>\n",
       "      <td>0.041892</td>\n",
       "      <td>0.200346</td>\n",
       "      <td>0.0</td>\n",
       "      <td>0.0</td>\n",
       "      <td>0.0</td>\n",
       "      <td>0.00</td>\n",
       "      <td>1.0</td>\n",
       "    </tr>\n",
       "    <tr>\n",
       "      <th>month_apr</th>\n",
       "      <td>22606.0</td>\n",
       "      <td>0.065691</td>\n",
       "      <td>0.247746</td>\n",
       "      <td>0.0</td>\n",
       "      <td>0.0</td>\n",
       "      <td>0.0</td>\n",
       "      <td>0.00</td>\n",
       "      <td>1.0</td>\n",
       "    </tr>\n",
       "    <tr>\n",
       "      <th>month_aug</th>\n",
       "      <td>22606.0</td>\n",
       "      <td>0.138592</td>\n",
       "      <td>0.345527</td>\n",
       "      <td>0.0</td>\n",
       "      <td>0.0</td>\n",
       "      <td>0.0</td>\n",
       "      <td>0.00</td>\n",
       "      <td>1.0</td>\n",
       "    </tr>\n",
       "    <tr>\n",
       "      <th>month_dec</th>\n",
       "      <td>22606.0</td>\n",
       "      <td>0.004999</td>\n",
       "      <td>0.070526</td>\n",
       "      <td>0.0</td>\n",
       "      <td>0.0</td>\n",
       "      <td>0.0</td>\n",
       "      <td>0.00</td>\n",
       "      <td>1.0</td>\n",
       "    </tr>\n",
       "    <tr>\n",
       "      <th>month_feb</th>\n",
       "      <td>22606.0</td>\n",
       "      <td>0.057861</td>\n",
       "      <td>0.233485</td>\n",
       "      <td>0.0</td>\n",
       "      <td>0.0</td>\n",
       "      <td>0.0</td>\n",
       "      <td>0.00</td>\n",
       "      <td>1.0</td>\n",
       "    </tr>\n",
       "    <tr>\n",
       "      <th>month_jan</th>\n",
       "      <td>22606.0</td>\n",
       "      <td>0.031054</td>\n",
       "      <td>0.173467</td>\n",
       "      <td>0.0</td>\n",
       "      <td>0.0</td>\n",
       "      <td>0.0</td>\n",
       "      <td>0.00</td>\n",
       "      <td>1.0</td>\n",
       "    </tr>\n",
       "    <tr>\n",
       "      <th>month_jul</th>\n",
       "      <td>22606.0</td>\n",
       "      <td>0.151907</td>\n",
       "      <td>0.358938</td>\n",
       "      <td>0.0</td>\n",
       "      <td>0.0</td>\n",
       "      <td>0.0</td>\n",
       "      <td>0.00</td>\n",
       "      <td>1.0</td>\n",
       "    </tr>\n",
       "    <tr>\n",
       "      <th>month_jun</th>\n",
       "      <td>22606.0</td>\n",
       "      <td>0.117978</td>\n",
       "      <td>0.322589</td>\n",
       "      <td>0.0</td>\n",
       "      <td>0.0</td>\n",
       "      <td>0.0</td>\n",
       "      <td>0.00</td>\n",
       "      <td>1.0</td>\n",
       "    </tr>\n",
       "    <tr>\n",
       "      <th>month_mar</th>\n",
       "      <td>22606.0</td>\n",
       "      <td>0.010484</td>\n",
       "      <td>0.101855</td>\n",
       "      <td>0.0</td>\n",
       "      <td>0.0</td>\n",
       "      <td>0.0</td>\n",
       "      <td>0.00</td>\n",
       "      <td>1.0</td>\n",
       "    </tr>\n",
       "    <tr>\n",
       "      <th>month_may</th>\n",
       "      <td>22606.0</td>\n",
       "      <td>0.304123</td>\n",
       "      <td>0.460045</td>\n",
       "      <td>0.0</td>\n",
       "      <td>0.0</td>\n",
       "      <td>0.0</td>\n",
       "      <td>1.00</td>\n",
       "      <td>1.0</td>\n",
       "    </tr>\n",
       "    <tr>\n",
       "      <th>month_nov</th>\n",
       "      <td>22606.0</td>\n",
       "      <td>0.087720</td>\n",
       "      <td>0.282894</td>\n",
       "      <td>0.0</td>\n",
       "      <td>0.0</td>\n",
       "      <td>0.0</td>\n",
       "      <td>0.00</td>\n",
       "      <td>1.0</td>\n",
       "    </tr>\n",
       "    <tr>\n",
       "      <th>month_oct</th>\n",
       "      <td>22606.0</td>\n",
       "      <td>0.016677</td>\n",
       "      <td>0.128061</td>\n",
       "      <td>0.0</td>\n",
       "      <td>0.0</td>\n",
       "      <td>0.0</td>\n",
       "      <td>0.00</td>\n",
       "      <td>1.0</td>\n",
       "    </tr>\n",
       "    <tr>\n",
       "      <th>month_sep</th>\n",
       "      <td>22606.0</td>\n",
       "      <td>0.012917</td>\n",
       "      <td>0.112919</td>\n",
       "      <td>0.0</td>\n",
       "      <td>0.0</td>\n",
       "      <td>0.0</td>\n",
       "      <td>0.00</td>\n",
       "      <td>1.0</td>\n",
       "    </tr>\n",
       "    <tr>\n",
       "      <th>housing_no</th>\n",
       "      <td>22606.0</td>\n",
       "      <td>0.444086</td>\n",
       "      <td>0.496875</td>\n",
       "      <td>0.0</td>\n",
       "      <td>0.0</td>\n",
       "      <td>0.0</td>\n",
       "      <td>1.00</td>\n",
       "      <td>1.0</td>\n",
       "    </tr>\n",
       "    <tr>\n",
       "      <th>housing_yes</th>\n",
       "      <td>22606.0</td>\n",
       "      <td>0.555914</td>\n",
       "      <td>0.496875</td>\n",
       "      <td>0.0</td>\n",
       "      <td>0.0</td>\n",
       "      <td>1.0</td>\n",
       "      <td>1.00</td>\n",
       "      <td>1.0</td>\n",
       "    </tr>\n",
       "    <tr>\n",
       "      <th>job_admin.</th>\n",
       "      <td>22606.0</td>\n",
       "      <td>0.115677</td>\n",
       "      <td>0.319845</td>\n",
       "      <td>0.0</td>\n",
       "      <td>0.0</td>\n",
       "      <td>0.0</td>\n",
       "      <td>0.00</td>\n",
       "      <td>1.0</td>\n",
       "    </tr>\n",
       "    <tr>\n",
       "      <th>job_blue-collar</th>\n",
       "      <td>22606.0</td>\n",
       "      <td>0.214633</td>\n",
       "      <td>0.410577</td>\n",
       "      <td>0.0</td>\n",
       "      <td>0.0</td>\n",
       "      <td>0.0</td>\n",
       "      <td>0.00</td>\n",
       "      <td>1.0</td>\n",
       "    </tr>\n",
       "    <tr>\n",
       "      <th>job_entrepreneur</th>\n",
       "      <td>22606.0</td>\n",
       "      <td>0.032956</td>\n",
       "      <td>0.178525</td>\n",
       "      <td>0.0</td>\n",
       "      <td>0.0</td>\n",
       "      <td>0.0</td>\n",
       "      <td>0.00</td>\n",
       "      <td>1.0</td>\n",
       "    </tr>\n",
       "    <tr>\n",
       "      <th>job_housemaid</th>\n",
       "      <td>22606.0</td>\n",
       "      <td>0.028576</td>\n",
       "      <td>0.166617</td>\n",
       "      <td>0.0</td>\n",
       "      <td>0.0</td>\n",
       "      <td>0.0</td>\n",
       "      <td>0.00</td>\n",
       "      <td>1.0</td>\n",
       "    </tr>\n",
       "    <tr>\n",
       "      <th>job_management</th>\n",
       "      <td>22606.0</td>\n",
       "      <td>0.211006</td>\n",
       "      <td>0.408032</td>\n",
       "      <td>0.0</td>\n",
       "      <td>0.0</td>\n",
       "      <td>0.0</td>\n",
       "      <td>0.00</td>\n",
       "      <td>1.0</td>\n",
       "    </tr>\n",
       "    <tr>\n",
       "      <th>job_retired</th>\n",
       "      <td>22606.0</td>\n",
       "      <td>0.049279</td>\n",
       "      <td>0.216455</td>\n",
       "      <td>0.0</td>\n",
       "      <td>0.0</td>\n",
       "      <td>0.0</td>\n",
       "      <td>0.00</td>\n",
       "      <td>1.0</td>\n",
       "    </tr>\n",
       "    <tr>\n",
       "      <th>job_self-employed</th>\n",
       "      <td>22606.0</td>\n",
       "      <td>0.034681</td>\n",
       "      <td>0.182975</td>\n",
       "      <td>0.0</td>\n",
       "      <td>0.0</td>\n",
       "      <td>0.0</td>\n",
       "      <td>0.00</td>\n",
       "      <td>1.0</td>\n",
       "    </tr>\n",
       "    <tr>\n",
       "      <th>job_services</th>\n",
       "      <td>22606.0</td>\n",
       "      <td>0.091480</td>\n",
       "      <td>0.288297</td>\n",
       "      <td>0.0</td>\n",
       "      <td>0.0</td>\n",
       "      <td>0.0</td>\n",
       "      <td>0.00</td>\n",
       "      <td>1.0</td>\n",
       "    </tr>\n",
       "    <tr>\n",
       "      <th>job_student</th>\n",
       "      <td>22606.0</td>\n",
       "      <td>0.020747</td>\n",
       "      <td>0.142538</td>\n",
       "      <td>0.0</td>\n",
       "      <td>0.0</td>\n",
       "      <td>0.0</td>\n",
       "      <td>0.00</td>\n",
       "      <td>1.0</td>\n",
       "    </tr>\n",
       "    <tr>\n",
       "      <th>job_technician</th>\n",
       "      <td>22606.0</td>\n",
       "      <td>0.167345</td>\n",
       "      <td>0.373292</td>\n",
       "      <td>0.0</td>\n",
       "      <td>0.0</td>\n",
       "      <td>0.0</td>\n",
       "      <td>0.00</td>\n",
       "      <td>1.0</td>\n",
       "    </tr>\n",
       "    <tr>\n",
       "      <th>job_unemployed</th>\n",
       "      <td>22606.0</td>\n",
       "      <td>0.027117</td>\n",
       "      <td>0.162427</td>\n",
       "      <td>0.0</td>\n",
       "      <td>0.0</td>\n",
       "      <td>0.0</td>\n",
       "      <td>0.00</td>\n",
       "      <td>1.0</td>\n",
       "    </tr>\n",
       "    <tr>\n",
       "      <th>job_unknown</th>\n",
       "      <td>22606.0</td>\n",
       "      <td>0.006503</td>\n",
       "      <td>0.080378</td>\n",
       "      <td>0.0</td>\n",
       "      <td>0.0</td>\n",
       "      <td>0.0</td>\n",
       "      <td>0.00</td>\n",
       "      <td>1.0</td>\n",
       "    </tr>\n",
       "    <tr>\n",
       "      <th>default_no</th>\n",
       "      <td>22606.0</td>\n",
       "      <td>0.982084</td>\n",
       "      <td>0.132648</td>\n",
       "      <td>0.0</td>\n",
       "      <td>1.0</td>\n",
       "      <td>1.0</td>\n",
       "      <td>1.00</td>\n",
       "      <td>1.0</td>\n",
       "    </tr>\n",
       "    <tr>\n",
       "      <th>default_yes</th>\n",
       "      <td>22606.0</td>\n",
       "      <td>0.017916</td>\n",
       "      <td>0.132648</td>\n",
       "      <td>0.0</td>\n",
       "      <td>0.0</td>\n",
       "      <td>0.0</td>\n",
       "      <td>0.00</td>\n",
       "      <td>1.0</td>\n",
       "    </tr>\n",
       "    <tr>\n",
       "      <th>loan_no</th>\n",
       "      <td>22606.0</td>\n",
       "      <td>0.839158</td>\n",
       "      <td>0.367394</td>\n",
       "      <td>0.0</td>\n",
       "      <td>1.0</td>\n",
       "      <td>1.0</td>\n",
       "      <td>1.00</td>\n",
       "      <td>1.0</td>\n",
       "    </tr>\n",
       "    <tr>\n",
       "      <th>loan_yes</th>\n",
       "      <td>22606.0</td>\n",
       "      <td>0.160842</td>\n",
       "      <td>0.367394</td>\n",
       "      <td>0.0</td>\n",
       "      <td>0.0</td>\n",
       "      <td>0.0</td>\n",
       "      <td>0.00</td>\n",
       "      <td>1.0</td>\n",
       "    </tr>\n",
       "    <tr>\n",
       "      <th>marital_divorced</th>\n",
       "      <td>22606.0</td>\n",
       "      <td>0.114350</td>\n",
       "      <td>0.318243</td>\n",
       "      <td>0.0</td>\n",
       "      <td>0.0</td>\n",
       "      <td>0.0</td>\n",
       "      <td>0.00</td>\n",
       "      <td>1.0</td>\n",
       "    </tr>\n",
       "    <tr>\n",
       "      <th>marital_married</th>\n",
       "      <td>22606.0</td>\n",
       "      <td>0.601345</td>\n",
       "      <td>0.489632</td>\n",
       "      <td>0.0</td>\n",
       "      <td>0.0</td>\n",
       "      <td>1.0</td>\n",
       "      <td>1.00</td>\n",
       "      <td>1.0</td>\n",
       "    </tr>\n",
       "    <tr>\n",
       "      <th>marital_single</th>\n",
       "      <td>22606.0</td>\n",
       "      <td>0.284305</td>\n",
       "      <td>0.451093</td>\n",
       "      <td>0.0</td>\n",
       "      <td>0.0</td>\n",
       "      <td>0.0</td>\n",
       "      <td>1.00</td>\n",
       "      <td>1.0</td>\n",
       "    </tr>\n",
       "    <tr>\n",
       "      <th>age</th>\n",
       "      <td>22606.0</td>\n",
       "      <td>40.906839</td>\n",
       "      <td>10.640958</td>\n",
       "      <td>18.0</td>\n",
       "      <td>33.0</td>\n",
       "      <td>39.0</td>\n",
       "      <td>48.00</td>\n",
       "      <td>95.0</td>\n",
       "    </tr>\n",
       "    <tr>\n",
       "      <th>balance</th>\n",
       "      <td>22606.0</td>\n",
       "      <td>1360.106874</td>\n",
       "      <td>3068.060471</td>\n",
       "      <td>-3372.0</td>\n",
       "      <td>68.0</td>\n",
       "      <td>440.5</td>\n",
       "      <td>1422.75</td>\n",
       "      <td>98417.0</td>\n",
       "    </tr>\n",
       "    <tr>\n",
       "      <th>day</th>\n",
       "      <td>22606.0</td>\n",
       "      <td>15.826285</td>\n",
       "      <td>8.336478</td>\n",
       "      <td>1.0</td>\n",
       "      <td>8.0</td>\n",
       "      <td>16.0</td>\n",
       "      <td>21.00</td>\n",
       "      <td>31.0</td>\n",
       "    </tr>\n",
       "    <tr>\n",
       "      <th>duration</th>\n",
       "      <td>22606.0</td>\n",
       "      <td>256.453287</td>\n",
       "      <td>253.361367</td>\n",
       "      <td>0.0</td>\n",
       "      <td>102.0</td>\n",
       "      <td>179.5</td>\n",
       "      <td>318.00</td>\n",
       "      <td>3881.0</td>\n",
       "    </tr>\n",
       "    <tr>\n",
       "      <th>campaign</th>\n",
       "      <td>22606.0</td>\n",
       "      <td>2.754180</td>\n",
       "      <td>3.089615</td>\n",
       "      <td>1.0</td>\n",
       "      <td>1.0</td>\n",
       "      <td>2.0</td>\n",
       "      <td>3.00</td>\n",
       "      <td>55.0</td>\n",
       "    </tr>\n",
       "    <tr>\n",
       "      <th>pdays</th>\n",
       "      <td>22606.0</td>\n",
       "      <td>39.914846</td>\n",
       "      <td>100.131590</td>\n",
       "      <td>-1.0</td>\n",
       "      <td>-1.0</td>\n",
       "      <td>-1.0</td>\n",
       "      <td>-1.00</td>\n",
       "      <td>854.0</td>\n",
       "    </tr>\n",
       "    <tr>\n",
       "      <th>previous</th>\n",
       "      <td>22606.0</td>\n",
       "      <td>0.567947</td>\n",
       "      <td>1.865971</td>\n",
       "      <td>0.0</td>\n",
       "      <td>0.0</td>\n",
       "      <td>0.0</td>\n",
       "      <td>0.00</td>\n",
       "      <td>40.0</td>\n",
       "    </tr>\n",
       "    <tr>\n",
       "      <th>y</th>\n",
       "      <td>22606.0</td>\n",
       "      <td>0.117004</td>\n",
       "      <td>0.321433</td>\n",
       "      <td>0.0</td>\n",
       "      <td>0.0</td>\n",
       "      <td>0.0</td>\n",
       "      <td>0.00</td>\n",
       "      <td>1.0</td>\n",
       "    </tr>\n",
       "  </tbody>\n",
       "</table>\n",
       "</div>"
      ],
      "text/plain": [
       "                       count         mean          std     min    25%    50%  \\\n",
       "contact_cellular     22606.0     0.646200     0.478159     0.0    0.0    1.0   \n",
       "contact_telephone    22606.0     0.065115     0.246735     0.0    0.0    0.0   \n",
       "contact_unknown      22606.0     0.288684     0.453161     0.0    0.0    0.0   \n",
       "poutcome_failure     22606.0     0.106255     0.308171     0.0    0.0    0.0   \n",
       "poutcome_other       22606.0     0.041228     0.198822     0.0    0.0    0.0   \n",
       "poutcome_success     22606.0     0.034150     0.181619     0.0    0.0    0.0   \n",
       "poutcome_unknown     22606.0     0.818367     0.385550     0.0    1.0    1.0   \n",
       "education_primary    22606.0     0.148943     0.356040     0.0    0.0    0.0   \n",
       "education_secondary  22606.0     0.513138     0.499838     0.0    0.0    1.0   \n",
       "education_tertiary   22606.0     0.296028     0.456513     0.0    0.0    0.0   \n",
       "education_unknown    22606.0     0.041892     0.200346     0.0    0.0    0.0   \n",
       "month_apr            22606.0     0.065691     0.247746     0.0    0.0    0.0   \n",
       "month_aug            22606.0     0.138592     0.345527     0.0    0.0    0.0   \n",
       "month_dec            22606.0     0.004999     0.070526     0.0    0.0    0.0   \n",
       "month_feb            22606.0     0.057861     0.233485     0.0    0.0    0.0   \n",
       "month_jan            22606.0     0.031054     0.173467     0.0    0.0    0.0   \n",
       "month_jul            22606.0     0.151907     0.358938     0.0    0.0    0.0   \n",
       "month_jun            22606.0     0.117978     0.322589     0.0    0.0    0.0   \n",
       "month_mar            22606.0     0.010484     0.101855     0.0    0.0    0.0   \n",
       "month_may            22606.0     0.304123     0.460045     0.0    0.0    0.0   \n",
       "month_nov            22606.0     0.087720     0.282894     0.0    0.0    0.0   \n",
       "month_oct            22606.0     0.016677     0.128061     0.0    0.0    0.0   \n",
       "month_sep            22606.0     0.012917     0.112919     0.0    0.0    0.0   \n",
       "housing_no           22606.0     0.444086     0.496875     0.0    0.0    0.0   \n",
       "housing_yes          22606.0     0.555914     0.496875     0.0    0.0    1.0   \n",
       "job_admin.           22606.0     0.115677     0.319845     0.0    0.0    0.0   \n",
       "job_blue-collar      22606.0     0.214633     0.410577     0.0    0.0    0.0   \n",
       "job_entrepreneur     22606.0     0.032956     0.178525     0.0    0.0    0.0   \n",
       "job_housemaid        22606.0     0.028576     0.166617     0.0    0.0    0.0   \n",
       "job_management       22606.0     0.211006     0.408032     0.0    0.0    0.0   \n",
       "job_retired          22606.0     0.049279     0.216455     0.0    0.0    0.0   \n",
       "job_self-employed    22606.0     0.034681     0.182975     0.0    0.0    0.0   \n",
       "job_services         22606.0     0.091480     0.288297     0.0    0.0    0.0   \n",
       "job_student          22606.0     0.020747     0.142538     0.0    0.0    0.0   \n",
       "job_technician       22606.0     0.167345     0.373292     0.0    0.0    0.0   \n",
       "job_unemployed       22606.0     0.027117     0.162427     0.0    0.0    0.0   \n",
       "job_unknown          22606.0     0.006503     0.080378     0.0    0.0    0.0   \n",
       "default_no           22606.0     0.982084     0.132648     0.0    1.0    1.0   \n",
       "default_yes          22606.0     0.017916     0.132648     0.0    0.0    0.0   \n",
       "loan_no              22606.0     0.839158     0.367394     0.0    1.0    1.0   \n",
       "loan_yes             22606.0     0.160842     0.367394     0.0    0.0    0.0   \n",
       "marital_divorced     22606.0     0.114350     0.318243     0.0    0.0    0.0   \n",
       "marital_married      22606.0     0.601345     0.489632     0.0    0.0    1.0   \n",
       "marital_single       22606.0     0.284305     0.451093     0.0    0.0    0.0   \n",
       "age                  22606.0    40.906839    10.640958    18.0   33.0   39.0   \n",
       "balance              22606.0  1360.106874  3068.060471 -3372.0   68.0  440.5   \n",
       "day                  22606.0    15.826285     8.336478     1.0    8.0   16.0   \n",
       "duration             22606.0   256.453287   253.361367     0.0  102.0  179.5   \n",
       "campaign             22606.0     2.754180     3.089615     1.0    1.0    2.0   \n",
       "pdays                22606.0    39.914846   100.131590    -1.0   -1.0   -1.0   \n",
       "previous             22606.0     0.567947     1.865971     0.0    0.0    0.0   \n",
       "y                    22606.0     0.117004     0.321433     0.0    0.0    0.0   \n",
       "\n",
       "                         75%      max  \n",
       "contact_cellular        1.00      1.0  \n",
       "contact_telephone       0.00      1.0  \n",
       "contact_unknown         1.00      1.0  \n",
       "poutcome_failure        0.00      1.0  \n",
       "poutcome_other          0.00      1.0  \n",
       "poutcome_success        0.00      1.0  \n",
       "poutcome_unknown        1.00      1.0  \n",
       "education_primary       0.00      1.0  \n",
       "education_secondary     1.00      1.0  \n",
       "education_tertiary      1.00      1.0  \n",
       "education_unknown       0.00      1.0  \n",
       "month_apr               0.00      1.0  \n",
       "month_aug               0.00      1.0  \n",
       "month_dec               0.00      1.0  \n",
       "month_feb               0.00      1.0  \n",
       "month_jan               0.00      1.0  \n",
       "month_jul               0.00      1.0  \n",
       "month_jun               0.00      1.0  \n",
       "month_mar               0.00      1.0  \n",
       "month_may               1.00      1.0  \n",
       "month_nov               0.00      1.0  \n",
       "month_oct               0.00      1.0  \n",
       "month_sep               0.00      1.0  \n",
       "housing_no              1.00      1.0  \n",
       "housing_yes             1.00      1.0  \n",
       "job_admin.              0.00      1.0  \n",
       "job_blue-collar         0.00      1.0  \n",
       "job_entrepreneur        0.00      1.0  \n",
       "job_housemaid           0.00      1.0  \n",
       "job_management          0.00      1.0  \n",
       "job_retired             0.00      1.0  \n",
       "job_self-employed       0.00      1.0  \n",
       "job_services            0.00      1.0  \n",
       "job_student             0.00      1.0  \n",
       "job_technician          0.00      1.0  \n",
       "job_unemployed          0.00      1.0  \n",
       "job_unknown             0.00      1.0  \n",
       "default_no              1.00      1.0  \n",
       "default_yes             0.00      1.0  \n",
       "loan_no                 1.00      1.0  \n",
       "loan_yes                0.00      1.0  \n",
       "marital_divorced        0.00      1.0  \n",
       "marital_married         1.00      1.0  \n",
       "marital_single          1.00      1.0  \n",
       "age                    48.00     95.0  \n",
       "balance              1422.75  98417.0  \n",
       "day                    21.00     31.0  \n",
       "duration              318.00   3881.0  \n",
       "campaign                3.00     55.0  \n",
       "pdays                  -1.00    854.0  \n",
       "previous                0.00     40.0  \n",
       "y                       0.00      1.0  "
      ]
     },
     "execution_count": 26,
     "metadata": {},
     "output_type": "execute_result"
    }
   ],
   "source": [
    "df.describe().transpose()"
   ]
  },
  {
   "cell_type": "markdown",
   "metadata": {},
   "source": [
    "## Define training data"
   ]
  },
  {
   "cell_type": "code",
   "execution_count": 27,
   "metadata": {
    "scrolled": true
   },
   "outputs": [
    {
     "data": {
      "text/html": [
       "<div>\n",
       "<style scoped>\n",
       "    .dataframe tbody tr th:only-of-type {\n",
       "        vertical-align: middle;\n",
       "    }\n",
       "\n",
       "    .dataframe tbody tr th {\n",
       "        vertical-align: top;\n",
       "    }\n",
       "\n",
       "    .dataframe thead th {\n",
       "        text-align: right;\n",
       "    }\n",
       "</style>\n",
       "<table border=\"1\" class=\"dataframe\">\n",
       "  <thead>\n",
       "    <tr style=\"text-align: right;\">\n",
       "      <th></th>\n",
       "      <th>contact_cellular</th>\n",
       "      <th>contact_telephone</th>\n",
       "      <th>contact_unknown</th>\n",
       "      <th>poutcome_failure</th>\n",
       "      <th>poutcome_other</th>\n",
       "      <th>poutcome_success</th>\n",
       "      <th>poutcome_unknown</th>\n",
       "      <th>education_primary</th>\n",
       "      <th>education_secondary</th>\n",
       "      <th>education_tertiary</th>\n",
       "      <th>...</th>\n",
       "      <th>marital_divorced</th>\n",
       "      <th>marital_married</th>\n",
       "      <th>marital_single</th>\n",
       "      <th>age</th>\n",
       "      <th>balance</th>\n",
       "      <th>day</th>\n",
       "      <th>duration</th>\n",
       "      <th>campaign</th>\n",
       "      <th>pdays</th>\n",
       "      <th>previous</th>\n",
       "    </tr>\n",
       "  </thead>\n",
       "  <tbody>\n",
       "    <tr>\n",
       "      <th>0</th>\n",
       "      <td>0</td>\n",
       "      <td>0</td>\n",
       "      <td>1</td>\n",
       "      <td>0</td>\n",
       "      <td>0</td>\n",
       "      <td>0</td>\n",
       "      <td>1</td>\n",
       "      <td>0</td>\n",
       "      <td>0</td>\n",
       "      <td>1</td>\n",
       "      <td>...</td>\n",
       "      <td>0</td>\n",
       "      <td>1</td>\n",
       "      <td>0</td>\n",
       "      <td>58</td>\n",
       "      <td>2143</td>\n",
       "      <td>5</td>\n",
       "      <td>261</td>\n",
       "      <td>1</td>\n",
       "      <td>-1</td>\n",
       "      <td>0</td>\n",
       "    </tr>\n",
       "    <tr>\n",
       "      <th>1</th>\n",
       "      <td>0</td>\n",
       "      <td>0</td>\n",
       "      <td>1</td>\n",
       "      <td>0</td>\n",
       "      <td>0</td>\n",
       "      <td>0</td>\n",
       "      <td>1</td>\n",
       "      <td>0</td>\n",
       "      <td>1</td>\n",
       "      <td>0</td>\n",
       "      <td>...</td>\n",
       "      <td>0</td>\n",
       "      <td>0</td>\n",
       "      <td>1</td>\n",
       "      <td>44</td>\n",
       "      <td>29</td>\n",
       "      <td>5</td>\n",
       "      <td>151</td>\n",
       "      <td>1</td>\n",
       "      <td>-1</td>\n",
       "      <td>0</td>\n",
       "    </tr>\n",
       "    <tr>\n",
       "      <th>2</th>\n",
       "      <td>0</td>\n",
       "      <td>0</td>\n",
       "      <td>1</td>\n",
       "      <td>0</td>\n",
       "      <td>0</td>\n",
       "      <td>0</td>\n",
       "      <td>1</td>\n",
       "      <td>0</td>\n",
       "      <td>1</td>\n",
       "      <td>0</td>\n",
       "      <td>...</td>\n",
       "      <td>0</td>\n",
       "      <td>1</td>\n",
       "      <td>0</td>\n",
       "      <td>33</td>\n",
       "      <td>2</td>\n",
       "      <td>5</td>\n",
       "      <td>76</td>\n",
       "      <td>1</td>\n",
       "      <td>-1</td>\n",
       "      <td>0</td>\n",
       "    </tr>\n",
       "    <tr>\n",
       "      <th>3</th>\n",
       "      <td>0</td>\n",
       "      <td>0</td>\n",
       "      <td>1</td>\n",
       "      <td>0</td>\n",
       "      <td>0</td>\n",
       "      <td>0</td>\n",
       "      <td>1</td>\n",
       "      <td>0</td>\n",
       "      <td>0</td>\n",
       "      <td>0</td>\n",
       "      <td>...</td>\n",
       "      <td>0</td>\n",
       "      <td>1</td>\n",
       "      <td>0</td>\n",
       "      <td>47</td>\n",
       "      <td>1506</td>\n",
       "      <td>5</td>\n",
       "      <td>92</td>\n",
       "      <td>1</td>\n",
       "      <td>-1</td>\n",
       "      <td>0</td>\n",
       "    </tr>\n",
       "    <tr>\n",
       "      <th>4</th>\n",
       "      <td>0</td>\n",
       "      <td>0</td>\n",
       "      <td>1</td>\n",
       "      <td>0</td>\n",
       "      <td>0</td>\n",
       "      <td>0</td>\n",
       "      <td>1</td>\n",
       "      <td>0</td>\n",
       "      <td>0</td>\n",
       "      <td>1</td>\n",
       "      <td>...</td>\n",
       "      <td>0</td>\n",
       "      <td>1</td>\n",
       "      <td>0</td>\n",
       "      <td>35</td>\n",
       "      <td>231</td>\n",
       "      <td>5</td>\n",
       "      <td>139</td>\n",
       "      <td>1</td>\n",
       "      <td>-1</td>\n",
       "      <td>0</td>\n",
       "    </tr>\n",
       "    <tr>\n",
       "      <th>5</th>\n",
       "      <td>0</td>\n",
       "      <td>0</td>\n",
       "      <td>1</td>\n",
       "      <td>0</td>\n",
       "      <td>0</td>\n",
       "      <td>0</td>\n",
       "      <td>1</td>\n",
       "      <td>0</td>\n",
       "      <td>0</td>\n",
       "      <td>1</td>\n",
       "      <td>...</td>\n",
       "      <td>0</td>\n",
       "      <td>0</td>\n",
       "      <td>1</td>\n",
       "      <td>28</td>\n",
       "      <td>447</td>\n",
       "      <td>5</td>\n",
       "      <td>217</td>\n",
       "      <td>1</td>\n",
       "      <td>-1</td>\n",
       "      <td>0</td>\n",
       "    </tr>\n",
       "    <tr>\n",
       "      <th>6</th>\n",
       "      <td>0</td>\n",
       "      <td>0</td>\n",
       "      <td>1</td>\n",
       "      <td>0</td>\n",
       "      <td>0</td>\n",
       "      <td>0</td>\n",
       "      <td>1</td>\n",
       "      <td>1</td>\n",
       "      <td>0</td>\n",
       "      <td>0</td>\n",
       "      <td>...</td>\n",
       "      <td>0</td>\n",
       "      <td>1</td>\n",
       "      <td>0</td>\n",
       "      <td>58</td>\n",
       "      <td>121</td>\n",
       "      <td>5</td>\n",
       "      <td>50</td>\n",
       "      <td>1</td>\n",
       "      <td>-1</td>\n",
       "      <td>0</td>\n",
       "    </tr>\n",
       "    <tr>\n",
       "      <th>7</th>\n",
       "      <td>0</td>\n",
       "      <td>0</td>\n",
       "      <td>1</td>\n",
       "      <td>0</td>\n",
       "      <td>0</td>\n",
       "      <td>0</td>\n",
       "      <td>1</td>\n",
       "      <td>0</td>\n",
       "      <td>1</td>\n",
       "      <td>0</td>\n",
       "      <td>...</td>\n",
       "      <td>0</td>\n",
       "      <td>0</td>\n",
       "      <td>1</td>\n",
       "      <td>29</td>\n",
       "      <td>390</td>\n",
       "      <td>5</td>\n",
       "      <td>137</td>\n",
       "      <td>1</td>\n",
       "      <td>-1</td>\n",
       "      <td>0</td>\n",
       "    </tr>\n",
       "    <tr>\n",
       "      <th>8</th>\n",
       "      <td>0</td>\n",
       "      <td>0</td>\n",
       "      <td>1</td>\n",
       "      <td>0</td>\n",
       "      <td>0</td>\n",
       "      <td>0</td>\n",
       "      <td>1</td>\n",
       "      <td>0</td>\n",
       "      <td>0</td>\n",
       "      <td>0</td>\n",
       "      <td>...</td>\n",
       "      <td>0</td>\n",
       "      <td>1</td>\n",
       "      <td>0</td>\n",
       "      <td>58</td>\n",
       "      <td>71</td>\n",
       "      <td>5</td>\n",
       "      <td>71</td>\n",
       "      <td>1</td>\n",
       "      <td>-1</td>\n",
       "      <td>0</td>\n",
       "    </tr>\n",
       "    <tr>\n",
       "      <th>9</th>\n",
       "      <td>0</td>\n",
       "      <td>0</td>\n",
       "      <td>1</td>\n",
       "      <td>0</td>\n",
       "      <td>0</td>\n",
       "      <td>0</td>\n",
       "      <td>1</td>\n",
       "      <td>0</td>\n",
       "      <td>1</td>\n",
       "      <td>0</td>\n",
       "      <td>...</td>\n",
       "      <td>0</td>\n",
       "      <td>1</td>\n",
       "      <td>0</td>\n",
       "      <td>57</td>\n",
       "      <td>162</td>\n",
       "      <td>5</td>\n",
       "      <td>174</td>\n",
       "      <td>1</td>\n",
       "      <td>-1</td>\n",
       "      <td>0</td>\n",
       "    </tr>\n",
       "  </tbody>\n",
       "</table>\n",
       "<p>10 rows × 51 columns</p>\n",
       "</div>"
      ],
      "text/plain": [
       "   contact_cellular  contact_telephone  contact_unknown  poutcome_failure  \\\n",
       "0                 0                  0                1                 0   \n",
       "1                 0                  0                1                 0   \n",
       "2                 0                  0                1                 0   \n",
       "3                 0                  0                1                 0   \n",
       "4                 0                  0                1                 0   \n",
       "5                 0                  0                1                 0   \n",
       "6                 0                  0                1                 0   \n",
       "7                 0                  0                1                 0   \n",
       "8                 0                  0                1                 0   \n",
       "9                 0                  0                1                 0   \n",
       "\n",
       "   poutcome_other  poutcome_success  poutcome_unknown  education_primary  \\\n",
       "0               0                 0                 1                  0   \n",
       "1               0                 0                 1                  0   \n",
       "2               0                 0                 1                  0   \n",
       "3               0                 0                 1                  0   \n",
       "4               0                 0                 1                  0   \n",
       "5               0                 0                 1                  0   \n",
       "6               0                 0                 1                  1   \n",
       "7               0                 0                 1                  0   \n",
       "8               0                 0                 1                  0   \n",
       "9               0                 0                 1                  0   \n",
       "\n",
       "   education_secondary  education_tertiary    ...     marital_divorced  \\\n",
       "0                    0                   1    ...                    0   \n",
       "1                    1                   0    ...                    0   \n",
       "2                    1                   0    ...                    0   \n",
       "3                    0                   0    ...                    0   \n",
       "4                    0                   1    ...                    0   \n",
       "5                    0                   1    ...                    0   \n",
       "6                    0                   0    ...                    0   \n",
       "7                    1                   0    ...                    0   \n",
       "8                    0                   0    ...                    0   \n",
       "9                    1                   0    ...                    0   \n",
       "\n",
       "   marital_married  marital_single  age  balance  day  duration  campaign  \\\n",
       "0                1               0   58     2143    5       261         1   \n",
       "1                0               1   44       29    5       151         1   \n",
       "2                1               0   33        2    5        76         1   \n",
       "3                1               0   47     1506    5        92         1   \n",
       "4                1               0   35      231    5       139         1   \n",
       "5                0               1   28      447    5       217         1   \n",
       "6                1               0   58      121    5        50         1   \n",
       "7                0               1   29      390    5       137         1   \n",
       "8                1               0   58       71    5        71         1   \n",
       "9                1               0   57      162    5       174         1   \n",
       "\n",
       "   pdays  previous  \n",
       "0     -1         0  \n",
       "1     -1         0  \n",
       "2     -1         0  \n",
       "3     -1         0  \n",
       "4     -1         0  \n",
       "5     -1         0  \n",
       "6     -1         0  \n",
       "7     -1         0  \n",
       "8     -1         0  \n",
       "9     -1         0  \n",
       "\n",
       "[10 rows x 51 columns]"
      ]
     },
     "execution_count": 27,
     "metadata": {},
     "output_type": "execute_result"
    }
   ],
   "source": [
    "X_train = df.iloc[:, 0:51]\n",
    "X_train.head(10)"
   ]
  },
  {
   "cell_type": "code",
   "execution_count": 28,
   "metadata": {},
   "outputs": [
    {
     "data": {
      "text/plain": [
       "contact_cellular       0\n",
       "contact_telephone      0\n",
       "contact_unknown        0\n",
       "poutcome_failure       0\n",
       "poutcome_other         0\n",
       "poutcome_success       0\n",
       "poutcome_unknown       0\n",
       "education_primary      0\n",
       "education_secondary    0\n",
       "education_tertiary     0\n",
       "education_unknown      0\n",
       "month_apr              0\n",
       "month_aug              0\n",
       "month_dec              0\n",
       "month_feb              0\n",
       "month_jan              0\n",
       "month_jul              0\n",
       "month_jun              0\n",
       "month_mar              0\n",
       "month_may              0\n",
       "month_nov              0\n",
       "month_oct              0\n",
       "month_sep              0\n",
       "housing_no             0\n",
       "housing_yes            0\n",
       "job_admin.             0\n",
       "job_blue-collar        0\n",
       "job_entrepreneur       0\n",
       "job_housemaid          0\n",
       "job_management         0\n",
       "job_retired            0\n",
       "job_self-employed      0\n",
       "job_services           0\n",
       "job_student            0\n",
       "job_technician         0\n",
       "job_unemployed         0\n",
       "job_unknown            0\n",
       "default_no             0\n",
       "default_yes            0\n",
       "loan_no                0\n",
       "loan_yes               0\n",
       "marital_divorced       0\n",
       "marital_married        0\n",
       "marital_single         0\n",
       "age                    0\n",
       "balance                0\n",
       "day                    0\n",
       "duration               0\n",
       "campaign               0\n",
       "pdays                  0\n",
       "previous               0\n",
       "dtype: int64"
      ]
     },
     "execution_count": 28,
     "metadata": {},
     "output_type": "execute_result"
    }
   ],
   "source": [
    "X_train.isnull().sum()"
   ]
  },
  {
   "cell_type": "code",
   "execution_count": 29,
   "metadata": {
    "scrolled": true
   },
   "outputs": [
    {
     "data": {
      "text/plain": [
       "0    0\n",
       "1    0\n",
       "2    0\n",
       "3    0\n",
       "4    0\n",
       "Name: y, dtype: int64"
      ]
     },
     "execution_count": 29,
     "metadata": {},
     "output_type": "execute_result"
    }
   ],
   "source": [
    "# specify y_train\n",
    "\n",
    "y_train = df['y']\n",
    "y_train.head()"
   ]
  },
  {
   "cell_type": "code",
   "execution_count": 30,
   "metadata": {
    "scrolled": true
   },
   "outputs": [
    {
     "data": {
      "text/plain": [
       "0"
      ]
     },
     "execution_count": 30,
     "metadata": {},
     "output_type": "execute_result"
    }
   ],
   "source": [
    "y_train.isnull().sum()"
   ]
  },
  {
   "cell_type": "markdown",
   "metadata": {},
   "source": [
    "## Load testing dataset"
   ]
  },
  {
   "cell_type": "code",
   "execution_count": 31,
   "metadata": {
    "scrolled": true
   },
   "outputs": [
    {
     "data": {
      "text/html": [
       "<div>\n",
       "<style scoped>\n",
       "    .dataframe tbody tr th:only-of-type {\n",
       "        vertical-align: middle;\n",
       "    }\n",
       "\n",
       "    .dataframe tbody tr th {\n",
       "        vertical-align: top;\n",
       "    }\n",
       "\n",
       "    .dataframe thead th {\n",
       "        text-align: right;\n",
       "    }\n",
       "</style>\n",
       "<table border=\"1\" class=\"dataframe\">\n",
       "  <thead>\n",
       "    <tr style=\"text-align: right;\">\n",
       "      <th></th>\n",
       "      <th>age</th>\n",
       "      <th>job</th>\n",
       "      <th>marital</th>\n",
       "      <th>education</th>\n",
       "      <th>default</th>\n",
       "      <th>balance</th>\n",
       "      <th>housing</th>\n",
       "      <th>loan</th>\n",
       "      <th>contact</th>\n",
       "      <th>day</th>\n",
       "      <th>month</th>\n",
       "      <th>duration</th>\n",
       "      <th>campaign</th>\n",
       "      <th>pdays</th>\n",
       "      <th>previous</th>\n",
       "      <th>poutcome</th>\n",
       "      <th>y</th>\n",
       "    </tr>\n",
       "  </thead>\n",
       "  <tbody>\n",
       "    <tr>\n",
       "      <th>0</th>\n",
       "      <td>33</td>\n",
       "      <td>unknown</td>\n",
       "      <td>single</td>\n",
       "      <td>unknown</td>\n",
       "      <td>no</td>\n",
       "      <td>1</td>\n",
       "      <td>no</td>\n",
       "      <td>no</td>\n",
       "      <td>unknown</td>\n",
       "      <td>5</td>\n",
       "      <td>may</td>\n",
       "      <td>198</td>\n",
       "      <td>1</td>\n",
       "      <td>-1</td>\n",
       "      <td>0</td>\n",
       "      <td>unknown</td>\n",
       "      <td>0</td>\n",
       "    </tr>\n",
       "    <tr>\n",
       "      <th>1</th>\n",
       "      <td>42</td>\n",
       "      <td>entrepreneur</td>\n",
       "      <td>divorced</td>\n",
       "      <td>tertiary</td>\n",
       "      <td>yes</td>\n",
       "      <td>2</td>\n",
       "      <td>yes</td>\n",
       "      <td>no</td>\n",
       "      <td>unknown</td>\n",
       "      <td>5</td>\n",
       "      <td>may</td>\n",
       "      <td>380</td>\n",
       "      <td>1</td>\n",
       "      <td>-1</td>\n",
       "      <td>0</td>\n",
       "      <td>unknown</td>\n",
       "      <td>0</td>\n",
       "    </tr>\n",
       "    <tr>\n",
       "      <th>2</th>\n",
       "      <td>43</td>\n",
       "      <td>technician</td>\n",
       "      <td>single</td>\n",
       "      <td>secondary</td>\n",
       "      <td>no</td>\n",
       "      <td>593</td>\n",
       "      <td>yes</td>\n",
       "      <td>no</td>\n",
       "      <td>unknown</td>\n",
       "      <td>5</td>\n",
       "      <td>may</td>\n",
       "      <td>55</td>\n",
       "      <td>1</td>\n",
       "      <td>-1</td>\n",
       "      <td>0</td>\n",
       "      <td>unknown</td>\n",
       "      <td>0</td>\n",
       "    </tr>\n",
       "    <tr>\n",
       "      <th>3</th>\n",
       "      <td>41</td>\n",
       "      <td>admin.</td>\n",
       "      <td>divorced</td>\n",
       "      <td>secondary</td>\n",
       "      <td>no</td>\n",
       "      <td>270</td>\n",
       "      <td>yes</td>\n",
       "      <td>no</td>\n",
       "      <td>unknown</td>\n",
       "      <td>5</td>\n",
       "      <td>may</td>\n",
       "      <td>222</td>\n",
       "      <td>1</td>\n",
       "      <td>-1</td>\n",
       "      <td>0</td>\n",
       "      <td>unknown</td>\n",
       "      <td>0</td>\n",
       "    </tr>\n",
       "    <tr>\n",
       "      <th>4</th>\n",
       "      <td>53</td>\n",
       "      <td>technician</td>\n",
       "      <td>married</td>\n",
       "      <td>secondary</td>\n",
       "      <td>no</td>\n",
       "      <td>6</td>\n",
       "      <td>yes</td>\n",
       "      <td>no</td>\n",
       "      <td>unknown</td>\n",
       "      <td>5</td>\n",
       "      <td>may</td>\n",
       "      <td>517</td>\n",
       "      <td>1</td>\n",
       "      <td>-1</td>\n",
       "      <td>0</td>\n",
       "      <td>unknown</td>\n",
       "      <td>0</td>\n",
       "    </tr>\n",
       "    <tr>\n",
       "      <th>5</th>\n",
       "      <td>57</td>\n",
       "      <td>blue-collar</td>\n",
       "      <td>married</td>\n",
       "      <td>primary</td>\n",
       "      <td>no</td>\n",
       "      <td>52</td>\n",
       "      <td>yes</td>\n",
       "      <td>no</td>\n",
       "      <td>unknown</td>\n",
       "      <td>5</td>\n",
       "      <td>may</td>\n",
       "      <td>38</td>\n",
       "      <td>1</td>\n",
       "      <td>-1</td>\n",
       "      <td>0</td>\n",
       "      <td>unknown</td>\n",
       "      <td>0</td>\n",
       "    </tr>\n",
       "    <tr>\n",
       "      <th>6</th>\n",
       "      <td>56</td>\n",
       "      <td>management</td>\n",
       "      <td>married</td>\n",
       "      <td>tertiary</td>\n",
       "      <td>no</td>\n",
       "      <td>779</td>\n",
       "      <td>yes</td>\n",
       "      <td>no</td>\n",
       "      <td>unknown</td>\n",
       "      <td>5</td>\n",
       "      <td>may</td>\n",
       "      <td>164</td>\n",
       "      <td>1</td>\n",
       "      <td>-1</td>\n",
       "      <td>0</td>\n",
       "      <td>unknown</td>\n",
       "      <td>0</td>\n",
       "    </tr>\n",
       "    <tr>\n",
       "      <th>7</th>\n",
       "      <td>32</td>\n",
       "      <td>blue-collar</td>\n",
       "      <td>single</td>\n",
       "      <td>primary</td>\n",
       "      <td>no</td>\n",
       "      <td>23</td>\n",
       "      <td>yes</td>\n",
       "      <td>yes</td>\n",
       "      <td>unknown</td>\n",
       "      <td>5</td>\n",
       "      <td>may</td>\n",
       "      <td>160</td>\n",
       "      <td>1</td>\n",
       "      <td>-1</td>\n",
       "      <td>0</td>\n",
       "      <td>unknown</td>\n",
       "      <td>0</td>\n",
       "    </tr>\n",
       "    <tr>\n",
       "      <th>8</th>\n",
       "      <td>25</td>\n",
       "      <td>services</td>\n",
       "      <td>married</td>\n",
       "      <td>secondary</td>\n",
       "      <td>no</td>\n",
       "      <td>50</td>\n",
       "      <td>yes</td>\n",
       "      <td>no</td>\n",
       "      <td>unknown</td>\n",
       "      <td>5</td>\n",
       "      <td>may</td>\n",
       "      <td>342</td>\n",
       "      <td>1</td>\n",
       "      <td>-1</td>\n",
       "      <td>0</td>\n",
       "      <td>unknown</td>\n",
       "      <td>0</td>\n",
       "    </tr>\n",
       "    <tr>\n",
       "      <th>9</th>\n",
       "      <td>57</td>\n",
       "      <td>technician</td>\n",
       "      <td>married</td>\n",
       "      <td>secondary</td>\n",
       "      <td>no</td>\n",
       "      <td>839</td>\n",
       "      <td>no</td>\n",
       "      <td>yes</td>\n",
       "      <td>unknown</td>\n",
       "      <td>5</td>\n",
       "      <td>may</td>\n",
       "      <td>225</td>\n",
       "      <td>1</td>\n",
       "      <td>-1</td>\n",
       "      <td>0</td>\n",
       "      <td>unknown</td>\n",
       "      <td>0</td>\n",
       "    </tr>\n",
       "  </tbody>\n",
       "</table>\n",
       "</div>"
      ],
      "text/plain": [
       "   age           job   marital  education default  balance housing loan  \\\n",
       "0   33       unknown    single    unknown      no        1      no   no   \n",
       "1   42  entrepreneur  divorced   tertiary     yes        2     yes   no   \n",
       "2   43    technician    single  secondary      no      593     yes   no   \n",
       "3   41        admin.  divorced  secondary      no      270     yes   no   \n",
       "4   53    technician   married  secondary      no        6     yes   no   \n",
       "5   57   blue-collar   married    primary      no       52     yes   no   \n",
       "6   56    management   married   tertiary      no      779     yes   no   \n",
       "7   32   blue-collar    single    primary      no       23     yes  yes   \n",
       "8   25      services   married  secondary      no       50     yes   no   \n",
       "9   57    technician   married  secondary      no      839      no  yes   \n",
       "\n",
       "   contact  day month  duration  campaign  pdays  previous poutcome  y  \n",
       "0  unknown    5   may       198         1     -1         0  unknown  0  \n",
       "1  unknown    5   may       380         1     -1         0  unknown  0  \n",
       "2  unknown    5   may        55         1     -1         0  unknown  0  \n",
       "3  unknown    5   may       222         1     -1         0  unknown  0  \n",
       "4  unknown    5   may       517         1     -1         0  unknown  0  \n",
       "5  unknown    5   may        38         1     -1         0  unknown  0  \n",
       "6  unknown    5   may       164         1     -1         0  unknown  0  \n",
       "7  unknown    5   may       160         1     -1         0  unknown  0  \n",
       "8  unknown    5   may       342         1     -1         0  unknown  0  \n",
       "9  unknown    5   may       225         1     -1         0  unknown  0  "
      ]
     },
     "execution_count": 31,
     "metadata": {},
     "output_type": "execute_result"
    }
   ],
   "source": [
    "dat = pd.read_csv('test.csv')\n",
    "dat.head(10)"
   ]
  },
  {
   "cell_type": "code",
   "execution_count": 32,
   "metadata": {},
   "outputs": [
    {
     "data": {
      "text/plain": [
       "(22605, 17)"
      ]
     },
     "execution_count": 32,
     "metadata": {},
     "output_type": "execute_result"
    }
   ],
   "source": [
    "dat.shape"
   ]
  },
  {
   "cell_type": "code",
   "execution_count": 33,
   "metadata": {
    "scrolled": false
   },
   "outputs": [
    {
     "name": "stdout",
     "output_type": "stream",
     "text": [
      "<class 'pandas.core.frame.DataFrame'>\n",
      "RangeIndex: 22605 entries, 0 to 22604\n",
      "Data columns (total 17 columns):\n",
      "age          22605 non-null int64\n",
      "job          22605 non-null object\n",
      "marital      22605 non-null object\n",
      "education    22605 non-null object\n",
      "default      22605 non-null object\n",
      "balance      22605 non-null int64\n",
      "housing      22605 non-null object\n",
      "loan         22605 non-null object\n",
      "contact      22605 non-null object\n",
      "day          22605 non-null int64\n",
      "month        22605 non-null object\n",
      "duration     22605 non-null int64\n",
      "campaign     22605 non-null int64\n",
      "pdays        22605 non-null int64\n",
      "previous     22605 non-null int64\n",
      "poutcome     22605 non-null object\n",
      "y            22605 non-null int64\n",
      "dtypes: int64(8), object(9)\n",
      "memory usage: 2.9+ MB\n"
     ]
    }
   ],
   "source": [
    "dat.info()"
   ]
  },
  {
   "cell_type": "code",
   "execution_count": 34,
   "metadata": {
    "scrolled": true
   },
   "outputs": [
    {
     "name": "stdout",
     "output_type": "stream",
     "text": [
      "0    19961\n",
      "1     2644\n",
      "Name: y, dtype: int64\n"
     ]
    }
   ],
   "source": [
    "print(dat.y.value_counts())  "
   ]
  },
  {
   "cell_type": "code",
   "execution_count": 35,
   "metadata": {},
   "outputs": [
    {
     "data": {
      "text/plain": [
       "<matplotlib.axes._subplots.AxesSubplot at 0x1fa1ab05da0>"
      ]
     },
     "execution_count": 35,
     "metadata": {},
     "output_type": "execute_result"
    },
    {
     "data": {
      "image/png": "[encoded data removed]",
      "text/plain": [
       "<Figure size 432x288 with 1 Axes>"
      ]
     },
     "metadata": {
      "needs_background": "light"
     },
     "output_type": "display_data"
    }
   ],
   "source": [
    "sns.countplot(x=\"y\", data=dat)"
   ]
  },
  {
   "cell_type": "code",
   "execution_count": 36,
   "metadata": {
    "scrolled": true
   },
   "outputs": [
    {
     "data": {
      "text/plain": [
       "age          0\n",
       "job          0\n",
       "marital      0\n",
       "education    0\n",
       "default      0\n",
       "balance      0\n",
       "housing      0\n",
       "loan         0\n",
       "contact      0\n",
       "day          0\n",
       "month        0\n",
       "duration     0\n",
       "campaign     0\n",
       "pdays        0\n",
       "previous     0\n",
       "poutcome     0\n",
       "y            0\n",
       "dtype: int64"
      ]
     },
     "execution_count": 36,
     "metadata": {},
     "output_type": "execute_result"
    }
   ],
   "source": [
    "dat.isnull().sum()"
   ]
  },
  {
   "cell_type": "markdown",
   "metadata": {},
   "source": [
    "we don't have any null values in this dataset"
   ]
  },
  {
   "cell_type": "markdown",
   "metadata": {},
   "source": [
    "## Check which columns are categorical"
   ]
  },
  {
   "cell_type": "code",
   "execution_count": 37,
   "metadata": {},
   "outputs": [
    {
     "data": {
      "text/plain": [
       "Index(['age', 'job', 'marital', 'education', 'default', 'balance', 'housing',\n",
       "       'loan', 'contact', 'day', 'month', 'duration', 'campaign', 'pdays',\n",
       "       'previous', 'poutcome', 'y'],\n",
       "      dtype='object')"
      ]
     },
     "execution_count": 37,
     "metadata": {},
     "output_type": "execute_result"
    }
   ],
   "source": [
    "# show all columns\n",
    "\n",
    "col = dat.columns\n",
    "col"
   ]
  },
  {
   "cell_type": "markdown",
   "metadata": {},
   "source": [
    "### Get numeric columns"
   ]
  },
  {
   "cell_type": "code",
   "execution_count": 38,
   "metadata": {},
   "outputs": [
    {
     "data": {
      "text/plain": [
       "Index(['age', 'balance', 'day', 'duration', 'campaign', 'pdays', 'previous',\n",
       "       'y'],\n",
       "      dtype='object')"
      ]
     },
     "execution_count": 38,
     "metadata": {},
     "output_type": "execute_result"
    }
   ],
   "source": [
    "# show numeric columns\n",
    "\n",
    "num_col = dat._get_numeric_data().columns\n",
    "num_col"
   ]
  },
  {
   "cell_type": "markdown",
   "metadata": {},
   "source": [
    "### Get categorical columns"
   ]
  },
  {
   "cell_type": "code",
   "execution_count": 39,
   "metadata": {},
   "outputs": [
    {
     "data": {
      "text/plain": [
       "['job',\n",
       " 'month',\n",
       " 'education',\n",
       " 'contact',\n",
       " 'default',\n",
       " 'marital',\n",
       " 'loan',\n",
       " 'housing',\n",
       " 'poutcome']"
      ]
     },
     "execution_count": 39,
     "metadata": {},
     "output_type": "execute_result"
    }
   ],
   "source": [
    "# show categorical columns\n",
    "\n",
    "list(set(col) - set(num_col))"
   ]
  },
  {
   "cell_type": "markdown",
   "metadata": {},
   "source": [
    "### Print categories of each categorical variable"
   ]
  },
  {
   "cell_type": "code",
   "execution_count": 40,
   "metadata": {},
   "outputs": [
    {
     "name": "stdout",
     "output_type": "stream",
     "text": [
      "['no' 'yes']\n"
     ]
    }
   ],
   "source": [
    "print(dat.default.unique())"
   ]
  },
  {
   "cell_type": "code",
   "execution_count": 41,
   "metadata": {},
   "outputs": [
    {
     "name": "stdout",
     "output_type": "stream",
     "text": [
      "['unknown' 'cellular' 'telephone']\n"
     ]
    }
   ],
   "source": [
    "print(dat.contact.unique())"
   ]
  },
  {
   "cell_type": "code",
   "execution_count": 42,
   "metadata": {},
   "outputs": [
    {
     "name": "stdout",
     "output_type": "stream",
     "text": [
      "['may' 'jun' 'jul' 'aug' 'oct' 'nov' 'dec' 'jan' 'feb' 'mar' 'apr' 'sep']\n"
     ]
    }
   ],
   "source": [
    "print(dat.month.unique())"
   ]
  },
  {
   "cell_type": "code",
   "execution_count": 43,
   "metadata": {},
   "outputs": [
    {
     "name": "stdout",
     "output_type": "stream",
     "text": [
      "['no' 'yes']\n"
     ]
    }
   ],
   "source": [
    "print(dat.loan.unique())"
   ]
  },
  {
   "cell_type": "code",
   "execution_count": 44,
   "metadata": {},
   "outputs": [
    {
     "name": "stdout",
     "output_type": "stream",
     "text": [
      "['no' 'yes']\n"
     ]
    }
   ],
   "source": [
    "print(dat.housing.unique())"
   ]
  },
  {
   "cell_type": "code",
   "execution_count": 45,
   "metadata": {},
   "outputs": [
    {
     "name": "stdout",
     "output_type": "stream",
     "text": [
      "['single' 'divorced' 'married']\n"
     ]
    }
   ],
   "source": [
    "print(dat.marital.unique())"
   ]
  },
  {
   "cell_type": "code",
   "execution_count": 46,
   "metadata": {},
   "outputs": [
    {
     "name": "stdout",
     "output_type": "stream",
     "text": [
      "['unknown' 'entrepreneur' 'technician' 'admin.' 'blue-collar' 'management'\n",
      " 'services' 'retired' 'self-employed' 'housemaid' 'unemployed' 'student']\n"
     ]
    }
   ],
   "source": [
    "print(dat.job.unique())"
   ]
  },
  {
   "cell_type": "code",
   "execution_count": 47,
   "metadata": {},
   "outputs": [
    {
     "name": "stdout",
     "output_type": "stream",
     "text": [
      "['unknown' 'other' 'failure' 'success']\n"
     ]
    }
   ],
   "source": [
    "print(dat.poutcome.unique())"
   ]
  },
  {
   "cell_type": "code",
   "execution_count": 48,
   "metadata": {},
   "outputs": [
    {
     "name": "stdout",
     "output_type": "stream",
     "text": [
      "['unknown' 'tertiary' 'secondary' 'primary']\n"
     ]
    }
   ],
   "source": [
    "print(dat.education.unique())"
   ]
  },
  {
   "cell_type": "markdown",
   "metadata": {},
   "source": [
    "### One-hot encode categorical variables"
   ]
  },
  {
   "cell_type": "markdown",
   "metadata": {},
   "source": [
    "use one-hot encoding (or dummy encoding) to encode the categorical features"
   ]
  },
  {
   "cell_type": "code",
   "execution_count": 49,
   "metadata": {},
   "outputs": [],
   "source": [
    "contact = pd.get_dummies(dat['contact'], prefix = 'contact')\n",
    "poutcome = pd.get_dummies(dat['poutcome'], prefix = 'poutcome')\n",
    "education = pd.get_dummies(dat['education'], prefix = 'education')\n",
    "\n",
    "month = pd.get_dummies(dat['month'], prefix = 'month')\n",
    "housing = pd.get_dummies(dat['housing'], prefix = 'housing')\n",
    "job = pd.get_dummies(dat['job'], prefix = 'job')\n",
    "\n",
    "default = pd.get_dummies(dat['default'], prefix = 'default')\n",
    "loan = pd.get_dummies(dat['loan'], prefix = 'loan')\n",
    "marital = pd.get_dummies(dat['marital'], prefix = 'marital')"
   ]
  },
  {
   "cell_type": "code",
   "execution_count": 50,
   "metadata": {},
   "outputs": [],
   "source": [
    "# Concat all dummies and continuous variables  \n",
    "\n",
    "dat = pd.concat([contact,poutcome,education,\n",
    "              month,housing,job,\n",
    "              default,loan,marital,\n",
    "              dat[['age','balance','day',\n",
    "                  'duration','campaign','pdays','previous','y']]\n",
    "              ],\n",
    "              axis=1)"
   ]
  },
  {
   "cell_type": "code",
   "execution_count": 51,
   "metadata": {},
   "outputs": [
    {
     "name": "stdout",
     "output_type": "stream",
     "text": [
      "<class 'pandas.core.frame.DataFrame'>\n",
      "RangeIndex: 22605 entries, 0 to 22604\n",
      "Data columns (total 52 columns):\n",
      "contact_cellular       22605 non-null uint8\n",
      "contact_telephone      22605 non-null uint8\n",
      "contact_unknown        22605 non-null uint8\n",
      "poutcome_failure       22605 non-null uint8\n",
      "poutcome_other         22605 non-null uint8\n",
      "poutcome_success       22605 non-null uint8\n",
      "poutcome_unknown       22605 non-null uint8\n",
      "education_primary      22605 non-null uint8\n",
      "education_secondary    22605 non-null uint8\n",
      "education_tertiary     22605 non-null uint8\n",
      "education_unknown      22605 non-null uint8\n",
      "month_apr              22605 non-null uint8\n",
      "month_aug              22605 non-null uint8\n",
      "month_dec              22605 non-null uint8\n",
      "month_feb              22605 non-null uint8\n",
      "month_jan              22605 non-null uint8\n",
      "month_jul              22605 non-null uint8\n",
      "month_jun              22605 non-null uint8\n",
      "month_mar              22605 non-null uint8\n",
      "month_may              22605 non-null uint8\n",
      "month_nov              22605 non-null uint8\n",
      "month_oct              22605 non-null uint8\n",
      "month_sep              22605 non-null uint8\n",
      "housing_no             22605 non-null uint8\n",
      "housing_yes            22605 non-null uint8\n",
      "job_admin.             22605 non-null uint8\n",
      "job_blue-collar        22605 non-null uint8\n",
      "job_entrepreneur       22605 non-null uint8\n",
      "job_housemaid          22605 non-null uint8\n",
      "job_management         22605 non-null uint8\n",
      "job_retired            22605 non-null uint8\n",
      "job_self-employed      22605 non-null uint8\n",
      "job_services           22605 non-null uint8\n",
      "job_student            22605 non-null uint8\n",
      "job_technician         22605 non-null uint8\n",
      "job_unemployed         22605 non-null uint8\n",
      "job_unknown            22605 non-null uint8\n",
      "default_no             22605 non-null uint8\n",
      "default_yes            22605 non-null uint8\n",
      "loan_no                22605 non-null uint8\n",
      "loan_yes               22605 non-null uint8\n",
      "marital_divorced       22605 non-null uint8\n",
      "marital_married        22605 non-null uint8\n",
      "marital_single         22605 non-null uint8\n",
      "age                    22605 non-null int64\n",
      "balance                22605 non-null int64\n",
      "day                    22605 non-null int64\n",
      "duration               22605 non-null int64\n",
      "campaign               22605 non-null int64\n",
      "pdays                  22605 non-null int64\n",
      "previous               22605 non-null int64\n",
      "y                      22605 non-null int64\n",
      "dtypes: int64(8), uint8(44)\n",
      "memory usage: 2.3 MB\n"
     ]
    }
   ],
   "source": [
    "dat.info()"
   ]
  },
  {
   "cell_type": "code",
   "execution_count": 52,
   "metadata": {},
   "outputs": [
    {
     "data": {
      "text/plain": [
       "(22605, 52)"
      ]
     },
     "execution_count": 52,
     "metadata": {},
     "output_type": "execute_result"
    }
   ],
   "source": [
    "dat.shape"
   ]
  },
  {
   "cell_type": "code",
   "execution_count": 53,
   "metadata": {},
   "outputs": [
    {
     "data": {
      "text/html": [
       "<div>\n",
       "<style scoped>\n",
       "    .dataframe tbody tr th:only-of-type {\n",
       "        vertical-align: middle;\n",
       "    }\n",
       "\n",
       "    .dataframe tbody tr th {\n",
       "        vertical-align: top;\n",
       "    }\n",
       "\n",
       "    .dataframe thead th {\n",
       "        text-align: right;\n",
       "    }\n",
       "</style>\n",
       "<table border=\"1\" class=\"dataframe\">\n",
       "  <thead>\n",
       "    <tr style=\"text-align: right;\">\n",
       "      <th></th>\n",
       "      <th>count</th>\n",
       "      <th>mean</th>\n",
       "      <th>std</th>\n",
       "      <th>min</th>\n",
       "      <th>25%</th>\n",
       "      <th>50%</th>\n",
       "      <th>75%</th>\n",
       "      <th>max</th>\n",
       "    </tr>\n",
       "  </thead>\n",
       "  <tbody>\n",
       "    <tr>\n",
       "      <th>contact_cellular</th>\n",
       "      <td>22605.0</td>\n",
       "      <td>0.649281</td>\n",
       "      <td>0.477206</td>\n",
       "      <td>0.0</td>\n",
       "      <td>0.0</td>\n",
       "      <td>1.0</td>\n",
       "      <td>1.0</td>\n",
       "      <td>1.0</td>\n",
       "    </tr>\n",
       "    <tr>\n",
       "      <th>contact_telephone</th>\n",
       "      <td>22605.0</td>\n",
       "      <td>0.063437</td>\n",
       "      <td>0.243753</td>\n",
       "      <td>0.0</td>\n",
       "      <td>0.0</td>\n",
       "      <td>0.0</td>\n",
       "      <td>0.0</td>\n",
       "      <td>1.0</td>\n",
       "    </tr>\n",
       "    <tr>\n",
       "      <th>contact_unknown</th>\n",
       "      <td>22605.0</td>\n",
       "      <td>0.287282</td>\n",
       "      <td>0.452504</td>\n",
       "      <td>0.0</td>\n",
       "      <td>0.0</td>\n",
       "      <td>0.0</td>\n",
       "      <td>1.0</td>\n",
       "      <td>1.0</td>\n",
       "    </tr>\n",
       "    <tr>\n",
       "      <th>poutcome_failure</th>\n",
       "      <td>22605.0</td>\n",
       "      <td>0.110551</td>\n",
       "      <td>0.313582</td>\n",
       "      <td>0.0</td>\n",
       "      <td>0.0</td>\n",
       "      <td>0.0</td>\n",
       "      <td>0.0</td>\n",
       "      <td>1.0</td>\n",
       "    </tr>\n",
       "    <tr>\n",
       "      <th>poutcome_other</th>\n",
       "      <td>22605.0</td>\n",
       "      <td>0.040168</td>\n",
       "      <td>0.196358</td>\n",
       "      <td>0.0</td>\n",
       "      <td>0.0</td>\n",
       "      <td>0.0</td>\n",
       "      <td>0.0</td>\n",
       "      <td>1.0</td>\n",
       "    </tr>\n",
       "    <tr>\n",
       "      <th>poutcome_success</th>\n",
       "      <td>22605.0</td>\n",
       "      <td>0.032692</td>\n",
       "      <td>0.177833</td>\n",
       "      <td>0.0</td>\n",
       "      <td>0.0</td>\n",
       "      <td>0.0</td>\n",
       "      <td>0.0</td>\n",
       "      <td>1.0</td>\n",
       "    </tr>\n",
       "    <tr>\n",
       "      <th>poutcome_unknown</th>\n",
       "      <td>22605.0</td>\n",
       "      <td>0.816589</td>\n",
       "      <td>0.387011</td>\n",
       "      <td>0.0</td>\n",
       "      <td>1.0</td>\n",
       "      <td>1.0</td>\n",
       "      <td>1.0</td>\n",
       "      <td>1.0</td>\n",
       "    </tr>\n",
       "    <tr>\n",
       "      <th>education_primary</th>\n",
       "      <td>22605.0</td>\n",
       "      <td>0.154125</td>\n",
       "      <td>0.361077</td>\n",
       "      <td>0.0</td>\n",
       "      <td>0.0</td>\n",
       "      <td>0.0</td>\n",
       "      <td>0.0</td>\n",
       "      <td>1.0</td>\n",
       "    </tr>\n",
       "    <tr>\n",
       "      <th>education_secondary</th>\n",
       "      <td>22605.0</td>\n",
       "      <td>0.513249</td>\n",
       "      <td>0.499835</td>\n",
       "      <td>0.0</td>\n",
       "      <td>0.0</td>\n",
       "      <td>1.0</td>\n",
       "      <td>1.0</td>\n",
       "      <td>1.0</td>\n",
       "    </tr>\n",
       "    <tr>\n",
       "      <th>education_tertiary</th>\n",
       "      <td>22605.0</td>\n",
       "      <td>0.292369</td>\n",
       "      <td>0.454861</td>\n",
       "      <td>0.0</td>\n",
       "      <td>0.0</td>\n",
       "      <td>0.0</td>\n",
       "      <td>1.0</td>\n",
       "      <td>1.0</td>\n",
       "    </tr>\n",
       "    <tr>\n",
       "      <th>education_unknown</th>\n",
       "      <td>22605.0</td>\n",
       "      <td>0.040257</td>\n",
       "      <td>0.196565</td>\n",
       "      <td>0.0</td>\n",
       "      <td>0.0</td>\n",
       "      <td>0.0</td>\n",
       "      <td>0.0</td>\n",
       "      <td>1.0</td>\n",
       "    </tr>\n",
       "    <tr>\n",
       "      <th>month_apr</th>\n",
       "      <td>22605.0</td>\n",
       "      <td>0.064012</td>\n",
       "      <td>0.244780</td>\n",
       "      <td>0.0</td>\n",
       "      <td>0.0</td>\n",
       "      <td>0.0</td>\n",
       "      <td>0.0</td>\n",
       "      <td>1.0</td>\n",
       "    </tr>\n",
       "    <tr>\n",
       "      <th>month_aug</th>\n",
       "      <td>22605.0</td>\n",
       "      <td>0.137757</td>\n",
       "      <td>0.344653</td>\n",
       "      <td>0.0</td>\n",
       "      <td>0.0</td>\n",
       "      <td>0.0</td>\n",
       "      <td>0.0</td>\n",
       "      <td>1.0</td>\n",
       "    </tr>\n",
       "    <tr>\n",
       "      <th>month_dec</th>\n",
       "      <td>22605.0</td>\n",
       "      <td>0.004468</td>\n",
       "      <td>0.066695</td>\n",
       "      <td>0.0</td>\n",
       "      <td>0.0</td>\n",
       "      <td>0.0</td>\n",
       "      <td>0.0</td>\n",
       "      <td>1.0</td>\n",
       "    </tr>\n",
       "    <tr>\n",
       "      <th>month_feb</th>\n",
       "      <td>22605.0</td>\n",
       "      <td>0.059323</td>\n",
       "      <td>0.236234</td>\n",
       "      <td>0.0</td>\n",
       "      <td>0.0</td>\n",
       "      <td>0.0</td>\n",
       "      <td>0.0</td>\n",
       "      <td>1.0</td>\n",
       "    </tr>\n",
       "    <tr>\n",
       "      <th>month_jan</th>\n",
       "      <td>22605.0</td>\n",
       "      <td>0.031011</td>\n",
       "      <td>0.173351</td>\n",
       "      <td>0.0</td>\n",
       "      <td>0.0</td>\n",
       "      <td>0.0</td>\n",
       "      <td>0.0</td>\n",
       "      <td>1.0</td>\n",
       "    </tr>\n",
       "    <tr>\n",
       "      <th>month_jul</th>\n",
       "      <td>22605.0</td>\n",
       "      <td>0.153108</td>\n",
       "      <td>0.360099</td>\n",
       "      <td>0.0</td>\n",
       "      <td>0.0</td>\n",
       "      <td>0.0</td>\n",
       "      <td>0.0</td>\n",
       "      <td>1.0</td>\n",
       "    </tr>\n",
       "    <tr>\n",
       "      <th>month_jun</th>\n",
       "      <td>22605.0</td>\n",
       "      <td>0.118292</td>\n",
       "      <td>0.322961</td>\n",
       "      <td>0.0</td>\n",
       "      <td>0.0</td>\n",
       "      <td>0.0</td>\n",
       "      <td>0.0</td>\n",
       "      <td>1.0</td>\n",
       "    </tr>\n",
       "    <tr>\n",
       "      <th>month_mar</th>\n",
       "      <td>22605.0</td>\n",
       "      <td>0.010617</td>\n",
       "      <td>0.102493</td>\n",
       "      <td>0.0</td>\n",
       "      <td>0.0</td>\n",
       "      <td>0.0</td>\n",
       "      <td>0.0</td>\n",
       "      <td>1.0</td>\n",
       "    </tr>\n",
       "    <tr>\n",
       "      <th>month_may</th>\n",
       "      <td>22605.0</td>\n",
       "      <td>0.304844</td>\n",
       "      <td>0.460352</td>\n",
       "      <td>0.0</td>\n",
       "      <td>0.0</td>\n",
       "      <td>0.0</td>\n",
       "      <td>1.0</td>\n",
       "      <td>1.0</td>\n",
       "    </tr>\n",
       "    <tr>\n",
       "      <th>month_nov</th>\n",
       "      <td>22605.0</td>\n",
       "      <td>0.087901</td>\n",
       "      <td>0.283157</td>\n",
       "      <td>0.0</td>\n",
       "      <td>0.0</td>\n",
       "      <td>0.0</td>\n",
       "      <td>0.0</td>\n",
       "      <td>1.0</td>\n",
       "    </tr>\n",
       "    <tr>\n",
       "      <th>month_oct</th>\n",
       "      <td>22605.0</td>\n",
       "      <td>0.015970</td>\n",
       "      <td>0.125362</td>\n",
       "      <td>0.0</td>\n",
       "      <td>0.0</td>\n",
       "      <td>0.0</td>\n",
       "      <td>0.0</td>\n",
       "      <td>1.0</td>\n",
       "    </tr>\n",
       "    <tr>\n",
       "      <th>month_sep</th>\n",
       "      <td>22605.0</td>\n",
       "      <td>0.012696</td>\n",
       "      <td>0.111963</td>\n",
       "      <td>0.0</td>\n",
       "      <td>0.0</td>\n",
       "      <td>0.0</td>\n",
       "      <td>0.0</td>\n",
       "      <td>1.0</td>\n",
       "    </tr>\n",
       "    <tr>\n",
       "      <th>housing_no</th>\n",
       "      <td>22605.0</td>\n",
       "      <td>0.444238</td>\n",
       "      <td>0.496892</td>\n",
       "      <td>0.0</td>\n",
       "      <td>0.0</td>\n",
       "      <td>0.0</td>\n",
       "      <td>1.0</td>\n",
       "      <td>1.0</td>\n",
       "    </tr>\n",
       "    <tr>\n",
       "      <th>housing_yes</th>\n",
       "      <td>22605.0</td>\n",
       "      <td>0.555762</td>\n",
       "      <td>0.496892</td>\n",
       "      <td>0.0</td>\n",
       "      <td>0.0</td>\n",
       "      <td>1.0</td>\n",
       "      <td>1.0</td>\n",
       "      <td>1.0</td>\n",
       "    </tr>\n",
       "    <tr>\n",
       "      <th>job_admin.</th>\n",
       "      <td>22605.0</td>\n",
       "      <td>0.113072</td>\n",
       "      <td>0.316688</td>\n",
       "      <td>0.0</td>\n",
       "      <td>0.0</td>\n",
       "      <td>0.0</td>\n",
       "      <td>0.0</td>\n",
       "      <td>1.0</td>\n",
       "    </tr>\n",
       "    <tr>\n",
       "      <th>job_blue-collar</th>\n",
       "      <td>22605.0</td>\n",
       "      <td>0.215881</td>\n",
       "      <td>0.411442</td>\n",
       "      <td>0.0</td>\n",
       "      <td>0.0</td>\n",
       "      <td>0.0</td>\n",
       "      <td>0.0</td>\n",
       "      <td>1.0</td>\n",
       "    </tr>\n",
       "    <tr>\n",
       "      <th>job_entrepreneur</th>\n",
       "      <td>22605.0</td>\n",
       "      <td>0.032825</td>\n",
       "      <td>0.178181</td>\n",
       "      <td>0.0</td>\n",
       "      <td>0.0</td>\n",
       "      <td>0.0</td>\n",
       "      <td>0.0</td>\n",
       "      <td>1.0</td>\n",
       "    </tr>\n",
       "    <tr>\n",
       "      <th>job_housemaid</th>\n",
       "      <td>22605.0</td>\n",
       "      <td>0.026277</td>\n",
       "      <td>0.159963</td>\n",
       "      <td>0.0</td>\n",
       "      <td>0.0</td>\n",
       "      <td>0.0</td>\n",
       "      <td>0.0</td>\n",
       "      <td>1.0</td>\n",
       "    </tr>\n",
       "    <tr>\n",
       "      <th>job_management</th>\n",
       "      <td>22605.0</td>\n",
       "      <td>0.207388</td>\n",
       "      <td>0.405445</td>\n",
       "      <td>0.0</td>\n",
       "      <td>0.0</td>\n",
       "      <td>0.0</td>\n",
       "      <td>0.0</td>\n",
       "      <td>1.0</td>\n",
       "    </tr>\n",
       "    <tr>\n",
       "      <th>job_retired</th>\n",
       "      <td>22605.0</td>\n",
       "      <td>0.050874</td>\n",
       "      <td>0.219745</td>\n",
       "      <td>0.0</td>\n",
       "      <td>0.0</td>\n",
       "      <td>0.0</td>\n",
       "      <td>0.0</td>\n",
       "      <td>1.0</td>\n",
       "    </tr>\n",
       "    <tr>\n",
       "      <th>job_self-employed</th>\n",
       "      <td>22605.0</td>\n",
       "      <td>0.035169</td>\n",
       "      <td>0.184211</td>\n",
       "      <td>0.0</td>\n",
       "      <td>0.0</td>\n",
       "      <td>0.0</td>\n",
       "      <td>0.0</td>\n",
       "      <td>1.0</td>\n",
       "    </tr>\n",
       "    <tr>\n",
       "      <th>job_services</th>\n",
       "      <td>22605.0</td>\n",
       "      <td>0.092280</td>\n",
       "      <td>0.289428</td>\n",
       "      <td>0.0</td>\n",
       "      <td>0.0</td>\n",
       "      <td>0.0</td>\n",
       "      <td>0.0</td>\n",
       "      <td>1.0</td>\n",
       "    </tr>\n",
       "    <tr>\n",
       "      <th>job_student</th>\n",
       "      <td>22605.0</td>\n",
       "      <td>0.020748</td>\n",
       "      <td>0.142541</td>\n",
       "      <td>0.0</td>\n",
       "      <td>0.0</td>\n",
       "      <td>0.0</td>\n",
       "      <td>0.0</td>\n",
       "      <td>1.0</td>\n",
       "    </tr>\n",
       "    <tr>\n",
       "      <th>job_technician</th>\n",
       "      <td>22605.0</td>\n",
       "      <td>0.168724</td>\n",
       "      <td>0.374516</td>\n",
       "      <td>0.0</td>\n",
       "      <td>0.0</td>\n",
       "      <td>0.0</td>\n",
       "      <td>0.0</td>\n",
       "      <td>1.0</td>\n",
       "    </tr>\n",
       "    <tr>\n",
       "      <th>job_unemployed</th>\n",
       "      <td>22605.0</td>\n",
       "      <td>0.030524</td>\n",
       "      <td>0.172028</td>\n",
       "      <td>0.0</td>\n",
       "      <td>0.0</td>\n",
       "      <td>0.0</td>\n",
       "      <td>0.0</td>\n",
       "      <td>1.0</td>\n",
       "    </tr>\n",
       "    <tr>\n",
       "      <th>job_unknown</th>\n",
       "      <td>22605.0</td>\n",
       "      <td>0.006238</td>\n",
       "      <td>0.078733</td>\n",
       "      <td>0.0</td>\n",
       "      <td>0.0</td>\n",
       "      <td>0.0</td>\n",
       "      <td>0.0</td>\n",
       "      <td>1.0</td>\n",
       "    </tr>\n",
       "    <tr>\n",
       "      <th>default_no</th>\n",
       "      <td>22605.0</td>\n",
       "      <td>0.981862</td>\n",
       "      <td>0.133452</td>\n",
       "      <td>0.0</td>\n",
       "      <td>1.0</td>\n",
       "      <td>1.0</td>\n",
       "      <td>1.0</td>\n",
       "      <td>1.0</td>\n",
       "    </tr>\n",
       "    <tr>\n",
       "      <th>default_yes</th>\n",
       "      <td>22605.0</td>\n",
       "      <td>0.018138</td>\n",
       "      <td>0.133452</td>\n",
       "      <td>0.0</td>\n",
       "      <td>0.0</td>\n",
       "      <td>0.0</td>\n",
       "      <td>0.0</td>\n",
       "      <td>1.0</td>\n",
       "    </tr>\n",
       "    <tr>\n",
       "      <th>loan_no</th>\n",
       "      <td>22605.0</td>\n",
       "      <td>0.840389</td>\n",
       "      <td>0.366253</td>\n",
       "      <td>0.0</td>\n",
       "      <td>1.0</td>\n",
       "      <td>1.0</td>\n",
       "      <td>1.0</td>\n",
       "      <td>1.0</td>\n",
       "    </tr>\n",
       "    <tr>\n",
       "      <th>loan_yes</th>\n",
       "      <td>22605.0</td>\n",
       "      <td>0.159611</td>\n",
       "      <td>0.366253</td>\n",
       "      <td>0.0</td>\n",
       "      <td>0.0</td>\n",
       "      <td>0.0</td>\n",
       "      <td>0.0</td>\n",
       "      <td>1.0</td>\n",
       "    </tr>\n",
       "    <tr>\n",
       "      <th>marital_divorced</th>\n",
       "      <td>22605.0</td>\n",
       "      <td>0.115992</td>\n",
       "      <td>0.320222</td>\n",
       "      <td>0.0</td>\n",
       "      <td>0.0</td>\n",
       "      <td>0.0</td>\n",
       "      <td>0.0</td>\n",
       "      <td>1.0</td>\n",
       "    </tr>\n",
       "    <tr>\n",
       "      <th>marital_married</th>\n",
       "      <td>22605.0</td>\n",
       "      <td>0.602522</td>\n",
       "      <td>0.489387</td>\n",
       "      <td>0.0</td>\n",
       "      <td>0.0</td>\n",
       "      <td>1.0</td>\n",
       "      <td>1.0</td>\n",
       "      <td>1.0</td>\n",
       "    </tr>\n",
       "    <tr>\n",
       "      <th>marital_single</th>\n",
       "      <td>22605.0</td>\n",
       "      <td>0.281486</td>\n",
       "      <td>0.449734</td>\n",
       "      <td>0.0</td>\n",
       "      <td>0.0</td>\n",
       "      <td>0.0</td>\n",
       "      <td>1.0</td>\n",
       "      <td>1.0</td>\n",
       "    </tr>\n",
       "    <tr>\n",
       "      <th>age</th>\n",
       "      <td>22605.0</td>\n",
       "      <td>40.965583</td>\n",
       "      <td>10.596673</td>\n",
       "      <td>18.0</td>\n",
       "      <td>33.0</td>\n",
       "      <td>39.0</td>\n",
       "      <td>49.0</td>\n",
       "      <td>95.0</td>\n",
       "    </tr>\n",
       "    <tr>\n",
       "      <th>balance</th>\n",
       "      <td>22605.0</td>\n",
       "      <td>1364.437337</td>\n",
       "      <td>3021.356866</td>\n",
       "      <td>-8019.0</td>\n",
       "      <td>76.0</td>\n",
       "      <td>458.0</td>\n",
       "      <td>1431.0</td>\n",
       "      <td>102127.0</td>\n",
       "    </tr>\n",
       "    <tr>\n",
       "      <th>day</th>\n",
       "      <td>22605.0</td>\n",
       "      <td>15.786552</td>\n",
       "      <td>8.308587</td>\n",
       "      <td>1.0</td>\n",
       "      <td>8.0</td>\n",
       "      <td>16.0</td>\n",
       "      <td>21.0</td>\n",
       "      <td>31.0</td>\n",
       "    </tr>\n",
       "    <tr>\n",
       "      <th>duration</th>\n",
       "      <td>22605.0</td>\n",
       "      <td>259.872948</td>\n",
       "      <td>261.622527</td>\n",
       "      <td>0.0</td>\n",
       "      <td>104.0</td>\n",
       "      <td>181.0</td>\n",
       "      <td>320.0</td>\n",
       "      <td>4918.0</td>\n",
       "    </tr>\n",
       "    <tr>\n",
       "      <th>campaign</th>\n",
       "      <td>22605.0</td>\n",
       "      <td>2.773501</td>\n",
       "      <td>3.106443</td>\n",
       "      <td>1.0</td>\n",
       "      <td>1.0</td>\n",
       "      <td>2.0</td>\n",
       "      <td>3.0</td>\n",
       "      <td>63.0</td>\n",
       "    </tr>\n",
       "    <tr>\n",
       "      <th>pdays</th>\n",
       "      <td>22605.0</td>\n",
       "      <td>40.480823</td>\n",
       "      <td>100.127317</td>\n",
       "      <td>-1.0</td>\n",
       "      <td>-1.0</td>\n",
       "      <td>-1.0</td>\n",
       "      <td>-1.0</td>\n",
       "      <td>871.0</td>\n",
       "    </tr>\n",
       "    <tr>\n",
       "      <th>previous</th>\n",
       "      <td>22605.0</td>\n",
       "      <td>0.592701</td>\n",
       "      <td>2.670177</td>\n",
       "      <td>0.0</td>\n",
       "      <td>0.0</td>\n",
       "      <td>0.0</td>\n",
       "      <td>0.0</td>\n",
       "      <td>275.0</td>\n",
       "    </tr>\n",
       "    <tr>\n",
       "      <th>y</th>\n",
       "      <td>22605.0</td>\n",
       "      <td>0.116965</td>\n",
       "      <td>0.321386</td>\n",
       "      <td>0.0</td>\n",
       "      <td>0.0</td>\n",
       "      <td>0.0</td>\n",
       "      <td>0.0</td>\n",
       "      <td>1.0</td>\n",
       "    </tr>\n",
       "  </tbody>\n",
       "</table>\n",
       "</div>"
      ],
      "text/plain": [
       "                       count         mean          std     min    25%    50%  \\\n",
       "contact_cellular     22605.0     0.649281     0.477206     0.0    0.0    1.0   \n",
       "contact_telephone    22605.0     0.063437     0.243753     0.0    0.0    0.0   \n",
       "contact_unknown      22605.0     0.287282     0.452504     0.0    0.0    0.0   \n",
       "poutcome_failure     22605.0     0.110551     0.313582     0.0    0.0    0.0   \n",
       "poutcome_other       22605.0     0.040168     0.196358     0.0    0.0    0.0   \n",
       "poutcome_success     22605.0     0.032692     0.177833     0.0    0.0    0.0   \n",
       "poutcome_unknown     22605.0     0.816589     0.387011     0.0    1.0    1.0   \n",
       "education_primary    22605.0     0.154125     0.361077     0.0    0.0    0.0   \n",
       "education_secondary  22605.0     0.513249     0.499835     0.0    0.0    1.0   \n",
       "education_tertiary   22605.0     0.292369     0.454861     0.0    0.0    0.0   \n",
       "education_unknown    22605.0     0.040257     0.196565     0.0    0.0    0.0   \n",
       "month_apr            22605.0     0.064012     0.244780     0.0    0.0    0.0   \n",
       "month_aug            22605.0     0.137757     0.344653     0.0    0.0    0.0   \n",
       "month_dec            22605.0     0.004468     0.066695     0.0    0.0    0.0   \n",
       "month_feb            22605.0     0.059323     0.236234     0.0    0.0    0.0   \n",
       "month_jan            22605.0     0.031011     0.173351     0.0    0.0    0.0   \n",
       "month_jul            22605.0     0.153108     0.360099     0.0    0.0    0.0   \n",
       "month_jun            22605.0     0.118292     0.322961     0.0    0.0    0.0   \n",
       "month_mar            22605.0     0.010617     0.102493     0.0    0.0    0.0   \n",
       "month_may            22605.0     0.304844     0.460352     0.0    0.0    0.0   \n",
       "month_nov            22605.0     0.087901     0.283157     0.0    0.0    0.0   \n",
       "month_oct            22605.0     0.015970     0.125362     0.0    0.0    0.0   \n",
       "month_sep            22605.0     0.012696     0.111963     0.0    0.0    0.0   \n",
       "housing_no           22605.0     0.444238     0.496892     0.0    0.0    0.0   \n",
       "housing_yes          22605.0     0.555762     0.496892     0.0    0.0    1.0   \n",
       "job_admin.           22605.0     0.113072     0.316688     0.0    0.0    0.0   \n",
       "job_blue-collar      22605.0     0.215881     0.411442     0.0    0.0    0.0   \n",
       "job_entrepreneur     22605.0     0.032825     0.178181     0.0    0.0    0.0   \n",
       "job_housemaid        22605.0     0.026277     0.159963     0.0    0.0    0.0   \n",
       "job_management       22605.0     0.207388     0.405445     0.0    0.0    0.0   \n",
       "job_retired          22605.0     0.050874     0.219745     0.0    0.0    0.0   \n",
       "job_self-employed    22605.0     0.035169     0.184211     0.0    0.0    0.0   \n",
       "job_services         22605.0     0.092280     0.289428     0.0    0.0    0.0   \n",
       "job_student          22605.0     0.020748     0.142541     0.0    0.0    0.0   \n",
       "job_technician       22605.0     0.168724     0.374516     0.0    0.0    0.0   \n",
       "job_unemployed       22605.0     0.030524     0.172028     0.0    0.0    0.0   \n",
       "job_unknown          22605.0     0.006238     0.078733     0.0    0.0    0.0   \n",
       "default_no           22605.0     0.981862     0.133452     0.0    1.0    1.0   \n",
       "default_yes          22605.0     0.018138     0.133452     0.0    0.0    0.0   \n",
       "loan_no              22605.0     0.840389     0.366253     0.0    1.0    1.0   \n",
       "loan_yes             22605.0     0.159611     0.366253     0.0    0.0    0.0   \n",
       "marital_divorced     22605.0     0.115992     0.320222     0.0    0.0    0.0   \n",
       "marital_married      22605.0     0.602522     0.489387     0.0    0.0    1.0   \n",
       "marital_single       22605.0     0.281486     0.449734     0.0    0.0    0.0   \n",
       "age                  22605.0    40.965583    10.596673    18.0   33.0   39.0   \n",
       "balance              22605.0  1364.437337  3021.356866 -8019.0   76.0  458.0   \n",
       "day                  22605.0    15.786552     8.308587     1.0    8.0   16.0   \n",
       "duration             22605.0   259.872948   261.622527     0.0  104.0  181.0   \n",
       "campaign             22605.0     2.773501     3.106443     1.0    1.0    2.0   \n",
       "pdays                22605.0    40.480823   100.127317    -1.0   -1.0   -1.0   \n",
       "previous             22605.0     0.592701     2.670177     0.0    0.0    0.0   \n",
       "y                    22605.0     0.116965     0.321386     0.0    0.0    0.0   \n",
       "\n",
       "                        75%       max  \n",
       "contact_cellular        1.0       1.0  \n",
       "contact_telephone       0.0       1.0  \n",
       "contact_unknown         1.0       1.0  \n",
       "poutcome_failure        0.0       1.0  \n",
       "poutcome_other          0.0       1.0  \n",
       "poutcome_success        0.0       1.0  \n",
       "poutcome_unknown        1.0       1.0  \n",
       "education_primary       0.0       1.0  \n",
       "education_secondary     1.0       1.0  \n",
       "education_tertiary      1.0       1.0  \n",
       "education_unknown       0.0       1.0  \n",
       "month_apr               0.0       1.0  \n",
       "month_aug               0.0       1.0  \n",
       "month_dec               0.0       1.0  \n",
       "month_feb               0.0       1.0  \n",
       "month_jan               0.0       1.0  \n",
       "month_jul               0.0       1.0  \n",
       "month_jun               0.0       1.0  \n",
       "month_mar               0.0       1.0  \n",
       "month_may               1.0       1.0  \n",
       "month_nov               0.0       1.0  \n",
       "month_oct               0.0       1.0  \n",
       "month_sep               0.0       1.0  \n",
       "housing_no              1.0       1.0  \n",
       "housing_yes             1.0       1.0  \n",
       "job_admin.              0.0       1.0  \n",
       "job_blue-collar         0.0       1.0  \n",
       "job_entrepreneur        0.0       1.0  \n",
       "job_housemaid           0.0       1.0  \n",
       "job_management          0.0       1.0  \n",
       "job_retired             0.0       1.0  \n",
       "job_self-employed       0.0       1.0  \n",
       "job_services            0.0       1.0  \n",
       "job_student             0.0       1.0  \n",
       "job_technician          0.0       1.0  \n",
       "job_unemployed          0.0       1.0  \n",
       "job_unknown             0.0       1.0  \n",
       "default_no              1.0       1.0  \n",
       "default_yes             0.0       1.0  \n",
       "loan_no                 1.0       1.0  \n",
       "loan_yes                0.0       1.0  \n",
       "marital_divorced        0.0       1.0  \n",
       "marital_married         1.0       1.0  \n",
       "marital_single          1.0       1.0  \n",
       "age                    49.0      95.0  \n",
       "balance              1431.0  102127.0  \n",
       "day                    21.0      31.0  \n",
       "duration              320.0    4918.0  \n",
       "campaign                3.0      63.0  \n",
       "pdays                  -1.0     871.0  \n",
       "previous                0.0     275.0  \n",
       "y                       0.0       1.0  "
      ]
     },
     "execution_count": 53,
     "metadata": {},
     "output_type": "execute_result"
    }
   ],
   "source": [
    "dat.describe().transpose()"
   ]
  },
  {
   "cell_type": "markdown",
   "metadata": {},
   "source": [
    "## Define testing data"
   ]
  },
  {
   "cell_type": "code",
   "execution_count": 54,
   "metadata": {
    "scrolled": true
   },
   "outputs": [
    {
     "data": {
      "text/html": [
       "<div>\n",
       "<style scoped>\n",
       "    .dataframe tbody tr th:only-of-type {\n",
       "        vertical-align: middle;\n",
       "    }\n",
       "\n",
       "    .dataframe tbody tr th {\n",
       "        vertical-align: top;\n",
       "    }\n",
       "\n",
       "    .dataframe thead th {\n",
       "        text-align: right;\n",
       "    }\n",
       "</style>\n",
       "<table border=\"1\" class=\"dataframe\">\n",
       "  <thead>\n",
       "    <tr style=\"text-align: right;\">\n",
       "      <th></th>\n",
       "      <th>contact_cellular</th>\n",
       "      <th>contact_telephone</th>\n",
       "      <th>contact_unknown</th>\n",
       "      <th>poutcome_failure</th>\n",
       "      <th>poutcome_other</th>\n",
       "      <th>poutcome_success</th>\n",
       "      <th>poutcome_unknown</th>\n",
       "      <th>education_primary</th>\n",
       "      <th>education_secondary</th>\n",
       "      <th>education_tertiary</th>\n",
       "      <th>...</th>\n",
       "      <th>marital_divorced</th>\n",
       "      <th>marital_married</th>\n",
       "      <th>marital_single</th>\n",
       "      <th>age</th>\n",
       "      <th>balance</th>\n",
       "      <th>day</th>\n",
       "      <th>duration</th>\n",
       "      <th>campaign</th>\n",
       "      <th>pdays</th>\n",
       "      <th>previous</th>\n",
       "    </tr>\n",
       "  </thead>\n",
       "  <tbody>\n",
       "    <tr>\n",
       "      <th>0</th>\n",
       "      <td>0</td>\n",
       "      <td>0</td>\n",
       "      <td>1</td>\n",
       "      <td>0</td>\n",
       "      <td>0</td>\n",
       "      <td>0</td>\n",
       "      <td>1</td>\n",
       "      <td>0</td>\n",
       "      <td>0</td>\n",
       "      <td>0</td>\n",
       "      <td>...</td>\n",
       "      <td>0</td>\n",
       "      <td>0</td>\n",
       "      <td>1</td>\n",
       "      <td>33</td>\n",
       "      <td>1</td>\n",
       "      <td>5</td>\n",
       "      <td>198</td>\n",
       "      <td>1</td>\n",
       "      <td>-1</td>\n",
       "      <td>0</td>\n",
       "    </tr>\n",
       "    <tr>\n",
       "      <th>1</th>\n",
       "      <td>0</td>\n",
       "      <td>0</td>\n",
       "      <td>1</td>\n",
       "      <td>0</td>\n",
       "      <td>0</td>\n",
       "      <td>0</td>\n",
       "      <td>1</td>\n",
       "      <td>0</td>\n",
       "      <td>0</td>\n",
       "      <td>1</td>\n",
       "      <td>...</td>\n",
       "      <td>1</td>\n",
       "      <td>0</td>\n",
       "      <td>0</td>\n",
       "      <td>42</td>\n",
       "      <td>2</td>\n",
       "      <td>5</td>\n",
       "      <td>380</td>\n",
       "      <td>1</td>\n",
       "      <td>-1</td>\n",
       "      <td>0</td>\n",
       "    </tr>\n",
       "    <tr>\n",
       "      <th>2</th>\n",
       "      <td>0</td>\n",
       "      <td>0</td>\n",
       "      <td>1</td>\n",
       "      <td>0</td>\n",
       "      <td>0</td>\n",
       "      <td>0</td>\n",
       "      <td>1</td>\n",
       "      <td>0</td>\n",
       "      <td>1</td>\n",
       "      <td>0</td>\n",
       "      <td>...</td>\n",
       "      <td>0</td>\n",
       "      <td>0</td>\n",
       "      <td>1</td>\n",
       "      <td>43</td>\n",
       "      <td>593</td>\n",
       "      <td>5</td>\n",
       "      <td>55</td>\n",
       "      <td>1</td>\n",
       "      <td>-1</td>\n",
       "      <td>0</td>\n",
       "    </tr>\n",
       "    <tr>\n",
       "      <th>3</th>\n",
       "      <td>0</td>\n",
       "      <td>0</td>\n",
       "      <td>1</td>\n",
       "      <td>0</td>\n",
       "      <td>0</td>\n",
       "      <td>0</td>\n",
       "      <td>1</td>\n",
       "      <td>0</td>\n",
       "      <td>1</td>\n",
       "      <td>0</td>\n",
       "      <td>...</td>\n",
       "      <td>1</td>\n",
       "      <td>0</td>\n",
       "      <td>0</td>\n",
       "      <td>41</td>\n",
       "      <td>270</td>\n",
       "      <td>5</td>\n",
       "      <td>222</td>\n",
       "      <td>1</td>\n",
       "      <td>-1</td>\n",
       "      <td>0</td>\n",
       "    </tr>\n",
       "    <tr>\n",
       "      <th>4</th>\n",
       "      <td>0</td>\n",
       "      <td>0</td>\n",
       "      <td>1</td>\n",
       "      <td>0</td>\n",
       "      <td>0</td>\n",
       "      <td>0</td>\n",
       "      <td>1</td>\n",
       "      <td>0</td>\n",
       "      <td>1</td>\n",
       "      <td>0</td>\n",
       "      <td>...</td>\n",
       "      <td>0</td>\n",
       "      <td>1</td>\n",
       "      <td>0</td>\n",
       "      <td>53</td>\n",
       "      <td>6</td>\n",
       "      <td>5</td>\n",
       "      <td>517</td>\n",
       "      <td>1</td>\n",
       "      <td>-1</td>\n",
       "      <td>0</td>\n",
       "    </tr>\n",
       "    <tr>\n",
       "      <th>5</th>\n",
       "      <td>0</td>\n",
       "      <td>0</td>\n",
       "      <td>1</td>\n",
       "      <td>0</td>\n",
       "      <td>0</td>\n",
       "      <td>0</td>\n",
       "      <td>1</td>\n",
       "      <td>1</td>\n",
       "      <td>0</td>\n",
       "      <td>0</td>\n",
       "      <td>...</td>\n",
       "      <td>0</td>\n",
       "      <td>1</td>\n",
       "      <td>0</td>\n",
       "      <td>57</td>\n",
       "      <td>52</td>\n",
       "      <td>5</td>\n",
       "      <td>38</td>\n",
       "      <td>1</td>\n",
       "      <td>-1</td>\n",
       "      <td>0</td>\n",
       "    </tr>\n",
       "    <tr>\n",
       "      <th>6</th>\n",
       "      <td>0</td>\n",
       "      <td>0</td>\n",
       "      <td>1</td>\n",
       "      <td>0</td>\n",
       "      <td>0</td>\n",
       "      <td>0</td>\n",
       "      <td>1</td>\n",
       "      <td>0</td>\n",
       "      <td>0</td>\n",
       "      <td>1</td>\n",
       "      <td>...</td>\n",
       "      <td>0</td>\n",
       "      <td>1</td>\n",
       "      <td>0</td>\n",
       "      <td>56</td>\n",
       "      <td>779</td>\n",
       "      <td>5</td>\n",
       "      <td>164</td>\n",
       "      <td>1</td>\n",
       "      <td>-1</td>\n",
       "      <td>0</td>\n",
       "    </tr>\n",
       "    <tr>\n",
       "      <th>7</th>\n",
       "      <td>0</td>\n",
       "      <td>0</td>\n",
       "      <td>1</td>\n",
       "      <td>0</td>\n",
       "      <td>0</td>\n",
       "      <td>0</td>\n",
       "      <td>1</td>\n",
       "      <td>1</td>\n",
       "      <td>0</td>\n",
       "      <td>0</td>\n",
       "      <td>...</td>\n",
       "      <td>0</td>\n",
       "      <td>0</td>\n",
       "      <td>1</td>\n",
       "      <td>32</td>\n",
       "      <td>23</td>\n",
       "      <td>5</td>\n",
       "      <td>160</td>\n",
       "      <td>1</td>\n",
       "      <td>-1</td>\n",
       "      <td>0</td>\n",
       "    </tr>\n",
       "    <tr>\n",
       "      <th>8</th>\n",
       "      <td>0</td>\n",
       "      <td>0</td>\n",
       "      <td>1</td>\n",
       "      <td>0</td>\n",
       "      <td>0</td>\n",
       "      <td>0</td>\n",
       "      <td>1</td>\n",
       "      <td>0</td>\n",
       "      <td>1</td>\n",
       "      <td>0</td>\n",
       "      <td>...</td>\n",
       "      <td>0</td>\n",
       "      <td>1</td>\n",
       "      <td>0</td>\n",
       "      <td>25</td>\n",
       "      <td>50</td>\n",
       "      <td>5</td>\n",
       "      <td>342</td>\n",
       "      <td>1</td>\n",
       "      <td>-1</td>\n",
       "      <td>0</td>\n",
       "    </tr>\n",
       "    <tr>\n",
       "      <th>9</th>\n",
       "      <td>0</td>\n",
       "      <td>0</td>\n",
       "      <td>1</td>\n",
       "      <td>0</td>\n",
       "      <td>0</td>\n",
       "      <td>0</td>\n",
       "      <td>1</td>\n",
       "      <td>0</td>\n",
       "      <td>1</td>\n",
       "      <td>0</td>\n",
       "      <td>...</td>\n",
       "      <td>0</td>\n",
       "      <td>1</td>\n",
       "      <td>0</td>\n",
       "      <td>57</td>\n",
       "      <td>839</td>\n",
       "      <td>5</td>\n",
       "      <td>225</td>\n",
       "      <td>1</td>\n",
       "      <td>-1</td>\n",
       "      <td>0</td>\n",
       "    </tr>\n",
       "  </tbody>\n",
       "</table>\n",
       "<p>10 rows × 51 columns</p>\n",
       "</div>"
      ],
      "text/plain": [
       "   contact_cellular  contact_telephone  contact_unknown  poutcome_failure  \\\n",
       "0                 0                  0                1                 0   \n",
       "1                 0                  0                1                 0   \n",
       "2                 0                  0                1                 0   \n",
       "3                 0                  0                1                 0   \n",
       "4                 0                  0                1                 0   \n",
       "5                 0                  0                1                 0   \n",
       "6                 0                  0                1                 0   \n",
       "7                 0                  0                1                 0   \n",
       "8                 0                  0                1                 0   \n",
       "9                 0                  0                1                 0   \n",
       "\n",
       "   poutcome_other  poutcome_success  poutcome_unknown  education_primary  \\\n",
       "0               0                 0                 1                  0   \n",
       "1               0                 0                 1                  0   \n",
       "2               0                 0                 1                  0   \n",
       "3               0                 0                 1                  0   \n",
       "4               0                 0                 1                  0   \n",
       "5               0                 0                 1                  1   \n",
       "6               0                 0                 1                  0   \n",
       "7               0                 0                 1                  1   \n",
       "8               0                 0                 1                  0   \n",
       "9               0                 0                 1                  0   \n",
       "\n",
       "   education_secondary  education_tertiary    ...     marital_divorced  \\\n",
       "0                    0                   0    ...                    0   \n",
       "1                    0                   1    ...                    1   \n",
       "2                    1                   0    ...                    0   \n",
       "3                    1                   0    ...                    1   \n",
       "4                    1                   0    ...                    0   \n",
       "5                    0                   0    ...                    0   \n",
       "6                    0                   1    ...                    0   \n",
       "7                    0                   0    ...                    0   \n",
       "8                    1                   0    ...                    0   \n",
       "9                    1                   0    ...                    0   \n",
       "\n",
       "   marital_married  marital_single  age  balance  day  duration  campaign  \\\n",
       "0                0               1   33        1    5       198         1   \n",
       "1                0               0   42        2    5       380         1   \n",
       "2                0               1   43      593    5        55         1   \n",
       "3                0               0   41      270    5       222         1   \n",
       "4                1               0   53        6    5       517         1   \n",
       "5                1               0   57       52    5        38         1   \n",
       "6                1               0   56      779    5       164         1   \n",
       "7                0               1   32       23    5       160         1   \n",
       "8                1               0   25       50    5       342         1   \n",
       "9                1               0   57      839    5       225         1   \n",
       "\n",
       "   pdays  previous  \n",
       "0     -1         0  \n",
       "1     -1         0  \n",
       "2     -1         0  \n",
       "3     -1         0  \n",
       "4     -1         0  \n",
       "5     -1         0  \n",
       "6     -1         0  \n",
       "7     -1         0  \n",
       "8     -1         0  \n",
       "9     -1         0  \n",
       "\n",
       "[10 rows x 51 columns]"
      ]
     },
     "execution_count": 54,
     "metadata": {},
     "output_type": "execute_result"
    }
   ],
   "source": [
    "X_test = dat.iloc[:, 0:51]\n",
    "X_test.head(10)"
   ]
  },
  {
   "cell_type": "code",
   "execution_count": 55,
   "metadata": {},
   "outputs": [
    {
     "data": {
      "text/plain": [
       "contact_cellular       0\n",
       "contact_telephone      0\n",
       "contact_unknown        0\n",
       "poutcome_failure       0\n",
       "poutcome_other         0\n",
       "poutcome_success       0\n",
       "poutcome_unknown       0\n",
       "education_primary      0\n",
       "education_secondary    0\n",
       "education_tertiary     0\n",
       "education_unknown      0\n",
       "month_apr              0\n",
       "month_aug              0\n",
       "month_dec              0\n",
       "month_feb              0\n",
       "month_jan              0\n",
       "month_jul              0\n",
       "month_jun              0\n",
       "month_mar              0\n",
       "month_may              0\n",
       "month_nov              0\n",
       "month_oct              0\n",
       "month_sep              0\n",
       "housing_no             0\n",
       "housing_yes            0\n",
       "job_admin.             0\n",
       "job_blue-collar        0\n",
       "job_entrepreneur       0\n",
       "job_housemaid          0\n",
       "job_management         0\n",
       "job_retired            0\n",
       "job_self-employed      0\n",
       "job_services           0\n",
       "job_student            0\n",
       "job_technician         0\n",
       "job_unemployed         0\n",
       "job_unknown            0\n",
       "default_no             0\n",
       "default_yes            0\n",
       "loan_no                0\n",
       "loan_yes               0\n",
       "marital_divorced       0\n",
       "marital_married        0\n",
       "marital_single         0\n",
       "age                    0\n",
       "balance                0\n",
       "day                    0\n",
       "duration               0\n",
       "campaign               0\n",
       "pdays                  0\n",
       "previous               0\n",
       "dtype: int64"
      ]
     },
     "execution_count": 55,
     "metadata": {},
     "output_type": "execute_result"
    }
   ],
   "source": [
    "X_test.isnull().sum()"
   ]
  },
  {
   "cell_type": "code",
   "execution_count": 56,
   "metadata": {
    "scrolled": true
   },
   "outputs": [
    {
     "data": {
      "text/plain": [
       "0    0\n",
       "1    0\n",
       "2    0\n",
       "3    0\n",
       "4    0\n",
       "Name: y, dtype: int64"
      ]
     },
     "execution_count": 56,
     "metadata": {},
     "output_type": "execute_result"
    }
   ],
   "source": [
    "# specify 'y_test'\n",
    "\n",
    "y_test = dat['y']\n",
    "y_test.head()"
   ]
  },
  {
   "cell_type": "code",
   "execution_count": 57,
   "metadata": {},
   "outputs": [
    {
     "data": {
      "text/html": [
       "<div>\n",
       "<style scoped>\n",
       "    .dataframe tbody tr th:only-of-type {\n",
       "        vertical-align: middle;\n",
       "    }\n",
       "\n",
       "    .dataframe tbody tr th {\n",
       "        vertical-align: top;\n",
       "    }\n",
       "\n",
       "    .dataframe thead th {\n",
       "        text-align: right;\n",
       "    }\n",
       "</style>\n",
       "<table border=\"1\" class=\"dataframe\">\n",
       "  <thead>\n",
       "    <tr style=\"text-align: right;\">\n",
       "      <th>col_0</th>\n",
       "      <th>count</th>\n",
       "    </tr>\n",
       "    <tr>\n",
       "      <th>y</th>\n",
       "      <th></th>\n",
       "    </tr>\n",
       "  </thead>\n",
       "  <tbody>\n",
       "    <tr>\n",
       "      <th>0</th>\n",
       "      <td>19961</td>\n",
       "    </tr>\n",
       "    <tr>\n",
       "      <th>1</th>\n",
       "      <td>2644</td>\n",
       "    </tr>\n",
       "  </tbody>\n",
       "</table>\n",
       "</div>"
      ],
      "text/plain": [
       "col_0  count\n",
       "y           \n",
       "0      19961\n",
       "1       2644"
      ]
     },
     "execution_count": 57,
     "metadata": {},
     "output_type": "execute_result"
    }
   ],
   "source": [
    "pd.crosstab(index=dat['y'],columns=\"count\")"
   ]
  },
  {
   "cell_type": "code",
   "execution_count": 58,
   "metadata": {},
   "outputs": [
    {
     "data": {
      "text/plain": [
       "0"
      ]
     },
     "execution_count": 58,
     "metadata": {},
     "output_type": "execute_result"
    }
   ],
   "source": [
    "y_test.isnull().sum() # no null values"
   ]
  },
  {
   "cell_type": "markdown",
   "metadata": {},
   "source": [
    "### Normalize Data"
   ]
  },
  {
   "cell_type": "markdown",
   "metadata": {},
   "source": [
    "Normalize the data into the scale range [0, 1]"
   ]
  },
  {
   "cell_type": "code",
   "execution_count": 59,
   "metadata": {},
   "outputs": [],
   "source": [
    "from sklearn.preprocessing import MinMaxScaler"
   ]
  },
  {
   "cell_type": "code",
   "execution_count": 60,
   "metadata": {
    "scrolled": true
   },
   "outputs": [],
   "source": [
    "# Create a scaler to do the transformation\n",
    "\n",
    "scaler = MinMaxScaler().fit(X_train)"
   ]
  },
  {
   "cell_type": "markdown",
   "metadata": {},
   "source": [
    "Don't normalize 'y' variable as it is a binary variable and is alteady normalized."
   ]
  },
  {
   "cell_type": "code",
   "execution_count": 61,
   "metadata": {},
   "outputs": [
    {
     "data": {
      "text/html": [
       "<div>\n",
       "<style scoped>\n",
       "    .dataframe tbody tr th:only-of-type {\n",
       "        vertical-align: middle;\n",
       "    }\n",
       "\n",
       "    .dataframe tbody tr th {\n",
       "        vertical-align: top;\n",
       "    }\n",
       "\n",
       "    .dataframe thead th {\n",
       "        text-align: right;\n",
       "    }\n",
       "</style>\n",
       "<table border=\"1\" class=\"dataframe\">\n",
       "  <thead>\n",
       "    <tr style=\"text-align: right;\">\n",
       "      <th></th>\n",
       "      <th>count</th>\n",
       "      <th>mean</th>\n",
       "      <th>std</th>\n",
       "      <th>min</th>\n",
       "      <th>25%</th>\n",
       "      <th>50%</th>\n",
       "      <th>75%</th>\n",
       "      <th>max</th>\n",
       "    </tr>\n",
       "  </thead>\n",
       "  <tbody>\n",
       "    <tr>\n",
       "      <th>contact_cellular</th>\n",
       "      <td>22606.0</td>\n",
       "      <td>0.646200</td>\n",
       "      <td>0.478159</td>\n",
       "      <td>0.0</td>\n",
       "      <td>0.0</td>\n",
       "      <td>1.0</td>\n",
       "      <td>1.0</td>\n",
       "      <td>1.0</td>\n",
       "    </tr>\n",
       "    <tr>\n",
       "      <th>contact_telephone</th>\n",
       "      <td>22606.0</td>\n",
       "      <td>0.065115</td>\n",
       "      <td>0.246735</td>\n",
       "      <td>0.0</td>\n",
       "      <td>0.0</td>\n",
       "      <td>0.0</td>\n",
       "      <td>0.0</td>\n",
       "      <td>1.0</td>\n",
       "    </tr>\n",
       "    <tr>\n",
       "      <th>contact_unknown</th>\n",
       "      <td>22606.0</td>\n",
       "      <td>0.288684</td>\n",
       "      <td>0.453161</td>\n",
       "      <td>0.0</td>\n",
       "      <td>0.0</td>\n",
       "      <td>0.0</td>\n",
       "      <td>1.0</td>\n",
       "      <td>1.0</td>\n",
       "    </tr>\n",
       "    <tr>\n",
       "      <th>poutcome_failure</th>\n",
       "      <td>22606.0</td>\n",
       "      <td>0.106255</td>\n",
       "      <td>0.308171</td>\n",
       "      <td>0.0</td>\n",
       "      <td>0.0</td>\n",
       "      <td>0.0</td>\n",
       "      <td>0.0</td>\n",
       "      <td>1.0</td>\n",
       "    </tr>\n",
       "    <tr>\n",
       "      <th>poutcome_other</th>\n",
       "      <td>22606.0</td>\n",
       "      <td>0.041228</td>\n",
       "      <td>0.198822</td>\n",
       "      <td>0.0</td>\n",
       "      <td>0.0</td>\n",
       "      <td>0.0</td>\n",
       "      <td>0.0</td>\n",
       "      <td>1.0</td>\n",
       "    </tr>\n",
       "  </tbody>\n",
       "</table>\n",
       "</div>"
      ],
      "text/plain": [
       "                     count      mean       std  min  25%  50%  75%  max\n",
       "contact_cellular   22606.0  0.646200  0.478159  0.0  0.0  1.0  1.0  1.0\n",
       "contact_telephone  22606.0  0.065115  0.246735  0.0  0.0  0.0  0.0  1.0\n",
       "contact_unknown    22606.0  0.288684  0.453161  0.0  0.0  0.0  1.0  1.0\n",
       "poutcome_failure   22606.0  0.106255  0.308171  0.0  0.0  0.0  0.0  1.0\n",
       "poutcome_other     22606.0  0.041228  0.198822  0.0  0.0  0.0  0.0  1.0"
      ]
     },
     "execution_count": 61,
     "metadata": {},
     "output_type": "execute_result"
    }
   ],
   "source": [
    "# Transform X_train\n",
    "\n",
    "X_train_scale = scaler.transform(X_train)\n",
    "X_train_scale = pd.DataFrame(X_train_scale)\n",
    "X_train_scale.columns = X_train.columns\n",
    "\n",
    "X_train_scale.describe().transpose().head()"
   ]
  },
  {
   "cell_type": "code",
   "execution_count": 62,
   "metadata": {
    "scrolled": true
   },
   "outputs": [
    {
     "data": {
      "text/html": [
       "<div>\n",
       "<style scoped>\n",
       "    .dataframe tbody tr th:only-of-type {\n",
       "        vertical-align: middle;\n",
       "    }\n",
       "\n",
       "    .dataframe tbody tr th {\n",
       "        vertical-align: top;\n",
       "    }\n",
       "\n",
       "    .dataframe thead th {\n",
       "        text-align: right;\n",
       "    }\n",
       "</style>\n",
       "<table border=\"1\" class=\"dataframe\">\n",
       "  <thead>\n",
       "    <tr style=\"text-align: right;\">\n",
       "      <th></th>\n",
       "      <th>count</th>\n",
       "      <th>mean</th>\n",
       "      <th>std</th>\n",
       "      <th>min</th>\n",
       "      <th>25%</th>\n",
       "      <th>50%</th>\n",
       "      <th>75%</th>\n",
       "      <th>max</th>\n",
       "    </tr>\n",
       "  </thead>\n",
       "  <tbody>\n",
       "    <tr>\n",
       "      <th>contact_cellular</th>\n",
       "      <td>22605.0</td>\n",
       "      <td>0.649281</td>\n",
       "      <td>0.477206</td>\n",
       "      <td>0.0</td>\n",
       "      <td>0.0</td>\n",
       "      <td>1.0</td>\n",
       "      <td>1.0</td>\n",
       "      <td>1.0</td>\n",
       "    </tr>\n",
       "    <tr>\n",
       "      <th>contact_telephone</th>\n",
       "      <td>22605.0</td>\n",
       "      <td>0.063437</td>\n",
       "      <td>0.243753</td>\n",
       "      <td>0.0</td>\n",
       "      <td>0.0</td>\n",
       "      <td>0.0</td>\n",
       "      <td>0.0</td>\n",
       "      <td>1.0</td>\n",
       "    </tr>\n",
       "    <tr>\n",
       "      <th>contact_unknown</th>\n",
       "      <td>22605.0</td>\n",
       "      <td>0.287282</td>\n",
       "      <td>0.452504</td>\n",
       "      <td>0.0</td>\n",
       "      <td>0.0</td>\n",
       "      <td>0.0</td>\n",
       "      <td>1.0</td>\n",
       "      <td>1.0</td>\n",
       "    </tr>\n",
       "    <tr>\n",
       "      <th>poutcome_failure</th>\n",
       "      <td>22605.0</td>\n",
       "      <td>0.110551</td>\n",
       "      <td>0.313582</td>\n",
       "      <td>0.0</td>\n",
       "      <td>0.0</td>\n",
       "      <td>0.0</td>\n",
       "      <td>0.0</td>\n",
       "      <td>1.0</td>\n",
       "    </tr>\n",
       "    <tr>\n",
       "      <th>poutcome_other</th>\n",
       "      <td>22605.0</td>\n",
       "      <td>0.040168</td>\n",
       "      <td>0.196358</td>\n",
       "      <td>0.0</td>\n",
       "      <td>0.0</td>\n",
       "      <td>0.0</td>\n",
       "      <td>0.0</td>\n",
       "      <td>1.0</td>\n",
       "    </tr>\n",
       "  </tbody>\n",
       "</table>\n",
       "</div>"
      ],
      "text/plain": [
       "                     count      mean       std  min  25%  50%  75%  max\n",
       "contact_cellular   22605.0  0.649281  0.477206  0.0  0.0  1.0  1.0  1.0\n",
       "contact_telephone  22605.0  0.063437  0.243753  0.0  0.0  0.0  0.0  1.0\n",
       "contact_unknown    22605.0  0.287282  0.452504  0.0  0.0  0.0  1.0  1.0\n",
       "poutcome_failure   22605.0  0.110551  0.313582  0.0  0.0  0.0  0.0  1.0\n",
       "poutcome_other     22605.0  0.040168  0.196358  0.0  0.0  0.0  0.0  1.0"
      ]
     },
     "execution_count": 62,
     "metadata": {},
     "output_type": "execute_result"
    }
   ],
   "source": [
    "# Transform X_test\n",
    "\n",
    "X_test_scale = scaler.transform(X_test)\n",
    "X_test_scale = pd.DataFrame(X_test_scale)\n",
    "X_test_scale.columns = X_test.columns\n",
    "\n",
    "X_test_scale.describe().transpose().head()"
   ]
  },
  {
   "cell_type": "code",
   "execution_count": 63,
   "metadata": {},
   "outputs": [
    {
     "data": {
      "text/html": [
       "<div>\n",
       "<style scoped>\n",
       "    .dataframe tbody tr th:only-of-type {\n",
       "        vertical-align: middle;\n",
       "    }\n",
       "\n",
       "    .dataframe tbody tr th {\n",
       "        vertical-align: top;\n",
       "    }\n",
       "\n",
       "    .dataframe thead th {\n",
       "        text-align: right;\n",
       "    }\n",
       "</style>\n",
       "<table border=\"1\" class=\"dataframe\">\n",
       "  <thead>\n",
       "    <tr style=\"text-align: right;\">\n",
       "      <th></th>\n",
       "      <th>contact_cellular</th>\n",
       "      <th>contact_telephone</th>\n",
       "      <th>contact_unknown</th>\n",
       "      <th>poutcome_failure</th>\n",
       "      <th>poutcome_other</th>\n",
       "      <th>poutcome_success</th>\n",
       "      <th>poutcome_unknown</th>\n",
       "      <th>education_primary</th>\n",
       "      <th>education_secondary</th>\n",
       "      <th>education_tertiary</th>\n",
       "      <th>...</th>\n",
       "      <th>marital_divorced</th>\n",
       "      <th>marital_married</th>\n",
       "      <th>marital_single</th>\n",
       "      <th>age</th>\n",
       "      <th>balance</th>\n",
       "      <th>day</th>\n",
       "      <th>duration</th>\n",
       "      <th>campaign</th>\n",
       "      <th>pdays</th>\n",
       "      <th>previous</th>\n",
       "    </tr>\n",
       "  </thead>\n",
       "  <tbody>\n",
       "    <tr>\n",
       "      <th>0</th>\n",
       "      <td>0.0</td>\n",
       "      <td>0.0</td>\n",
       "      <td>1.0</td>\n",
       "      <td>0.0</td>\n",
       "      <td>0.0</td>\n",
       "      <td>0.0</td>\n",
       "      <td>1.0</td>\n",
       "      <td>0.0</td>\n",
       "      <td>0.0</td>\n",
       "      <td>0.0</td>\n",
       "      <td>...</td>\n",
       "      <td>0.0</td>\n",
       "      <td>0.0</td>\n",
       "      <td>1.0</td>\n",
       "      <td>0.194805</td>\n",
       "      <td>0.033137</td>\n",
       "      <td>0.133333</td>\n",
       "      <td>0.051018</td>\n",
       "      <td>0.0</td>\n",
       "      <td>0.0</td>\n",
       "      <td>0.0</td>\n",
       "    </tr>\n",
       "    <tr>\n",
       "      <th>1</th>\n",
       "      <td>0.0</td>\n",
       "      <td>0.0</td>\n",
       "      <td>1.0</td>\n",
       "      <td>0.0</td>\n",
       "      <td>0.0</td>\n",
       "      <td>0.0</td>\n",
       "      <td>1.0</td>\n",
       "      <td>0.0</td>\n",
       "      <td>0.0</td>\n",
       "      <td>1.0</td>\n",
       "      <td>...</td>\n",
       "      <td>1.0</td>\n",
       "      <td>0.0</td>\n",
       "      <td>0.0</td>\n",
       "      <td>0.311688</td>\n",
       "      <td>0.033147</td>\n",
       "      <td>0.133333</td>\n",
       "      <td>0.097913</td>\n",
       "      <td>0.0</td>\n",
       "      <td>0.0</td>\n",
       "      <td>0.0</td>\n",
       "    </tr>\n",
       "    <tr>\n",
       "      <th>2</th>\n",
       "      <td>0.0</td>\n",
       "      <td>0.0</td>\n",
       "      <td>1.0</td>\n",
       "      <td>0.0</td>\n",
       "      <td>0.0</td>\n",
       "      <td>0.0</td>\n",
       "      <td>1.0</td>\n",
       "      <td>0.0</td>\n",
       "      <td>1.0</td>\n",
       "      <td>0.0</td>\n",
       "      <td>...</td>\n",
       "      <td>0.0</td>\n",
       "      <td>0.0</td>\n",
       "      <td>1.0</td>\n",
       "      <td>0.324675</td>\n",
       "      <td>0.038953</td>\n",
       "      <td>0.133333</td>\n",
       "      <td>0.014172</td>\n",
       "      <td>0.0</td>\n",
       "      <td>0.0</td>\n",
       "      <td>0.0</td>\n",
       "    </tr>\n",
       "    <tr>\n",
       "      <th>3</th>\n",
       "      <td>0.0</td>\n",
       "      <td>0.0</td>\n",
       "      <td>1.0</td>\n",
       "      <td>0.0</td>\n",
       "      <td>0.0</td>\n",
       "      <td>0.0</td>\n",
       "      <td>1.0</td>\n",
       "      <td>0.0</td>\n",
       "      <td>1.0</td>\n",
       "      <td>0.0</td>\n",
       "      <td>...</td>\n",
       "      <td>1.0</td>\n",
       "      <td>0.0</td>\n",
       "      <td>0.0</td>\n",
       "      <td>0.298701</td>\n",
       "      <td>0.035780</td>\n",
       "      <td>0.133333</td>\n",
       "      <td>0.057202</td>\n",
       "      <td>0.0</td>\n",
       "      <td>0.0</td>\n",
       "      <td>0.0</td>\n",
       "    </tr>\n",
       "    <tr>\n",
       "      <th>4</th>\n",
       "      <td>0.0</td>\n",
       "      <td>0.0</td>\n",
       "      <td>1.0</td>\n",
       "      <td>0.0</td>\n",
       "      <td>0.0</td>\n",
       "      <td>0.0</td>\n",
       "      <td>1.0</td>\n",
       "      <td>0.0</td>\n",
       "      <td>1.0</td>\n",
       "      <td>0.0</td>\n",
       "      <td>...</td>\n",
       "      <td>0.0</td>\n",
       "      <td>1.0</td>\n",
       "      <td>0.0</td>\n",
       "      <td>0.454545</td>\n",
       "      <td>0.033186</td>\n",
       "      <td>0.133333</td>\n",
       "      <td>0.133213</td>\n",
       "      <td>0.0</td>\n",
       "      <td>0.0</td>\n",
       "      <td>0.0</td>\n",
       "    </tr>\n",
       "  </tbody>\n",
       "</table>\n",
       "<p>5 rows × 51 columns</p>\n",
       "</div>"
      ],
      "text/plain": [
       "   contact_cellular  contact_telephone  contact_unknown  poutcome_failure  \\\n",
       "0               0.0                0.0              1.0               0.0   \n",
       "1               0.0                0.0              1.0               0.0   \n",
       "2               0.0                0.0              1.0               0.0   \n",
       "3               0.0                0.0              1.0               0.0   \n",
       "4               0.0                0.0              1.0               0.0   \n",
       "\n",
       "   poutcome_other  poutcome_success  poutcome_unknown  education_primary  \\\n",
       "0             0.0               0.0               1.0                0.0   \n",
       "1             0.0               0.0               1.0                0.0   \n",
       "2             0.0               0.0               1.0                0.0   \n",
       "3             0.0               0.0               1.0                0.0   \n",
       "4             0.0               0.0               1.0                0.0   \n",
       "\n",
       "   education_secondary  education_tertiary    ...     marital_divorced  \\\n",
       "0                  0.0                 0.0    ...                  0.0   \n",
       "1                  0.0                 1.0    ...                  1.0   \n",
       "2                  1.0                 0.0    ...                  0.0   \n",
       "3                  1.0                 0.0    ...                  1.0   \n",
       "4                  1.0                 0.0    ...                  0.0   \n",
       "\n",
       "   marital_married  marital_single       age   balance       day  duration  \\\n",
       "0              0.0             1.0  0.194805  0.033137  0.133333  0.051018   \n",
       "1              0.0             0.0  0.311688  0.033147  0.133333  0.097913   \n",
       "2              0.0             1.0  0.324675  0.038953  0.133333  0.014172   \n",
       "3              0.0             0.0  0.298701  0.035780  0.133333  0.057202   \n",
       "4              1.0             0.0  0.454545  0.033186  0.133333  0.133213   \n",
       "\n",
       "   campaign  pdays  previous  \n",
       "0       0.0    0.0       0.0  \n",
       "1       0.0    0.0       0.0  \n",
       "2       0.0    0.0       0.0  \n",
       "3       0.0    0.0       0.0  \n",
       "4       0.0    0.0       0.0  \n",
       "\n",
       "[5 rows x 51 columns]"
      ]
     },
     "execution_count": 63,
     "metadata": {},
     "output_type": "execute_result"
    }
   ],
   "source": [
    "X_test_scale.head()"
   ]
  },
  {
   "cell_type": "code",
   "execution_count": 64,
   "metadata": {
    "scrolled": true
   },
   "outputs": [
    {
     "data": {
      "text/plain": [
       "contact_cellular       float64\n",
       "contact_telephone      float64\n",
       "contact_unknown        float64\n",
       "poutcome_failure       float64\n",
       "poutcome_other         float64\n",
       "poutcome_success       float64\n",
       "poutcome_unknown       float64\n",
       "education_primary      float64\n",
       "education_secondary    float64\n",
       "education_tertiary     float64\n",
       "education_unknown      float64\n",
       "month_apr              float64\n",
       "month_aug              float64\n",
       "month_dec              float64\n",
       "month_feb              float64\n",
       "month_jan              float64\n",
       "month_jul              float64\n",
       "month_jun              float64\n",
       "month_mar              float64\n",
       "month_may              float64\n",
       "month_nov              float64\n",
       "month_oct              float64\n",
       "month_sep              float64\n",
       "housing_no             float64\n",
       "housing_yes            float64\n",
       "job_admin.             float64\n",
       "job_blue-collar        float64\n",
       "job_entrepreneur       float64\n",
       "job_housemaid          float64\n",
       "job_management         float64\n",
       "job_retired            float64\n",
       "job_self-employed      float64\n",
       "job_services           float64\n",
       "job_student            float64\n",
       "job_technician         float64\n",
       "job_unemployed         float64\n",
       "job_unknown            float64\n",
       "default_no             float64\n",
       "default_yes            float64\n",
       "loan_no                float64\n",
       "loan_yes               float64\n",
       "marital_divorced       float64\n",
       "marital_married        float64\n",
       "marital_single         float64\n",
       "age                    float64\n",
       "balance                float64\n",
       "day                    float64\n",
       "duration               float64\n",
       "campaign               float64\n",
       "pdays                  float64\n",
       "previous               float64\n",
       "dtype: object"
      ]
     },
     "execution_count": 64,
     "metadata": {},
     "output_type": "execute_result"
    }
   ],
   "source": [
    "# checking data types\n",
    "\n",
    "X_train_scale.dtypes "
   ]
  },
  {
   "cell_type": "code",
   "execution_count": 65,
   "metadata": {},
   "outputs": [
    {
     "data": {
      "text/plain": [
       "dtype('int64')"
      ]
     },
     "execution_count": 65,
     "metadata": {},
     "output_type": "execute_result"
    }
   ],
   "source": [
    "y_train.dtypes"
   ]
  },
  {
   "cell_type": "markdown",
   "metadata": {},
   "source": [
    "## MODELS\n",
    "\n",
    "## 1. a. Logistic Regression (without class weight)"
   ]
  },
  {
   "cell_type": "code",
   "execution_count": 66,
   "metadata": {},
   "outputs": [],
   "source": [
    "from sklearn.linear_model import LogisticRegression\n",
    "from sklearn import metrics"
   ]
  },
  {
   "cell_type": "markdown",
   "metadata": {},
   "source": [
    "'l1' penalty pushes feature coefficients to 0"
   ]
  },
  {
   "cell_type": "code",
   "execution_count": 67,
   "metadata": {},
   "outputs": [],
   "source": [
    "log_model = LogisticRegression(penalty='l1')"
   ]
  },
  {
   "cell_type": "code",
   "execution_count": 68,
   "metadata": {
    "scrolled": true
   },
   "outputs": [
    {
     "data": {
      "text/plain": [
       "LogisticRegression(C=1.0, class_weight=None, dual=False, fit_intercept=True,\n",
       "          intercept_scaling=1, max_iter=100, multi_class='warn',\n",
       "          n_jobs=None, penalty='l1', random_state=None, solver='warn',\n",
       "          tol=0.0001, verbose=0, warm_start=False)"
      ]
     },
     "execution_count": 68,
     "metadata": {},
     "output_type": "execute_result"
    }
   ],
   "source": [
    "# Fit Model\n",
    "\n",
    "log_model.fit(X_train_scale, y_train)"
   ]
  },
  {
   "cell_type": "markdown",
   "metadata": {},
   "source": [
    "#### Make predictions"
   ]
  },
  {
   "cell_type": "code",
   "execution_count": 69,
   "metadata": {},
   "outputs": [],
   "source": [
    "log_pred = log_model.predict(X_test_scale)"
   ]
  },
  {
   "cell_type": "markdown",
   "metadata": {},
   "source": [
    "Let's evaluate our first logistic model.."
   ]
  },
  {
   "cell_type": "markdown",
   "metadata": {},
   "source": [
    "#### Evaluations:"
   ]
  },
  {
   "cell_type": "markdown",
   "metadata": {},
   "source": [
    "#### confusion matrix"
   ]
  },
  {
   "cell_type": "code",
   "execution_count": 70,
   "metadata": {},
   "outputs": [],
   "source": [
    "from sklearn.metrics import confusion_matrix"
   ]
  },
  {
   "cell_type": "code",
   "execution_count": 71,
   "metadata": {},
   "outputs": [
    {
     "data": {
      "text/plain": [
       "array([[19455,   506],\n",
       "       [ 1716,   928]], dtype=int64)"
      ]
     },
     "execution_count": 71,
     "metadata": {},
     "output_type": "execute_result"
    }
   ],
   "source": [
    "cm = confusion_matrix(y_test, log_pred)\n",
    "cm"
   ]
  },
  {
   "cell_type": "markdown",
   "metadata": {},
   "source": [
    "#### classification report"
   ]
  },
  {
   "cell_type": "code",
   "execution_count": 72,
   "metadata": {},
   "outputs": [],
   "source": [
    "from sklearn.metrics import classification_report"
   ]
  },
  {
   "cell_type": "code",
   "execution_count": 73,
   "metadata": {
    "scrolled": false
   },
   "outputs": [
    {
     "name": "stdout",
     "output_type": "stream",
     "text": [
      "              precision    recall  f1-score   support\n",
      "\n",
      "           0       0.92      0.97      0.95     19961\n",
      "           1       0.65      0.35      0.46      2644\n",
      "\n",
      "   micro avg       0.90      0.90      0.90     22605\n",
      "   macro avg       0.78      0.66      0.70     22605\n",
      "weighted avg       0.89      0.90      0.89     22605\n",
      "\n"
     ]
    }
   ],
   "source": [
    "print(classification_report(y_test, log_pred))"
   ]
  },
  {
   "cell_type": "markdown",
   "metadata": {},
   "source": [
    "Let's also get accuracy, recall and precision score values"
   ]
  },
  {
   "cell_type": "markdown",
   "metadata": {},
   "source": [
    "#### accuracy, recall, precision scores and AUC score"
   ]
  },
  {
   "cell_type": "code",
   "execution_count": 74,
   "metadata": {},
   "outputs": [],
   "source": [
    "from sklearn.metrics import accuracy_score, f1_score, recall_score"
   ]
  },
  {
   "cell_type": "code",
   "execution_count": 75,
   "metadata": {},
   "outputs": [
    {
     "data": {
      "text/plain": [
       "0.9017031630170317"
      ]
     },
     "execution_count": 75,
     "metadata": {},
     "output_type": "execute_result"
    }
   ],
   "source": [
    "metrics.accuracy_score(y_test, log_pred)"
   ]
  },
  {
   "cell_type": "code",
   "execution_count": 76,
   "metadata": {},
   "outputs": [
    {
     "data": {
      "text/plain": [
       "0.35098335854765506"
      ]
     },
     "execution_count": 76,
     "metadata": {},
     "output_type": "execute_result"
    }
   ],
   "source": [
    "metrics.recall_score(y_test, log_pred)"
   ]
  },
  {
   "cell_type": "code",
   "execution_count": 77,
   "metadata": {},
   "outputs": [
    {
     "data": {
      "text/plain": [
       "0.6471408647140865"
      ]
     },
     "execution_count": 77,
     "metadata": {},
     "output_type": "execute_result"
    }
   ],
   "source": [
    "metrics.precision_score(y_test, log_pred)"
   ]
  },
  {
   "cell_type": "markdown",
   "metadata": {},
   "source": [
    "#### AUC Score"
   ]
  },
  {
   "cell_type": "code",
   "execution_count": 78,
   "metadata": {},
   "outputs": [
    {
     "data": {
      "text/plain": [
       "0.6628169635782211"
      ]
     },
     "execution_count": 78,
     "metadata": {},
     "output_type": "execute_result"
    }
   ],
   "source": [
    "auc_score = metrics.roc_auc_score(y_test, log_pred)\n",
    "auc_score"
   ]
  },
  {
   "cell_type": "markdown",
   "metadata": {},
   "source": [
    "AUC score is not what we are aiming for at the moment so let us develop a logistic model with class weights and check if we can improve this score"
   ]
  },
  {
   "cell_type": "markdown",
   "metadata": {},
   "source": [
    "## 1.b. Logistic Regression (with class weight)"
   ]
  },
  {
   "cell_type": "markdown",
   "metadata": {},
   "source": [
    "To find the right value of parameter 'C' we can try some combinations of different values. GridSearch involves creating a grid  \n",
    "of parameters and trying all possible combinations.\n",
    "\n",
    "We create a dictionary and fill it with different values of parameter 'C' and then fit training data to the developed model."
   ]
  },
  {
   "cell_type": "markdown",
   "metadata": {},
   "source": [
    "To deal with imbalanced dataset, we set 'class_weight' equal to 'balanced'"
   ]
  },
  {
   "cell_type": "code",
   "execution_count": 79,
   "metadata": {},
   "outputs": [
    {
     "data": {
      "text/plain": [
       "GridSearchCV(cv='warn', error_score='raise-deprecating',\n",
       "       estimator=LogisticRegression(C=1.0, class_weight=None, dual=False, fit_intercept=True,\n",
       "          intercept_scaling=1, max_iter=100, multi_class='warn',\n",
       "          n_jobs=None, penalty='l2', random_state=None, solver='warn',\n",
       "          tol=0.0001, verbose=0, warm_start=False),\n",
       "       fit_params=None, iid='warn', n_jobs=None,\n",
       "       param_grid={'C': [0.001, 0.01, 0.1, 1, 10, 50, 100, 300, 600], 'penalty': ['l1'], 'solver': ['liblinear'], 'random_state': [900], 'max_iter': [1000], 'class_weight': ['balanced']},\n",
       "       pre_dispatch='2*n_jobs', refit=True, return_train_score='warn',\n",
       "       scoring='roc_auc', verbose=0)"
      ]
     },
     "execution_count": 79,
     "metadata": {},
     "output_type": "execute_result"
    }
   ],
   "source": [
    "# Import GridSearchCV from scikit learn\n",
    "\n",
    "from sklearn.model_selection import GridSearchCV\n",
    "\n",
    "Log_reg = LogisticRegression()\n",
    "\n",
    "\n",
    "# Create a dictionary and fill out some values of 'C'\n",
    "\n",
    "log_reg_param = {'C': [0.001, 0.01, 0.1, 1, 10, 50, 100, 300, 600], 'penalty': ['l1'],\n",
    "                'solver':['liblinear'], 'random_state': [900], 'max_iter': [1000], 'class_weight': ['balanced']}\n",
    "\n",
    "\n",
    "# The GridSearchCV object created below is fitted to the training data\n",
    "\n",
    "log_model_1 = GridSearchCV(Log_reg, log_reg_param, scoring = 'roc_auc', refit=True)\n",
    "\n",
    "log_model_1.fit(X_train_scale, y_train)"
   ]
  },
  {
   "cell_type": "markdown",
   "metadata": {},
   "source": [
    "Find the best parameters found by GridSearchCV"
   ]
  },
  {
   "cell_type": "code",
   "execution_count": 80,
   "metadata": {},
   "outputs": [
    {
     "data": {
      "text/plain": [
       "{'C': 0.1,\n",
       " 'class_weight': 'balanced',\n",
       " 'max_iter': 1000,\n",
       " 'penalty': 'l1',\n",
       " 'random_state': 900,\n",
       " 'solver': 'liblinear'}"
      ]
     },
     "execution_count": 80,
     "metadata": {},
     "output_type": "execute_result"
    }
   ],
   "source": [
    "log_model_1.best_params_"
   ]
  },
  {
   "cell_type": "markdown",
   "metadata": {},
   "source": [
    "Make predictions using testing data"
   ]
  },
  {
   "cell_type": "code",
   "execution_count": 81,
   "metadata": {},
   "outputs": [],
   "source": [
    "log_model1_pred = log_model_1.predict(X_test_scale)"
   ]
  },
  {
   "cell_type": "markdown",
   "metadata": {},
   "source": [
    "Performance evaluation of this model can be done by developing confusion matrix, classification report,and calculating values of accuracy, recall, precision score and AUC score as shown below."
   ]
  },
  {
   "cell_type": "code",
   "execution_count": 82,
   "metadata": {},
   "outputs": [
    {
     "data": {
      "text/plain": [
       "array([[16966,  2995],\n",
       "       [  494,  2150]], dtype=int64)"
      ]
     },
     "execution_count": 82,
     "metadata": {},
     "output_type": "execute_result"
    }
   ],
   "source": [
    "from sklearn.metrics import confusion_matrix\n",
    "\n",
    "cm = confusion_matrix(y_test, log_model1_pred)\n",
    "cm"
   ]
  },
  {
   "cell_type": "markdown",
   "metadata": {},
   "source": [
    "#### classification report"
   ]
  },
  {
   "cell_type": "code",
   "execution_count": 83,
   "metadata": {
    "scrolled": false
   },
   "outputs": [
    {
     "name": "stdout",
     "output_type": "stream",
     "text": [
      "              precision    recall  f1-score   support\n",
      "\n",
      "           0       0.97      0.85      0.91     19961\n",
      "           1       0.42      0.81      0.55      2644\n",
      "\n",
      "   micro avg       0.85      0.85      0.85     22605\n",
      "   macro avg       0.69      0.83      0.73     22605\n",
      "weighted avg       0.91      0.85      0.87     22605\n",
      "\n"
     ]
    }
   ],
   "source": [
    "print(classification_report(y_test, log_model1_pred))"
   ]
  },
  {
   "cell_type": "markdown",
   "metadata": {},
   "source": [
    "#### accuracy, recall and precision score"
   ]
  },
  {
   "cell_type": "code",
   "execution_count": 84,
   "metadata": {},
   "outputs": [
    {
     "data": {
      "text/plain": [
       "0.8456536164565361"
      ]
     },
     "execution_count": 84,
     "metadata": {},
     "output_type": "execute_result"
    }
   ],
   "source": [
    "metrics.accuracy_score(y_test, log_model1_pred)"
   ]
  },
  {
   "cell_type": "code",
   "execution_count": 85,
   "metadata": {},
   "outputs": [
    {
     "data": {
      "text/plain": [
       "0.813161875945537"
      ]
     },
     "execution_count": 85,
     "metadata": {},
     "output_type": "execute_result"
    }
   ],
   "source": [
    "metrics.recall_score(y_test, log_model1_pred)"
   ]
  },
  {
   "cell_type": "code",
   "execution_count": 86,
   "metadata": {},
   "outputs": [
    {
     "data": {
      "text/plain": [
       "0.41788143828960156"
      ]
     },
     "execution_count": 86,
     "metadata": {},
     "output_type": "execute_result"
    }
   ],
   "source": [
    "metrics.precision_score(y_test, log_model1_pred)"
   ]
  },
  {
   "cell_type": "markdown",
   "metadata": {},
   "source": [
    "#### AUC Score"
   ]
  },
  {
   "cell_type": "code",
   "execution_count": 87,
   "metadata": {},
   "outputs": [
    {
     "data": {
      "text/plain": [
       "0.8315596464543075"
      ]
     },
     "execution_count": 87,
     "metadata": {},
     "output_type": "execute_result"
    }
   ],
   "source": [
    "metrics.roc_auc_score(y_test, log_model1_pred)"
   ]
  },
  {
   "cell_type": "markdown",
   "metadata": {},
   "source": [
    "The above AUC score is very good and has improved from our previous model."
   ]
  },
  {
   "cell_type": "markdown",
   "metadata": {},
   "source": [
    "Let's try some other models..."
   ]
  },
  {
   "cell_type": "markdown",
   "metadata": {},
   "source": [
    "## 2. k-NN Classifier"
   ]
  },
  {
   "cell_type": "markdown",
   "metadata": {},
   "source": [
    "Call neighbors from sklearn"
   ]
  },
  {
   "cell_type": "code",
   "execution_count": 88,
   "metadata": {},
   "outputs": [],
   "source": [
    "from sklearn import neighbors"
   ]
  },
  {
   "cell_type": "markdown",
   "metadata": {},
   "source": [
    "Create a KNN classifier model with n_neighbors = 5"
   ]
  },
  {
   "cell_type": "code",
   "execution_count": 89,
   "metadata": {},
   "outputs": [],
   "source": [
    "knn5 = neighbors.KNeighborsClassifier(n_neighbors=5, weights='uniform', algorithm='auto')"
   ]
  },
  {
   "cell_type": "markdown",
   "metadata": {},
   "source": [
    "Fit this model to training data"
   ]
  },
  {
   "cell_type": "code",
   "execution_count": 90,
   "metadata": {},
   "outputs": [
    {
     "data": {
      "text/plain": [
       "KNeighborsClassifier(algorithm='auto', leaf_size=30, metric='minkowski',\n",
       "           metric_params=None, n_jobs=None, n_neighbors=5, p=2,\n",
       "           weights='uniform')"
      ]
     },
     "execution_count": 90,
     "metadata": {},
     "output_type": "execute_result"
    }
   ],
   "source": [
    "knn5.fit(X_train_scale, y_train)"
   ]
  },
  {
   "cell_type": "markdown",
   "metadata": {},
   "source": [
    "Use testing data to make some predictions"
   ]
  },
  {
   "cell_type": "code",
   "execution_count": 91,
   "metadata": {},
   "outputs": [],
   "source": [
    "pred_y_knn5 = knn5.predict(X_test_scale)"
   ]
  },
  {
   "cell_type": "markdown",
   "metadata": {},
   "source": [
    "Let us evaluate our model by developing a confusion metrix for this model"
   ]
  },
  {
   "cell_type": "code",
   "execution_count": 92,
   "metadata": {},
   "outputs": [
    {
     "name": "stdout",
     "output_type": "stream",
     "text": [
      "[[19476   485]\n",
      " [ 2035   609]]\n"
     ]
    }
   ],
   "source": [
    "cm = metrics.confusion_matrix(y_test, pred_y_knn5)\n",
    "print(cm)"
   ]
  },
  {
   "cell_type": "code",
   "execution_count": 93,
   "metadata": {},
   "outputs": [
    {
     "data": {
      "text/plain": [
       "0.8885202388852024"
      ]
     },
     "execution_count": 93,
     "metadata": {},
     "output_type": "execute_result"
    }
   ],
   "source": [
    "# Calculate classification accuracy\n",
    "\n",
    "metrics.accuracy_score(y_test, pred_y_knn5)"
   ]
  },
  {
   "cell_type": "markdown",
   "metadata": {},
   "source": [
    "#### AUC score"
   ]
  },
  {
   "cell_type": "code",
   "execution_count": 94,
   "metadata": {},
   "outputs": [
    {
     "data": {
      "text/plain": [
       "0.6030177245780558"
      ]
     },
     "execution_count": 94,
     "metadata": {},
     "output_type": "execute_result"
    }
   ],
   "source": [
    "# Calculate AUC\n",
    "\n",
    "metrics.roc_auc_score(y_test, pred_y_knn5)"
   ]
  },
  {
   "cell_type": "markdown",
   "metadata": {},
   "source": [
    "The above AUC score is not what we are aiming for as it is less than 0.72"
   ]
  },
  {
   "cell_type": "markdown",
   "metadata": {},
   "source": [
    "We can also find values of some other metrics as shown below."
   ]
  },
  {
   "cell_type": "code",
   "execution_count": 95,
   "metadata": {},
   "outputs": [
    {
     "data": {
      "text/plain": [
       "0.2762946248201904"
      ]
     },
     "execution_count": 95,
     "metadata": {},
     "output_type": "execute_result"
    }
   ],
   "source": [
    "# Calculate Cohen's Kappa\n",
    "\n",
    "metrics.cohen_kappa_score(y_test, pred_y_knn5)"
   ]
  },
  {
   "cell_type": "code",
   "execution_count": 96,
   "metadata": {},
   "outputs": [
    {
     "name": "stdout",
     "output_type": "stream",
     "text": [
      "              precision    recall  f1-score   support\n",
      "\n",
      "           0       0.91      0.98      0.94     19961\n",
      "           1       0.56      0.23      0.33      2644\n",
      "\n",
      "   micro avg       0.89      0.89      0.89     22605\n",
      "   macro avg       0.73      0.60      0.63     22605\n",
      "weighted avg       0.86      0.89      0.87     22605\n",
      "\n"
     ]
    }
   ],
   "source": [
    "# Print classification report\n",
    "\n",
    "print(metrics.classification_report(y_test, pred_y_knn5))"
   ]
  },
  {
   "cell_type": "markdown",
   "metadata": {},
   "source": [
    "### Tune k-NN classifier"
   ]
  },
  {
   "cell_type": "markdown",
   "metadata": {},
   "source": [
    "Let's tune the k parameter by using a loop which trains different k-NN models for different values of k and gives us respective AUC values"
   ]
  },
  {
   "cell_type": "markdown",
   "metadata": {},
   "source": [
    "We are only using AUC score as a measure of performance for our models"
   ]
  },
  {
   "cell_type": "code",
   "execution_count": 97,
   "metadata": {},
   "outputs": [
    {
     "name": "stdout",
     "output_type": "stream",
     "text": [
      "AUC is  62.87 % for k = 1\n",
      "AUC is  56.92 % for k = 2\n",
      "AUC is  61.11 % for k = 3\n",
      "AUC is  57.17 % for k = 4\n",
      "AUC is  60.3 % for k = 5\n",
      "AUC is  57.28 % for k = 6\n",
      "AUC is  58.9 % for k = 7\n",
      "AUC is  57.46 % for k = 8\n",
      "AUC is  58.77 % for k = 9\n",
      "AUC is  57.36 % for k = 10\n",
      "AUC is  58.52 % for k = 11\n",
      "AUC is  57.1 % for k = 12\n",
      "AUC is  58.04 % for k = 13\n",
      "AUC is  57.02 % for k = 14\n",
      "AUC is  57.8 % for k = 15\n",
      "AUC is  56.95 % for k = 16\n",
      "AUC is  57.69 % for k = 17\n",
      "AUC is  56.71 % for k = 18\n",
      "AUC is  57.22 % for k = 19\n",
      "AUC is  56.54 % for k = 20\n"
     ]
    }
   ],
   "source": [
    "for k in range(20):\n",
    "    k = k + 1\n",
    "    knn = neighbors.KNeighborsClassifier(n_neighbors = k, \n",
    "                                         weights='uniform', \n",
    "                                         algorithm='auto')\n",
    "    knn.fit(X_train_scale, y_train)\n",
    "    pred_y = knn.predict(X_test_scale)\n",
    "    print(\"AUC is \", round(metrics.roc_auc_score(y_test, pred_y)*100,2),\"% for k =\",k)"
   ]
  },
  {
   "cell_type": "markdown",
   "metadata": {},
   "source": [
    "Now, let's use the test dataset to assess the performance of the k-NN (k=1) model as it gives us the maximum AUC value"
   ]
  },
  {
   "cell_type": "markdown",
   "metadata": {},
   "source": [
    "Create a KNN classifier model with n_neighbors = 1 and fit training data for training before using the testing data to make predictions"
   ]
  },
  {
   "cell_type": "code",
   "execution_count": 98,
   "metadata": {},
   "outputs": [],
   "source": [
    "knn1 = neighbors.KNeighborsClassifier(n_neighbors = 1, weights='uniform', algorithm='auto')\n",
    "knn1.fit(X_train_scale, y_train)\n",
    "pred_y_knn1 = knn.predict(X_test_scale)"
   ]
  },
  {
   "cell_type": "markdown",
   "metadata": {},
   "source": [
    "Let's evaluate the performance of this model"
   ]
  },
  {
   "cell_type": "code",
   "execution_count": 99,
   "metadata": {},
   "outputs": [
    {
     "data": {
      "text/plain": [
       "array([[19786,   175],\n",
       "       [ 2275,   369]], dtype=int64)"
      ]
     },
     "execution_count": 99,
     "metadata": {},
     "output_type": "execute_result"
    }
   ],
   "source": [
    "# Print confusion matrix\n",
    "\n",
    "metrics.confusion_matrix(y_test, pred_y_knn1)"
   ]
  },
  {
   "cell_type": "code",
   "execution_count": 100,
   "metadata": {},
   "outputs": [
    {
     "data": {
      "text/plain": [
       "0.891616898916169"
      ]
     },
     "execution_count": 100,
     "metadata": {},
     "output_type": "execute_result"
    }
   ],
   "source": [
    "# Calculate classification accuracy\n",
    "\n",
    "metrics.accuracy_score(y_test, pred_y_knn1)"
   ]
  },
  {
   "cell_type": "markdown",
   "metadata": {},
   "source": [
    "#### AUC Score"
   ]
  },
  {
   "cell_type": "code",
   "execution_count": 101,
   "metadata": {},
   "outputs": [
    {
     "data": {
      "text/plain": [
       "0.5653970874824668"
      ]
     },
     "execution_count": 101,
     "metadata": {},
     "output_type": "execute_result"
    }
   ],
   "source": [
    "# Calculate AUC\n",
    "\n",
    "metrics.roc_auc_score(y_test, pred_y_knn1)"
   ]
  },
  {
   "cell_type": "markdown",
   "metadata": {},
   "source": [
    "The above AUC score is still not what we are aiming for."
   ]
  },
  {
   "cell_type": "code",
   "execution_count": 102,
   "metadata": {},
   "outputs": [
    {
     "data": {
      "text/plain": [
       "0.19954044677183358"
      ]
     },
     "execution_count": 102,
     "metadata": {},
     "output_type": "execute_result"
    }
   ],
   "source": [
    "# Calculate Cohen's Kappa\n",
    "\n",
    "metrics.cohen_kappa_score(y_test, pred_y_knn1)"
   ]
  },
  {
   "cell_type": "code",
   "execution_count": 103,
   "metadata": {},
   "outputs": [
    {
     "name": "stdout",
     "output_type": "stream",
     "text": [
      "              precision    recall  f1-score   support\n",
      "\n",
      "           0       0.90      0.99      0.94     19961\n",
      "           1       0.68      0.14      0.23      2644\n",
      "\n",
      "   micro avg       0.89      0.89      0.89     22605\n",
      "   macro avg       0.79      0.57      0.59     22605\n",
      "weighted avg       0.87      0.89      0.86     22605\n",
      "\n"
     ]
    }
   ],
   "source": [
    "# Print classification report\n",
    "\n",
    "print(metrics.classification_report(y_test, pred_y_knn1))"
   ]
  },
  {
   "cell_type": "markdown",
   "metadata": {},
   "source": [
    "### Compare two k-NN Models"
   ]
  },
  {
   "cell_type": "markdown",
   "metadata": {},
   "source": [
    "We can compare the AUC scores for the above two k-NN models as shown below"
   ]
  },
  {
   "cell_type": "code",
   "execution_count": 104,
   "metadata": {},
   "outputs": [],
   "source": [
    "auc = [metrics.roc_auc_score(y_test, pred_y_knn5),\n",
    "       metrics.roc_auc_score(y_test, pred_y_knn1)] "
   ]
  },
  {
   "cell_type": "code",
   "execution_count": 105,
   "metadata": {},
   "outputs": [
    {
     "data": {
      "text/html": [
       "<div>\n",
       "<style scoped>\n",
       "    .dataframe tbody tr th:only-of-type {\n",
       "        vertical-align: middle;\n",
       "    }\n",
       "\n",
       "    .dataframe tbody tr th {\n",
       "        vertical-align: top;\n",
       "    }\n",
       "\n",
       "    .dataframe thead th {\n",
       "        text-align: right;\n",
       "    }\n",
       "</style>\n",
       "<table border=\"1\" class=\"dataframe\">\n",
       "  <thead>\n",
       "    <tr style=\"text-align: right;\">\n",
       "      <th></th>\n",
       "      <th>AUC Score</th>\n",
       "    </tr>\n",
       "  </thead>\n",
       "  <tbody>\n",
       "    <tr>\n",
       "      <th>k-NN (k=5)</th>\n",
       "      <td>0.603018</td>\n",
       "    </tr>\n",
       "    <tr>\n",
       "      <th>k-NN (k=1)</th>\n",
       "      <td>0.565397</td>\n",
       "    </tr>\n",
       "  </tbody>\n",
       "</table>\n",
       "</div>"
      ],
      "text/plain": [
       "            AUC Score\n",
       "k-NN (k=5)   0.603018\n",
       "k-NN (k=1)   0.565397"
      ]
     },
     "execution_count": 105,
     "metadata": {},
     "output_type": "execute_result"
    }
   ],
   "source": [
    "pd.DataFrame({'AUC Score':auc}, index = ['k-NN (k=5)','k-NN (k=1)']) "
   ]
  },
  {
   "cell_type": "markdown",
   "metadata": {},
   "source": [
    "\n",
    "Let's develop a deep learning neural network model and check if we can improve our AUC score\n"
   ]
  },
  {
   "cell_type": "markdown",
   "metadata": {},
   "source": [
    "## 3. Deep Learning Model"
   ]
  },
  {
   "cell_type": "markdown",
   "metadata": {},
   "source": [
    "We can preprocess the data before developing our neural network (NN) model"
   ]
  },
  {
   "cell_type": "code",
   "execution_count": 106,
   "metadata": {},
   "outputs": [],
   "source": [
    "X_train_NN = np.array(X_train_scale)\n",
    "X_test_NN = np.array(X_test_scale)\n",
    "y_train_NN = np.array(y_train)\n",
    "y_test_NN = np.array(y_test)"
   ]
  },
  {
   "cell_type": "markdown",
   "metadata": {},
   "source": [
    "### Import libraries"
   ]
  },
  {
   "cell_type": "code",
   "execution_count": 107,
   "metadata": {},
   "outputs": [
    {
     "name": "stderr",
     "output_type": "stream",
     "text": [
      "Using TensorFlow backend.\n"
     ]
    }
   ],
   "source": [
    "import keras\n",
    "from keras.models import Sequential\n",
    "from keras.layers import Dense\n",
    "from keras.layers import Dropout\n",
    "from keras.callbacks import EarlyStopping\n",
    "import keras.backend as K"
   ]
  },
  {
   "cell_type": "markdown",
   "metadata": {},
   "source": [
    "### Model Architecture"
   ]
  },
  {
   "cell_type": "markdown",
   "metadata": {},
   "source": [
    "Since, this is a classification problem, our activation function for the final output 'Dense' layer will be a 'sigmoid' function. We are also using a dropout value of 0.5."
   ]
  },
  {
   "cell_type": "code",
   "execution_count": 108,
   "metadata": {},
   "outputs": [],
   "source": [
    "K.clear_session()\n",
    "\n",
    "model = Sequential()\n",
    "model.add(Dense(12, input_dim=51, activation='relu'))\n",
    "model.add(Dense(10, activation='relu'))\n",
    "model.add(Dropout(0.5))\n",
    "model.add(Dense(8, activation='relu'))\n",
    "model.add(Dense(6, activation='relu'))\n",
    "model.add(Dense(1, activation='sigmoid'))"
   ]
  },
  {
   "cell_type": "markdown",
   "metadata": {},
   "source": [
    "### Compile Model"
   ]
  },
  {
   "cell_type": "markdown",
   "metadata": {},
   "source": [
    "Our loss will be 'binary_crossentropy' as this is a classification problem"
   ]
  },
  {
   "cell_type": "code",
   "execution_count": 109,
   "metadata": {},
   "outputs": [],
   "source": [
    "model.compile(loss='binary_crossentropy', optimizer='adam',metrics=['accuracy'])"
   ]
  },
  {
   "cell_type": "markdown",
   "metadata": {},
   "source": [
    "### Summarize Model"
   ]
  },
  {
   "cell_type": "code",
   "execution_count": 110,
   "metadata": {},
   "outputs": [
    {
     "name": "stdout",
     "output_type": "stream",
     "text": [
      "_________________________________________________________________\n",
      "Layer (type)                 Output Shape              Param #   \n",
      "=================================================================\n",
      "dense_1 (Dense)              (None, 12)                624       \n",
      "_________________________________________________________________\n",
      "dense_2 (Dense)              (None, 10)                130       \n",
      "_________________________________________________________________\n",
      "dropout_1 (Dropout)          (None, 10)                0         \n",
      "_________________________________________________________________\n",
      "dense_3 (Dense)              (None, 8)                 88        \n",
      "_________________________________________________________________\n",
      "dense_4 (Dense)              (None, 6)                 54        \n",
      "_________________________________________________________________\n",
      "dense_5 (Dense)              (None, 1)                 7         \n",
      "=================================================================\n",
      "Total params: 903\n",
      "Trainable params: 903\n",
      "Non-trainable params: 0\n",
      "_________________________________________________________________\n"
     ]
    }
   ],
   "source": [
    "model.summary()"
   ]
  },
  {
   "cell_type": "markdown",
   "metadata": {},
   "source": [
    "We can monitor 'loss' and stop iterarions if 'loss' stops changing. This will save us time while running the model. We plan to do this by using 'early_stop' as shown below"
   ]
  },
  {
   "cell_type": "code",
   "execution_count": 111,
   "metadata": {},
   "outputs": [],
   "source": [
    "early_stop = EarlyStopping(monitor='loss', patience=1, verbose=1)"
   ]
  },
  {
   "cell_type": "markdown",
   "metadata": {},
   "source": [
    "### Fit Model using training dataset"
   ]
  },
  {
   "cell_type": "code",
   "execution_count": 112,
   "metadata": {},
   "outputs": [
    {
     "name": "stdout",
     "output_type": "stream",
     "text": [
      "Epoch 1/50\n",
      "22606/22606 [==============================] - 4s 196us/step - loss: 0.3454 - acc: 0.8776\n",
      "Epoch 2/50\n",
      "22606/22606 [==============================] - 5s 203us/step - loss: 0.2689 - acc: 0.8924 0s - loss: 0.2694 - acc: 0.8\n",
      "Epoch 3/50\n",
      "22606/22606 [==============================] - 4s 172us/step - loss: 0.2456 - acc: 0.8945\n",
      "Epoch 4/50\n",
      "22606/22606 [==============================] - 4s 170us/step - loss: 0.2369 - acc: 0.8971 0s - loss: 0.2370 - acc: 0.\n",
      "Epoch 5/50\n",
      "22606/22606 [==============================] - 4s 189us/step - loss: 0.2339 - acc: 0.8976 1s\n",
      "Epoch 6/50\n",
      "22606/22606 [==============================] - 4s 197us/step - loss: 0.2319 - acc: 0.9000\n",
      "Epoch 7/50\n",
      "22606/22606 [==============================] - 6s 258us/step - loss: 0.2288 - acc: 0.9013\n",
      "Epoch 8/50\n",
      "22606/22606 [==============================] - 4s 188us/step - loss: 0.2267 - acc: 0.9007\n",
      "Epoch 9/50\n",
      "22606/22606 [==============================] - 4s 174us/step - loss: 0.2258 - acc: 0.9001\n",
      "Epoch 10/50\n",
      "22606/22606 [==============================] - 4s 157us/step - loss: 0.2240 - acc: 0.9020\n",
      "Epoch 11/50\n",
      "22606/22606 [==============================] - 3s 146us/step - loss: 0.2236 - acc: 0.9037\n",
      "Epoch 12/50\n",
      "22606/22606 [==============================] - 4s 160us/step - loss: 0.2224 - acc: 0.9038\n",
      "Epoch 13/50\n",
      "22606/22606 [==============================] - 3s 147us/step - loss: 0.2238 - acc: 0.9041\n",
      "Epoch 14/50\n",
      "22606/22606 [==============================] - 4s 162us/step - loss: 0.2200 - acc: 0.9054\n",
      "Epoch 15/50\n",
      "22606/22606 [==============================] - 4s 172us/step - loss: 0.2210 - acc: 0.9033\n",
      "Epoch 16/50\n",
      "22606/22606 [==============================] - 4s 161us/step - loss: 0.2198 - acc: 0.9051\n",
      "Epoch 17/50\n",
      "22606/22606 [==============================] - 4s 162us/step - loss: 0.2203 - acc: 0.9036\n",
      "Epoch 18/50\n",
      "22606/22606 [==============================] - 3s 151us/step - loss: 0.2188 - acc: 0.9045\n",
      "Epoch 19/50\n",
      "22606/22606 [==============================] - 4s 162us/step - loss: 0.2182 - acc: 0.9064\n",
      "Epoch 20/50\n",
      "22606/22606 [==============================] - 3s 152us/step - loss: 0.2188 - acc: 0.9052\n",
      "Epoch 21/50\n",
      "22606/22606 [==============================] - 3s 141us/step - loss: 0.2173 - acc: 0.9046\n",
      "Epoch 22/50\n",
      "22606/22606 [==============================] - 3s 152us/step - loss: 0.2163 - acc: 0.9061 0s - loss: 0.2\n",
      "Epoch 23/50\n",
      "22606/22606 [==============================] - 3s 154us/step - loss: 0.2155 - acc: 0.9061\n",
      "Epoch 24/50\n",
      "22606/22606 [==============================] - 3s 146us/step - loss: 0.2149 - acc: 0.9056\n",
      "Epoch 25/50\n",
      "22606/22606 [==============================] - 3s 143us/step - loss: 0.2140 - acc: 0.9073\n",
      "Epoch 26/50\n",
      "22606/22606 [==============================] - 4s 156us/step - loss: 0.2137 - acc: 0.9065\n",
      "Epoch 27/50\n",
      "22606/22606 [==============================] - 4s 167us/step - loss: 0.2144 - acc: 0.9056 0s - loss: 0.2138 - acc:\n",
      "Epoch 28/50\n",
      "22606/22606 [==============================] - 3s 147us/step - loss: 0.2127 - acc: 0.9057\n",
      "Epoch 29/50\n",
      "22606/22606 [==============================] - 3s 148us/step - loss: 0.2137 - acc: 0.9077\n",
      "Epoch 30/50\n",
      "22606/22606 [==============================] - 3s 141us/step - loss: 0.2144 - acc: 0.9066\n",
      "Epoch 31/50\n",
      "22606/22606 [==============================] - 3s 143us/step - loss: 0.2111 - acc: 0.9083\n",
      "Epoch 32/50\n",
      "22606/22606 [==============================] - 3s 150us/step - loss: 0.2135 - acc: 0.9080\n",
      "Epoch 33/50\n",
      "22606/22606 [==============================] - 3s 147us/step - loss: 0.2125 - acc: 0.9079\n",
      "Epoch 34/50\n",
      "22606/22606 [==============================] - 3s 152us/step - loss: 0.2113 - acc: 0.9071\n",
      "Epoch 35/50\n",
      "22606/22606 [==============================] - 3s 151us/step - loss: 0.2127 - acc: 0.9072\n",
      "Epoch 36/50\n",
      "22606/22606 [==============================] - 3s 142us/step - loss: 0.2110 - acc: 0.9106\n",
      "Epoch 37/50\n",
      "22606/22606 [==============================] - 3s 138us/step - loss: 0.2120 - acc: 0.9073\n",
      "Epoch 38/50\n",
      "22606/22606 [==============================] - 4s 156us/step - loss: 0.2136 - acc: 0.9056\n",
      "Epoch 39/50\n",
      "22606/22606 [==============================] - 3s 140us/step - loss: 0.2110 - acc: 0.9088\n",
      "Epoch 40/50\n",
      "22606/22606 [==============================] - 3s 141us/step - loss: 0.2126 - acc: 0.9063\n",
      "Epoch 41/50\n",
      "22606/22606 [==============================] - 3s 149us/step - loss: 0.2105 - acc: 0.9081\n",
      "Epoch 42/50\n",
      "22606/22606 [==============================] - 3s 137us/step - loss: 0.2113 - acc: 0.9084\n",
      "Epoch 43/50\n",
      "22606/22606 [==============================] - 3s 147us/step - loss: 0.2098 - acc: 0.9086\n",
      "Epoch 44/50\n",
      "22606/22606 [==============================] - 4s 155us/step - loss: 0.2097 - acc: 0.9091\n",
      "Epoch 45/50\n",
      "22606/22606 [==============================] - 3s 142us/step - loss: 0.2099 - acc: 0.9094\n",
      "Epoch 46/50\n",
      "22606/22606 [==============================] - 4s 160us/step - loss: 0.2105 - acc: 0.9091\n",
      "Epoch 47/50\n",
      "22606/22606 [==============================] - 4s 158us/step - loss: 0.2098 - acc: 0.9080 0s - loss: 0.210\n",
      "Epoch 48/50\n",
      "22606/22606 [==============================] - 3s 139us/step - loss: 0.2106 - acc: 0.9086\n",
      "Epoch 49/50\n",
      "22606/22606 [==============================] - 3s 148us/step - loss: 0.2098 - acc: 0.9091\n",
      "Epoch 50/50\n",
      "22606/22606 [==============================] - 3s 150us/step - loss: 0.2093 - acc: 0.9096\n"
     ]
    },
    {
     "data": {
      "text/plain": [
       "<keras.callbacks.History at 0x1fa24df9438>"
      ]
     },
     "execution_count": 112,
     "metadata": {},
     "output_type": "execute_result"
    }
   ],
   "source": [
    "model.fit(X_train_NN, y_train_NN, batch_size=15, epochs=50)"
   ]
  },
  {
   "cell_type": "markdown",
   "metadata": {},
   "source": [
    "### Performance evaluation"
   ]
  },
  {
   "cell_type": "code",
   "execution_count": 113,
   "metadata": {
    "scrolled": true
   },
   "outputs": [
    {
     "name": "stdout",
     "output_type": "stream",
     "text": [
      "22605/22605 [==============================] - 1s 27us/step\n"
     ]
    }
   ],
   "source": [
    "score = model.evaluate(X_test_NN, y_test_NN)"
   ]
  },
  {
   "cell_type": "code",
   "execution_count": 114,
   "metadata": {},
   "outputs": [
    {
     "name": "stdout",
     "output_type": "stream",
     "text": [
      "[0.21847816420403024, 0.9046228710475471]\n"
     ]
    }
   ],
   "source": [
    "print(score)"
   ]
  },
  {
   "cell_type": "markdown",
   "metadata": {},
   "source": [
    "##### Accuracy Score"
   ]
  },
  {
   "cell_type": "code",
   "execution_count": 115,
   "metadata": {},
   "outputs": [
    {
     "name": "stdout",
     "output_type": "stream",
     "text": [
      "The Accuracy score on the training set is:\t0.9046\n"
     ]
    }
   ],
   "source": [
    "print(\"The Accuracy score on the training set is:\\t{:0.4f}\".format(score[1]))"
   ]
  },
  {
   "cell_type": "markdown",
   "metadata": {},
   "source": [
    "Let's develop a confusion matrix for this model and also calculate AUC score"
   ]
  },
  {
   "cell_type": "code",
   "execution_count": 116,
   "metadata": {},
   "outputs": [],
   "source": [
    "y_pred = model.predict(X_test_NN)\n",
    "y_test_NN = pd.DataFrame(y_test_NN)"
   ]
  },
  {
   "cell_type": "code",
   "execution_count": 117,
   "metadata": {},
   "outputs": [
    {
     "data": {
      "text/plain": [
       "array([[19263,   698],\n",
       "       [ 1458,  1186]], dtype=int64)"
      ]
     },
     "execution_count": 117,
     "metadata": {},
     "output_type": "execute_result"
    }
   ],
   "source": [
    "cm_NN = confusion_matrix(y_test_NN, y_pred.round())\n",
    "cm_NN"
   ]
  },
  {
   "cell_type": "markdown",
   "metadata": {},
   "source": [
    "### AUC Score"
   ]
  },
  {
   "cell_type": "code",
   "execution_count": 118,
   "metadata": {},
   "outputs": [
    {
     "data": {
      "text/plain": [
       "0.9202231890006997"
      ]
     },
     "execution_count": 118,
     "metadata": {},
     "output_type": "execute_result"
    }
   ],
   "source": [
    "metrics.roc_auc_score(y_test_NN, y_pred)"
   ]
  },
  {
   "cell_type": "markdown",
   "metadata": {},
   "source": [
    "The above AUC score is the maximum value that we have right now."
   ]
  },
  {
   "cell_type": "markdown",
   "metadata": {},
   "source": [
    "## Compare AUC scores of all models"
   ]
  },
  {
   "cell_type": "markdown",
   "metadata": {},
   "source": [
    "We can compare the AUC scores of all the models developed by us"
   ]
  },
  {
   "cell_type": "code",
   "execution_count": 119,
   "metadata": {},
   "outputs": [],
   "source": [
    "auc = [metrics.roc_auc_score(y_test, log_pred),\n",
    "       metrics.roc_auc_score(y_test, log_model1_pred),\n",
    "       metrics.roc_auc_score(y_test, pred_y_knn5),\n",
    "       metrics.roc_auc_score(y_test, pred_y_knn1),\n",
    "      metrics.roc_auc_score(y_test_NN, y_pred)]"
   ]
  },
  {
   "cell_type": "code",
   "execution_count": 120,
   "metadata": {},
   "outputs": [
    {
     "data": {
      "text/html": [
       "<div>\n",
       "<style scoped>\n",
       "    .dataframe tbody tr th:only-of-type {\n",
       "        vertical-align: middle;\n",
       "    }\n",
       "\n",
       "    .dataframe tbody tr th {\n",
       "        vertical-align: top;\n",
       "    }\n",
       "\n",
       "    .dataframe thead th {\n",
       "        text-align: right;\n",
       "    }\n",
       "</style>\n",
       "<table border=\"1\" class=\"dataframe\">\n",
       "  <thead>\n",
       "    <tr style=\"text-align: right;\">\n",
       "      <th></th>\n",
       "      <th>AUC Score</th>\n",
       "    </tr>\n",
       "  </thead>\n",
       "  <tbody>\n",
       "    <tr>\n",
       "      <th>Logistic Regression (without class weights)</th>\n",
       "      <td>0.662817</td>\n",
       "    </tr>\n",
       "    <tr>\n",
       "      <th>Logistic Regression (with class weights)</th>\n",
       "      <td>0.831560</td>\n",
       "    </tr>\n",
       "    <tr>\n",
       "      <th>k-NN (k=5)</th>\n",
       "      <td>0.603018</td>\n",
       "    </tr>\n",
       "    <tr>\n",
       "      <th>k-NN (k=1)</th>\n",
       "      <td>0.565397</td>\n",
       "    </tr>\n",
       "    <tr>\n",
       "      <th>Deep Learning</th>\n",
       "      <td>0.920223</td>\n",
       "    </tr>\n",
       "  </tbody>\n",
       "</table>\n",
       "</div>"
      ],
      "text/plain": [
       "                                             AUC Score\n",
       "Logistic Regression (without class weights)   0.662817\n",
       "Logistic Regression (with class weights)      0.831560\n",
       "k-NN (k=5)                                    0.603018\n",
       "k-NN (k=1)                                    0.565397\n",
       "Deep Learning                                 0.920223"
      ]
     },
     "execution_count": 120,
     "metadata": {},
     "output_type": "execute_result"
    }
   ],
   "source": [
    "pd.DataFrame({'AUC Score':auc}, index = ['Logistic Regression (without class weights)', \n",
    "                                         'Logistic Regression (with class weights)',\n",
    "                                         'k-NN (k=5)','k-NN (k=1)', 'Deep Learning'])"
   ]
  },
  {
   "cell_type": "markdown",
   "metadata": {},
   "source": [
    "**We choose the deep learning neural network model as it gives the maximum AUC value of 0.920223"
   ]
  },
  {
   "cell_type": "code",
   "execution_count": null,
   "metadata": {},
   "outputs": [],
   "source": []
  }
 ],
 "metadata": {
  "kernelspec": {
   "display_name": "Python 3",
   "language": "python",
   "name": "python3"
  },
  "language_info": {
   "codemirror_mode": {
    "name": "ipython",
    "version": 3
   },
   "file_extension": ".py",
   "mimetype": "text/x-python",
   "name": "python",
   "nbconvert_exporter": "python",
   "pygments_lexer": "ipython3",
   "version": "3.6.7"
  }
 },
 "nbformat": 4,
 "nbformat_minor": 2
}
